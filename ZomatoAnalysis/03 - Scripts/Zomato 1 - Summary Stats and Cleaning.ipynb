{
 "cells": [
  {
   "cell_type": "markdown",
   "id": "566e1d05-b5d4-4c7e-94b1-595f43c264ab",
   "metadata": {},
   "source": [
    "# Importing Libraries"
   ]
  },
  {
   "cell_type": "code",
   "execution_count": 3,
   "id": "329b8a54-6d22-447a-9bac-54f400df6465",
   "metadata": {},
   "outputs": [],
   "source": [
    "import pandas as pd\n",
    "import numpy as np\n",
    "import os\n",
    "import matplotlib.pyplot as plt\n",
    "import seaborn as sns\n",
    "import scipy"
   ]
  },
  {
   "cell_type": "markdown",
   "id": "73017bab-045f-4d88-ac87-f421a2c45142",
   "metadata": {},
   "source": [
    "# Importing Data"
   ]
  },
  {
   "cell_type": "code",
   "execution_count": 133,
   "id": "cba9f778-9459-42de-8999-a5653596aae1",
   "metadata": {},
   "outputs": [],
   "source": [
    "# Importing data set\n",
    "df_zomato = pd.read_csv(r'/Users/.../Documents/Zomato Analysis/02 - Data/Original Data/zomato.csv', index_col = False)"
   ]
  },
  {
   "cell_type": "markdown",
   "id": "33dd0004-2dc8-48e9-8910-e3a631f9f1e1",
   "metadata": {},
   "source": [
    "# Data Structure"
   ]
  },
  {
   "cell_type": "code",
   "execution_count": 11,
   "id": "e5bc7d91-d401-4062-974b-c7d4a2eaaaf1",
   "metadata": {},
   "outputs": [
    {
     "data": {
      "text/html": [
       "<div>\n",
       "<style scoped>\n",
       "    .dataframe tbody tr th:only-of-type {\n",
       "        vertical-align: middle;\n",
       "    }\n",
       "\n",
       "    .dataframe tbody tr th {\n",
       "        vertical-align: top;\n",
       "    }\n",
       "\n",
       "    .dataframe thead th {\n",
       "        text-align: right;\n",
       "    }\n",
       "</style>\n",
       "<table border=\"1\" class=\"dataframe\">\n",
       "  <thead>\n",
       "    <tr style=\"text-align: right;\">\n",
       "      <th></th>\n",
       "      <th>url</th>\n",
       "      <th>address</th>\n",
       "      <th>name</th>\n",
       "      <th>online_order</th>\n",
       "      <th>book_table</th>\n",
       "      <th>rate</th>\n",
       "      <th>votes</th>\n",
       "      <th>phone</th>\n",
       "      <th>location</th>\n",
       "      <th>rest_type</th>\n",
       "      <th>dish_liked</th>\n",
       "      <th>cuisines</th>\n",
       "      <th>approx_cost(for two people)</th>\n",
       "      <th>reviews_list</th>\n",
       "      <th>menu_item</th>\n",
       "      <th>listed_in(type)</th>\n",
       "      <th>listed_in(city)</th>\n",
       "    </tr>\n",
       "  </thead>\n",
       "  <tbody>\n",
       "    <tr>\n",
       "      <th>0</th>\n",
       "      <td>https://www.zomato.com/bangalore/jalsa-banasha...</td>\n",
       "      <td>942, 21st Main Road, 2nd Stage, Banashankari, ...</td>\n",
       "      <td>Jalsa</td>\n",
       "      <td>Yes</td>\n",
       "      <td>Yes</td>\n",
       "      <td>4.1/5</td>\n",
       "      <td>775</td>\n",
       "      <td>080 42297555\\r\\n+91 9743772233</td>\n",
       "      <td>Banashankari</td>\n",
       "      <td>Casual Dining</td>\n",
       "      <td>Pasta, Lunch Buffet, Masala Papad, Paneer Laja...</td>\n",
       "      <td>North Indian, Mughlai, Chinese</td>\n",
       "      <td>800</td>\n",
       "      <td>[('Rated 4.0', 'RATED\\n  A beautiful place to ...</td>\n",
       "      <td>[]</td>\n",
       "      <td>Buffet</td>\n",
       "      <td>Banashankari</td>\n",
       "    </tr>\n",
       "    <tr>\n",
       "      <th>1</th>\n",
       "      <td>https://www.zomato.com/bangalore/spice-elephan...</td>\n",
       "      <td>2nd Floor, 80 Feet Road, Near Big Bazaar, 6th ...</td>\n",
       "      <td>Spice Elephant</td>\n",
       "      <td>Yes</td>\n",
       "      <td>No</td>\n",
       "      <td>4.1/5</td>\n",
       "      <td>787</td>\n",
       "      <td>080 41714161</td>\n",
       "      <td>Banashankari</td>\n",
       "      <td>Casual Dining</td>\n",
       "      <td>Momos, Lunch Buffet, Chocolate Nirvana, Thai G...</td>\n",
       "      <td>Chinese, North Indian, Thai</td>\n",
       "      <td>800</td>\n",
       "      <td>[('Rated 4.0', 'RATED\\n  Had been here for din...</td>\n",
       "      <td>[]</td>\n",
       "      <td>Buffet</td>\n",
       "      <td>Banashankari</td>\n",
       "    </tr>\n",
       "    <tr>\n",
       "      <th>2</th>\n",
       "      <td>https://www.zomato.com/SanchurroBangalore?cont...</td>\n",
       "      <td>1112, Next to KIMS Medical College, 17th Cross...</td>\n",
       "      <td>San Churro Cafe</td>\n",
       "      <td>Yes</td>\n",
       "      <td>No</td>\n",
       "      <td>3.8/5</td>\n",
       "      <td>918</td>\n",
       "      <td>+91 9663487993</td>\n",
       "      <td>Banashankari</td>\n",
       "      <td>Cafe, Casual Dining</td>\n",
       "      <td>Churros, Cannelloni, Minestrone Soup, Hot Choc...</td>\n",
       "      <td>Cafe, Mexican, Italian</td>\n",
       "      <td>800</td>\n",
       "      <td>[('Rated 3.0', \"RATED\\n  Ambience is not that ...</td>\n",
       "      <td>[]</td>\n",
       "      <td>Buffet</td>\n",
       "      <td>Banashankari</td>\n",
       "    </tr>\n",
       "    <tr>\n",
       "      <th>3</th>\n",
       "      <td>https://www.zomato.com/bangalore/addhuri-udupi...</td>\n",
       "      <td>1st Floor, Annakuteera, 3rd Stage, Banashankar...</td>\n",
       "      <td>Addhuri Udupi Bhojana</td>\n",
       "      <td>No</td>\n",
       "      <td>No</td>\n",
       "      <td>3.7/5</td>\n",
       "      <td>88</td>\n",
       "      <td>+91 9620009302</td>\n",
       "      <td>Banashankari</td>\n",
       "      <td>Quick Bites</td>\n",
       "      <td>Masala Dosa</td>\n",
       "      <td>South Indian, North Indian</td>\n",
       "      <td>300</td>\n",
       "      <td>[('Rated 4.0', \"RATED\\n  Great food and proper...</td>\n",
       "      <td>[]</td>\n",
       "      <td>Buffet</td>\n",
       "      <td>Banashankari</td>\n",
       "    </tr>\n",
       "    <tr>\n",
       "      <th>4</th>\n",
       "      <td>https://www.zomato.com/bangalore/grand-village...</td>\n",
       "      <td>10, 3rd Floor, Lakshmi Associates, Gandhi Baza...</td>\n",
       "      <td>Grand Village</td>\n",
       "      <td>No</td>\n",
       "      <td>No</td>\n",
       "      <td>3.8/5</td>\n",
       "      <td>166</td>\n",
       "      <td>+91 8026612447\\r\\n+91 9901210005</td>\n",
       "      <td>Basavanagudi</td>\n",
       "      <td>Casual Dining</td>\n",
       "      <td>Panipuri, Gol Gappe</td>\n",
       "      <td>North Indian, Rajasthani</td>\n",
       "      <td>600</td>\n",
       "      <td>[('Rated 4.0', 'RATED\\n  Very good restaurant ...</td>\n",
       "      <td>[]</td>\n",
       "      <td>Buffet</td>\n",
       "      <td>Banashankari</td>\n",
       "    </tr>\n",
       "    <tr>\n",
       "      <th>...</th>\n",
       "      <td>...</td>\n",
       "      <td>...</td>\n",
       "      <td>...</td>\n",
       "      <td>...</td>\n",
       "      <td>...</td>\n",
       "      <td>...</td>\n",
       "      <td>...</td>\n",
       "      <td>...</td>\n",
       "      <td>...</td>\n",
       "      <td>...</td>\n",
       "      <td>...</td>\n",
       "      <td>...</td>\n",
       "      <td>...</td>\n",
       "      <td>...</td>\n",
       "      <td>...</td>\n",
       "      <td>...</td>\n",
       "      <td>...</td>\n",
       "    </tr>\n",
       "    <tr>\n",
       "      <th>51712</th>\n",
       "      <td>https://www.zomato.com/bangalore/best-brews-fo...</td>\n",
       "      <td>Four Points by Sheraton Bengaluru, 43/3, White...</td>\n",
       "      <td>Best Brews - Four Points by Sheraton Bengaluru...</td>\n",
       "      <td>No</td>\n",
       "      <td>No</td>\n",
       "      <td>3.6 /5</td>\n",
       "      <td>27</td>\n",
       "      <td>080 40301477</td>\n",
       "      <td>Whitefield</td>\n",
       "      <td>Bar</td>\n",
       "      <td>NaN</td>\n",
       "      <td>Continental</td>\n",
       "      <td>1,500</td>\n",
       "      <td>[('Rated 5.0', \"RATED\\n  Food and service are ...</td>\n",
       "      <td>[]</td>\n",
       "      <td>Pubs and bars</td>\n",
       "      <td>Whitefield</td>\n",
       "    </tr>\n",
       "    <tr>\n",
       "      <th>51713</th>\n",
       "      <td>https://www.zomato.com/bangalore/vinod-bar-and...</td>\n",
       "      <td>Number 10, Garudachar Palya, Mahadevapura, Whi...</td>\n",
       "      <td>Vinod Bar And Restaurant</td>\n",
       "      <td>No</td>\n",
       "      <td>No</td>\n",
       "      <td>NaN</td>\n",
       "      <td>0</td>\n",
       "      <td>+91 8197675843</td>\n",
       "      <td>Whitefield</td>\n",
       "      <td>Bar</td>\n",
       "      <td>NaN</td>\n",
       "      <td>Finger Food</td>\n",
       "      <td>600</td>\n",
       "      <td>[]</td>\n",
       "      <td>[]</td>\n",
       "      <td>Pubs and bars</td>\n",
       "      <td>Whitefield</td>\n",
       "    </tr>\n",
       "    <tr>\n",
       "      <th>51714</th>\n",
       "      <td>https://www.zomato.com/bangalore/plunge-sherat...</td>\n",
       "      <td>Sheraton Grand Bengaluru Whitefield Hotel &amp; Co...</td>\n",
       "      <td>Plunge - Sheraton Grand Bengaluru Whitefield H...</td>\n",
       "      <td>No</td>\n",
       "      <td>No</td>\n",
       "      <td>NaN</td>\n",
       "      <td>0</td>\n",
       "      <td>NaN</td>\n",
       "      <td>Whitefield</td>\n",
       "      <td>Bar</td>\n",
       "      <td>NaN</td>\n",
       "      <td>Finger Food</td>\n",
       "      <td>2,000</td>\n",
       "      <td>[]</td>\n",
       "      <td>[]</td>\n",
       "      <td>Pubs and bars</td>\n",
       "      <td>Whitefield</td>\n",
       "    </tr>\n",
       "    <tr>\n",
       "      <th>51715</th>\n",
       "      <td>https://www.zomato.com/bangalore/chime-sherato...</td>\n",
       "      <td>Sheraton Grand Bengaluru Whitefield Hotel &amp; Co...</td>\n",
       "      <td>Chime - Sheraton Grand Bengaluru Whitefield Ho...</td>\n",
       "      <td>No</td>\n",
       "      <td>Yes</td>\n",
       "      <td>4.3 /5</td>\n",
       "      <td>236</td>\n",
       "      <td>080 49652769</td>\n",
       "      <td>ITPL Main Road, Whitefield</td>\n",
       "      <td>Bar</td>\n",
       "      <td>Cocktails, Pizza, Buttermilk</td>\n",
       "      <td>Finger Food</td>\n",
       "      <td>2,500</td>\n",
       "      <td>[('Rated 4.0', 'RATED\\n  Nice and friendly pla...</td>\n",
       "      <td>[]</td>\n",
       "      <td>Pubs and bars</td>\n",
       "      <td>Whitefield</td>\n",
       "    </tr>\n",
       "    <tr>\n",
       "      <th>51716</th>\n",
       "      <td>https://www.zomato.com/bangalore/the-nest-the-...</td>\n",
       "      <td>ITPL Main Road, KIADB Export Promotion Industr...</td>\n",
       "      <td>The Nest - The Den Bengaluru</td>\n",
       "      <td>No</td>\n",
       "      <td>No</td>\n",
       "      <td>3.4 /5</td>\n",
       "      <td>13</td>\n",
       "      <td>+91 8071117272</td>\n",
       "      <td>ITPL Main Road, Whitefield</td>\n",
       "      <td>Bar, Casual Dining</td>\n",
       "      <td>NaN</td>\n",
       "      <td>Finger Food, North Indian, Continental</td>\n",
       "      <td>1,500</td>\n",
       "      <td>[('Rated 5.0', 'RATED\\n  Great ambience , look...</td>\n",
       "      <td>[]</td>\n",
       "      <td>Pubs and bars</td>\n",
       "      <td>Whitefield</td>\n",
       "    </tr>\n",
       "  </tbody>\n",
       "</table>\n",
       "<p>51717 rows × 17 columns</p>\n",
       "</div>"
      ],
      "text/plain": [
       "                                                     url  \\\n",
       "0      https://www.zomato.com/bangalore/jalsa-banasha...   \n",
       "1      https://www.zomato.com/bangalore/spice-elephan...   \n",
       "2      https://www.zomato.com/SanchurroBangalore?cont...   \n",
       "3      https://www.zomato.com/bangalore/addhuri-udupi...   \n",
       "4      https://www.zomato.com/bangalore/grand-village...   \n",
       "...                                                  ...   \n",
       "51712  https://www.zomato.com/bangalore/best-brews-fo...   \n",
       "51713  https://www.zomato.com/bangalore/vinod-bar-and...   \n",
       "51714  https://www.zomato.com/bangalore/plunge-sherat...   \n",
       "51715  https://www.zomato.com/bangalore/chime-sherato...   \n",
       "51716  https://www.zomato.com/bangalore/the-nest-the-...   \n",
       "\n",
       "                                                 address  \\\n",
       "0      942, 21st Main Road, 2nd Stage, Banashankari, ...   \n",
       "1      2nd Floor, 80 Feet Road, Near Big Bazaar, 6th ...   \n",
       "2      1112, Next to KIMS Medical College, 17th Cross...   \n",
       "3      1st Floor, Annakuteera, 3rd Stage, Banashankar...   \n",
       "4      10, 3rd Floor, Lakshmi Associates, Gandhi Baza...   \n",
       "...                                                  ...   \n",
       "51712  Four Points by Sheraton Bengaluru, 43/3, White...   \n",
       "51713  Number 10, Garudachar Palya, Mahadevapura, Whi...   \n",
       "51714  Sheraton Grand Bengaluru Whitefield Hotel & Co...   \n",
       "51715  Sheraton Grand Bengaluru Whitefield Hotel & Co...   \n",
       "51716  ITPL Main Road, KIADB Export Promotion Industr...   \n",
       "\n",
       "                                                    name online_order  \\\n",
       "0                                                  Jalsa          Yes   \n",
       "1                                         Spice Elephant          Yes   \n",
       "2                                        San Churro Cafe          Yes   \n",
       "3                                  Addhuri Udupi Bhojana           No   \n",
       "4                                          Grand Village           No   \n",
       "...                                                  ...          ...   \n",
       "51712  Best Brews - Four Points by Sheraton Bengaluru...           No   \n",
       "51713                           Vinod Bar And Restaurant           No   \n",
       "51714  Plunge - Sheraton Grand Bengaluru Whitefield H...           No   \n",
       "51715  Chime - Sheraton Grand Bengaluru Whitefield Ho...           No   \n",
       "51716                       The Nest - The Den Bengaluru           No   \n",
       "\n",
       "      book_table    rate  votes                             phone  \\\n",
       "0            Yes   4.1/5    775    080 42297555\\r\\n+91 9743772233   \n",
       "1             No   4.1/5    787                      080 41714161   \n",
       "2             No   3.8/5    918                    +91 9663487993   \n",
       "3             No   3.7/5     88                    +91 9620009302   \n",
       "4             No   3.8/5    166  +91 8026612447\\r\\n+91 9901210005   \n",
       "...          ...     ...    ...                               ...   \n",
       "51712         No  3.6 /5     27                      080 40301477   \n",
       "51713         No     NaN      0                    +91 8197675843   \n",
       "51714         No     NaN      0                               NaN   \n",
       "51715        Yes  4.3 /5    236                      080 49652769   \n",
       "51716         No  3.4 /5     13                    +91 8071117272   \n",
       "\n",
       "                         location            rest_type  \\\n",
       "0                    Banashankari        Casual Dining   \n",
       "1                    Banashankari        Casual Dining   \n",
       "2                    Banashankari  Cafe, Casual Dining   \n",
       "3                    Banashankari          Quick Bites   \n",
       "4                    Basavanagudi        Casual Dining   \n",
       "...                           ...                  ...   \n",
       "51712                  Whitefield                  Bar   \n",
       "51713                  Whitefield                  Bar   \n",
       "51714                  Whitefield                  Bar   \n",
       "51715  ITPL Main Road, Whitefield                  Bar   \n",
       "51716  ITPL Main Road, Whitefield   Bar, Casual Dining   \n",
       "\n",
       "                                              dish_liked  \\\n",
       "0      Pasta, Lunch Buffet, Masala Papad, Paneer Laja...   \n",
       "1      Momos, Lunch Buffet, Chocolate Nirvana, Thai G...   \n",
       "2      Churros, Cannelloni, Minestrone Soup, Hot Choc...   \n",
       "3                                            Masala Dosa   \n",
       "4                                    Panipuri, Gol Gappe   \n",
       "...                                                  ...   \n",
       "51712                                                NaN   \n",
       "51713                                                NaN   \n",
       "51714                                                NaN   \n",
       "51715                       Cocktails, Pizza, Buttermilk   \n",
       "51716                                                NaN   \n",
       "\n",
       "                                     cuisines approx_cost(for two people)  \\\n",
       "0              North Indian, Mughlai, Chinese                         800   \n",
       "1                 Chinese, North Indian, Thai                         800   \n",
       "2                      Cafe, Mexican, Italian                         800   \n",
       "3                  South Indian, North Indian                         300   \n",
       "4                    North Indian, Rajasthani                         600   \n",
       "...                                       ...                         ...   \n",
       "51712                             Continental                       1,500   \n",
       "51713                             Finger Food                         600   \n",
       "51714                             Finger Food                       2,000   \n",
       "51715                             Finger Food                       2,500   \n",
       "51716  Finger Food, North Indian, Continental                       1,500   \n",
       "\n",
       "                                            reviews_list menu_item  \\\n",
       "0      [('Rated 4.0', 'RATED\\n  A beautiful place to ...        []   \n",
       "1      [('Rated 4.0', 'RATED\\n  Had been here for din...        []   \n",
       "2      [('Rated 3.0', \"RATED\\n  Ambience is not that ...        []   \n",
       "3      [('Rated 4.0', \"RATED\\n  Great food and proper...        []   \n",
       "4      [('Rated 4.0', 'RATED\\n  Very good restaurant ...        []   \n",
       "...                                                  ...       ...   \n",
       "51712  [('Rated 5.0', \"RATED\\n  Food and service are ...        []   \n",
       "51713                                                 []        []   \n",
       "51714                                                 []        []   \n",
       "51715  [('Rated 4.0', 'RATED\\n  Nice and friendly pla...        []   \n",
       "51716  [('Rated 5.0', 'RATED\\n  Great ambience , look...        []   \n",
       "\n",
       "      listed_in(type) listed_in(city)  \n",
       "0              Buffet    Banashankari  \n",
       "1              Buffet    Banashankari  \n",
       "2              Buffet    Banashankari  \n",
       "3              Buffet    Banashankari  \n",
       "4              Buffet    Banashankari  \n",
       "...               ...             ...  \n",
       "51712   Pubs and bars      Whitefield  \n",
       "51713   Pubs and bars      Whitefield  \n",
       "51714   Pubs and bars      Whitefield  \n",
       "51715   Pubs and bars      Whitefield  \n",
       "51716   Pubs and bars      Whitefield  \n",
       "\n",
       "[51717 rows x 17 columns]"
      ]
     },
     "execution_count": 11,
     "metadata": {},
     "output_type": "execute_result"
    }
   ],
   "source": [
    "df_zomato"
   ]
  },
  {
   "cell_type": "code",
   "execution_count": 13,
   "id": "4b6bc704-3069-4378-8132-c9efb4950869",
   "metadata": {},
   "outputs": [
    {
     "name": "stdout",
     "output_type": "stream",
     "text": [
      "<class 'pandas.core.frame.DataFrame'>\n",
      "RangeIndex: 51717 entries, 0 to 51716\n",
      "Data columns (total 17 columns):\n",
      " #   Column                       Non-Null Count  Dtype \n",
      "---  ------                       --------------  ----- \n",
      " 0   url                          51717 non-null  object\n",
      " 1   address                      51717 non-null  object\n",
      " 2   name                         51717 non-null  object\n",
      " 3   online_order                 51717 non-null  object\n",
      " 4   book_table                   51717 non-null  object\n",
      " 5   rate                         43942 non-null  object\n",
      " 6   votes                        51717 non-null  int64 \n",
      " 7   phone                        50509 non-null  object\n",
      " 8   location                     51696 non-null  object\n",
      " 9   rest_type                    51490 non-null  object\n",
      " 10  dish_liked                   23639 non-null  object\n",
      " 11  cuisines                     51672 non-null  object\n",
      " 12  approx_cost(for two people)  51371 non-null  object\n",
      " 13  reviews_list                 51717 non-null  object\n",
      " 14  menu_item                    51717 non-null  object\n",
      " 15  listed_in(type)              51717 non-null  object\n",
      " 16  listed_in(city)              51717 non-null  object\n",
      "dtypes: int64(1), object(16)\n",
      "memory usage: 6.7+ MB\n"
     ]
    }
   ],
   "source": [
    "# Show column data types\n",
    "df_zomato.info()"
   ]
  },
  {
   "cell_type": "code",
   "execution_count": 15,
   "id": "4b00d950-98aa-44c8-b92b-aff969c2992f",
   "metadata": {},
   "outputs": [
    {
     "name": "stdout",
     "output_type": "stream",
     "text": [
      "Empty DataFrame\n",
      "Columns: []\n",
      "Index: [0, 1, 2, 3, 4]\n"
     ]
    }
   ],
   "source": [
    "# Find Columns Containing Floats\n",
    "float_cols = df_zomato.select_dtypes(include=['float'])\n",
    "print(float_cols.head())"
   ]
  },
  {
   "cell_type": "code",
   "execution_count": 17,
   "id": "025313b5-5d7a-4284-b89e-e8ca5ece935c",
   "metadata": {},
   "outputs": [
    {
     "name": "stdout",
     "output_type": "stream",
     "text": [
      "                                                 url  \\\n",
      "0  https://www.zomato.com/bangalore/jalsa-banasha...   \n",
      "1  https://www.zomato.com/bangalore/spice-elephan...   \n",
      "2  https://www.zomato.com/SanchurroBangalore?cont...   \n",
      "3  https://www.zomato.com/bangalore/addhuri-udupi...   \n",
      "4  https://www.zomato.com/bangalore/grand-village...   \n",
      "\n",
      "                                             address                   name  \\\n",
      "0  942, 21st Main Road, 2nd Stage, Banashankari, ...                  Jalsa   \n",
      "1  2nd Floor, 80 Feet Road, Near Big Bazaar, 6th ...         Spice Elephant   \n",
      "2  1112, Next to KIMS Medical College, 17th Cross...        San Churro Cafe   \n",
      "3  1st Floor, Annakuteera, 3rd Stage, Banashankar...  Addhuri Udupi Bhojana   \n",
      "4  10, 3rd Floor, Lakshmi Associates, Gandhi Baza...          Grand Village   \n",
      "\n",
      "  online_order book_table   rate                             phone  \\\n",
      "0          Yes        Yes  4.1/5    080 42297555\\r\\n+91 9743772233   \n",
      "1          Yes         No  4.1/5                      080 41714161   \n",
      "2          Yes         No  3.8/5                    +91 9663487993   \n",
      "3           No         No  3.7/5                    +91 9620009302   \n",
      "4           No         No  3.8/5  +91 8026612447\\r\\n+91 9901210005   \n",
      "\n",
      "       location            rest_type  \\\n",
      "0  Banashankari        Casual Dining   \n",
      "1  Banashankari        Casual Dining   \n",
      "2  Banashankari  Cafe, Casual Dining   \n",
      "3  Banashankari          Quick Bites   \n",
      "4  Basavanagudi        Casual Dining   \n",
      "\n",
      "                                          dish_liked  \\\n",
      "0  Pasta, Lunch Buffet, Masala Papad, Paneer Laja...   \n",
      "1  Momos, Lunch Buffet, Chocolate Nirvana, Thai G...   \n",
      "2  Churros, Cannelloni, Minestrone Soup, Hot Choc...   \n",
      "3                                        Masala Dosa   \n",
      "4                                Panipuri, Gol Gappe   \n",
      "\n",
      "                         cuisines approx_cost(for two people)  \\\n",
      "0  North Indian, Mughlai, Chinese                         800   \n",
      "1     Chinese, North Indian, Thai                         800   \n",
      "2          Cafe, Mexican, Italian                         800   \n",
      "3      South Indian, North Indian                         300   \n",
      "4        North Indian, Rajasthani                         600   \n",
      "\n",
      "                                        reviews_list menu_item  \\\n",
      "0  [('Rated 4.0', 'RATED\\n  A beautiful place to ...        []   \n",
      "1  [('Rated 4.0', 'RATED\\n  Had been here for din...        []   \n",
      "2  [('Rated 3.0', \"RATED\\n  Ambience is not that ...        []   \n",
      "3  [('Rated 4.0', \"RATED\\n  Great food and proper...        []   \n",
      "4  [('Rated 4.0', 'RATED\\n  Very good restaurant ...        []   \n",
      "\n",
      "  listed_in(type) listed_in(city)  \n",
      "0          Buffet    Banashankari  \n",
      "1          Buffet    Banashankari  \n",
      "2          Buffet    Banashankari  \n",
      "3          Buffet    Banashankari  \n",
      "4          Buffet    Banashankari  \n"
     ]
    }
   ],
   "source": [
    "# Find Columns Containing Strings (Objects)\n",
    "object_cols = df_zomato.select_dtypes(include=['object'])\n",
    "print(object_cols.head())"
   ]
  },
  {
   "cell_type": "code",
   "execution_count": 25,
   "id": "d3133840-89da-407b-a999-1315008a63e1",
   "metadata": {},
   "outputs": [
    {
     "data": {
      "text/plain": [
       "name\n",
       "False    51703\n",
       "True        14\n",
       "Name: count, dtype: int64"
      ]
     },
     "execution_count": 25,
     "metadata": {},
     "output_type": "execute_result"
    }
   ],
   "source": [
    "# Check If \"Object\" Columns Contain Numeric Data\n",
    "df_zomato['name'].str.isnumeric().value_counts()"
   ]
  },
  {
   "cell_type": "code",
   "execution_count": 27,
   "id": "3fb9b667-a540-4739-9c9b-08298f17649e",
   "metadata": {},
   "outputs": [
    {
     "data": {
      "text/plain": [
       "online_order\n",
       "False    51717\n",
       "Name: count, dtype: int64"
      ]
     },
     "execution_count": 27,
     "metadata": {},
     "output_type": "execute_result"
    }
   ],
   "source": [
    "# Check If \"Object\" Columns Contain Numeric Data\n",
    "df_zomato['online_order'].str.isnumeric().value_counts()"
   ]
  },
  {
   "cell_type": "code",
   "execution_count": 29,
   "id": "2a7481ec-3879-47fc-a19f-3e7ec546dfe5",
   "metadata": {},
   "outputs": [
    {
     "data": {
      "text/plain": [
       "book_table\n",
       "False    51717\n",
       "Name: count, dtype: int64"
      ]
     },
     "execution_count": 29,
     "metadata": {},
     "output_type": "execute_result"
    }
   ],
   "source": [
    "# Check If \"Object\" Columns Contain Numeric Data\n",
    "df_zomato['book_table'].str.isnumeric().value_counts()"
   ]
  },
  {
   "cell_type": "code",
   "execution_count": 31,
   "id": "6bc79ab6-973f-4c61-a36c-1870b825e04e",
   "metadata": {},
   "outputs": [
    {
     "data": {
      "text/plain": [
       "location\n",
       "False    51696\n",
       "Name: count, dtype: int64"
      ]
     },
     "execution_count": 31,
     "metadata": {},
     "output_type": "execute_result"
    }
   ],
   "source": [
    "# Check If \"Object\" Columns Contain Numeric Data\n",
    "df_zomato['location'].str.isnumeric().value_counts()"
   ]
  },
  {
   "cell_type": "code",
   "execution_count": 33,
   "id": "22760deb-2bb9-4b54-9031-5c5079be375c",
   "metadata": {},
   "outputs": [
    {
     "data": {
      "text/plain": [
       "rest_type\n",
       "False    51490\n",
       "Name: count, dtype: int64"
      ]
     },
     "execution_count": 33,
     "metadata": {},
     "output_type": "execute_result"
    }
   ],
   "source": [
    "# Check If \"Object\" Columns Contain Numeric Data\n",
    "df_zomato['rest_type'].str.isnumeric().value_counts()"
   ]
  },
  {
   "cell_type": "code",
   "execution_count": 35,
   "id": "9d091c91-0373-4e8c-a5f4-3bb32ed54890",
   "metadata": {},
   "outputs": [
    {
     "data": {
      "text/plain": [
       "dish_liked\n",
       "False    23639\n",
       "Name: count, dtype: int64"
      ]
     },
     "execution_count": 35,
     "metadata": {},
     "output_type": "execute_result"
    }
   ],
   "source": [
    "# Check If \"Object\" Columns Contain Numeric Data\n",
    "df_zomato['dish_liked'].str.isnumeric().value_counts()"
   ]
  },
  {
   "cell_type": "code",
   "execution_count": 37,
   "id": "883ba9f6-4291-4496-9cd9-2bb27b6e6fe1",
   "metadata": {},
   "outputs": [
    {
     "data": {
      "text/plain": [
       "cuisines\n",
       "False    51672\n",
       "Name: count, dtype: int64"
      ]
     },
     "execution_count": 37,
     "metadata": {},
     "output_type": "execute_result"
    }
   ],
   "source": [
    "# Check If \"Object\" Columns Contain Numeric Data\n",
    "df_zomato['cuisines'].str.isnumeric().value_counts()"
   ]
  },
  {
   "cell_type": "code",
   "execution_count": 39,
   "id": "40f7c479-48c5-4da9-bef4-636ea71f5063",
   "metadata": {},
   "outputs": [
    {
     "data": {
      "text/plain": [
       "approx_cost(for two people)\n",
       "True     44454\n",
       "False     6917\n",
       "Name: count, dtype: int64"
      ]
     },
     "execution_count": 39,
     "metadata": {},
     "output_type": "execute_result"
    }
   ],
   "source": [
    "# Check If \"Object\" Columns Contain Numeric Data\n",
    "df_zomato['approx_cost(for two people)'].str.isnumeric().value_counts()"
   ]
  },
  {
   "cell_type": "code",
   "execution_count": 41,
   "id": "e18c7ed8-a22b-441b-bc83-2f3e1892a585",
   "metadata": {},
   "outputs": [
    {
     "data": {
      "text/plain": [
       "menu_item\n",
       "False    51717\n",
       "Name: count, dtype: int64"
      ]
     },
     "execution_count": 41,
     "metadata": {},
     "output_type": "execute_result"
    }
   ],
   "source": [
    "# Check If \"Object\" Columns Contain Numeric Data\n",
    "df_zomato['menu_item'].str.isnumeric().value_counts()"
   ]
  },
  {
   "cell_type": "code",
   "execution_count": 45,
   "id": "bd16d153-4cac-44bc-ad6d-0b3b8f2027b0",
   "metadata": {},
   "outputs": [
    {
     "data": {
      "text/plain": [
       "listed_in(type)\n",
       "False    51717\n",
       "Name: count, dtype: int64"
      ]
     },
     "execution_count": 45,
     "metadata": {},
     "output_type": "execute_result"
    }
   ],
   "source": [
    "# Check If \"Object\" Columns Contain Numeric Data\n",
    "df_zomato['listed_in(type)'].str.isnumeric().value_counts()"
   ]
  },
  {
   "cell_type": "code",
   "execution_count": 47,
   "id": "feccff87-4657-46a1-bdf8-5c377fa685c0",
   "metadata": {},
   "outputs": [
    {
     "data": {
      "text/plain": [
       "listed_in(city)\n",
       "False    51717\n",
       "Name: count, dtype: int64"
      ]
     },
     "execution_count": 47,
     "metadata": {},
     "output_type": "execute_result"
    }
   ],
   "source": [
    "# Check If \"Object\" Columns Contain Numeric Data\n",
    "df_zomato['listed_in(city)'].str.isnumeric().value_counts()"
   ]
  },
  {
   "cell_type": "code",
   "execution_count": 49,
   "id": "3b794aac-d5e2-4a7e-b1e2-be662269df07",
   "metadata": {},
   "outputs": [
    {
     "name": "stdout",
     "output_type": "stream",
     "text": [
      "0        []\n",
      "1        []\n",
      "2        []\n",
      "3        []\n",
      "4        []\n",
      "         ..\n",
      "51712    []\n",
      "51713    []\n",
      "51714    []\n",
      "51715    []\n",
      "51716    []\n",
      "Name: menu_item, Length: 51717, dtype: object\n"
     ]
    }
   ],
   "source": [
    "# Show Column Content Without Truncation\n",
    "pd.set_option('display.max_colwidth', None)\n",
    "print(df_zomato[\"menu_item\"])"
   ]
  },
  {
   "cell_type": "code",
   "execution_count": 57,
   "id": "fa3dce2e-a295-4b41-a742-eab6446293a7",
   "metadata": {},
   "outputs": [
    {
     "name": "stdout",
     "output_type": "stream",
     "text": [
      "['[]'\n",
      " \"['Chocolate Fantasy (Pack Of 5)', 'Pan Cake (Pack Of 6)', 'Gulab Jamun (Pack Of 10)', 'Gulkand Shot (Pack Of 5)', 'Chocolate Decadence (Pack of 2)', 'CheeseCake (Pack Of 2)', 'Red Velvet Slice Cake (Pack of 2)', 'Red Velvet Slice Cake & Cheese Cake (Pack of 2)', 'Red Velvet Slice Cake & Chocolate Decadence Cake (Pack of 2)', 'Hazelnut Brownie (Pack of 2)', 'Moments', 'Red Velvet Cake With Butter Cream Frosting (750 Gm)', 'Red Velvet Slice Cake (Pack of 2)', 'Red Velvet Slice Cake & Cheese Cake (Pack of 2)', 'Red Velvet Slice Cake & Chocolate Decadence Cake (Pack of 2)', 'Red Velvet Slice Cake (Pack of 1)', 'Valentine Red Velvet Jar', 'Valentine Chocolate Jar', 'Valentines Jar Combo', 'Pink Guava 500 ML', 'Oreo Vanilla 500 ML', 'Cookie Crumble 500 ML', 'Chocolate Fantasy', 'Gulkand-E-Bahar', 'Pan Cake', 'Hazelnut Brownie (Pack Of 1)', 'Gulab Jamun (Pack Of 2)', 'Plum Cake', 'Red Velvet Cake With Butter Cream Frosting (750 Gm)', 'Chocolate Mud Cake (700 Gms)', 'CheeseCake (Pack of 1)', 'Chocolate Decadence (Pack of 1)', 'Red Velvet Slice Cake (Pack of 1)']\"\n",
      " \"['Chole Kulcha Meal', 'Upvas Aloo Paratha With Dahi', 'Singhada Aloo Paratha with Hare Tamatar Ki Sabji', 'Smoked Butter Chicken Combo', 'Paneer Methi Chaman Combo', 'Mutton Bhuna Combo', 'Rajma Masala Meal', 'Dal Makhani Veg Starter Combo', 'Dal Makhani Non-Veg Starter Combo', 'Malai Kofta Combo', 'Jumbo Chicken Wrap', 'Jumbo Veg Wrap', 'Jumbo Falafel Salsa Wrap', 'Chicken Overload Jumbo Wrap', 'Veg Pizza Wrap', 'Chicken Pizza Wrap', 'Mexican Potato Salsa Wrap', 'American Smokey Sausage Wrap', 'Makhani Falafel Wrap', 'Mutton Overload Wrap', 'Mac & Cheese Chicken Wrap', 'Mac & Cheese Veg Wrap', 'Barbeque Chicken Wrap', 'Mutton Boti Wrap', 'Masala Paneer Tikka Wrap', 'Fiery Paneer Tikka Wrap', 'Masala Chicken Tikka Wrap', 'Cheesy Corn Salsa Wrap', 'Chicken Mayo Wrap', 'Cheese Melt Chicken Wrap', 'Cheese Melt Paneer Wrap', 'Double Cheese Meatball Wrap', 'Reshmi Chicken Kebab Wrap', 'Egg Cheese Sausage Wrap', 'Double Egg Chatpata Wrap', 'Cheesy Potato Wrap', 'Veg Falafel Wrap', 'Chicken Bhuna Wrap', 'Chatpate Chole Wrap', 'Fiery Paneer Wrap', 'Fiery Chicken Wrap', 'Mac & Cheese Wrap', 'Hare Tamatar & Sabudana Wada Royal Thali', 'Singhada Aloo Paratha & Hare Tamatar Royal Satvik Meal', 'Smoked Butter Chicken With Omelette', 'Rajma Masala Royal Combo', 'Paneer Methi Chaman Royal Combo', 'Mutton Bhuna Royal Combo', 'Smoked Butter Chicken Royal Combo', 'Malai Kofta Royal Combo', 'Fusion Breakfast', 'Pan Cake', 'Aloo Paratha Combo', 'Chai for 4', 'Cheesy Chicken Meatballs', 'Peach Tea (Serves 4)', 'Falafel Nuggets with Mayo Dip', 'Potato Chilli Shots with Mayo Dip', 'Pan Cake', 'Kashmiri Kahwa (Serves 4)', 'Masala Chai (Serves 4)', 'Chai for 4 + Nature valley bar', 'Kulcha', 'Flavorful Rice Tub', 'Dal Makhani Bowl (Half KG)', 'Smoked Butter Chicken Bowl (Half KG)', 'Mutton Bhuna Bowl (Half KG)', 'Singhada Aloo Paratha Tub', 'Curd Bowl (Half KG)', 'Hare Tamatar Ki Subji (Half KG)', 'Rajma Masala Bowl (Half KG)', 'Triangle Paratha Tub', 'Malai Kofta Bowl (Half Kg)', 'Chocolate Fantasy', 'SWIG Jeera Masala', 'SWIG Green apple', 'Kesar Muesli', 'Gulab Jamun (Pack Of 2)', 'Plum Cake', 'Gulab Jamun (Pack of 1)', 'Moments', 'Hazelnut Brownie (Pack Of 1)', 'CheeseCake (Pack of 1)', 'Chocolate Decadence (Pack of 1)', 'Red Velvet Slice Cake (Pack of 1)', 'Mint Chaas']\"\n",
      " ...\n",
      " '[\\'Veg Thai Green Curry\\', \\'BBQ Sloppy Chicken Burger\\', \"Harry\\'s Farm House Pizza\", \\'Egg Schezwan Fried Rice\\', \\'Chicken Schezwan Noodles\\', \\'Veg Platter\\', \\'Non Veg Platter\\', \\'Tom Yum Goong\\', \\'Tandoori Kalonji Aloo\\', \\'Tandoori Pesto Flowerets\\', \\'Paneer and Pineapple Tikka\\', \\'Adraki Soy Chilli Chicken Kebab\\', \\'Tandoori Chicken Lollipop\\', \\'Parpika Choosa\\', \\'Lamb Seekh Kebab\\', \\'Achari Fish Tikka\\', \\'Rumali Roti\\', \\'Naan\\', \\'Butter Naan\\', \\'Garlic Naan\\', \\'Butter Garlic Naan\\', \\'Cheese Naan\\', \\'Butter Garlic Cheese Naan\\', \\'Garlic Cheese Naan\\', \\'Veg Fried Rice\\', \\'Veg Schezwan Fried Rice\\', \\'Veg Hakka Noodles\\', \\'Veg Schezwan Noodles\\', \\'Veg Singapore Noodles\\', \\'Egg Fried Rice\\', \\'Egg Schezwan Fried Rice\\', \\'Egg Hakka Noodles\\', \\'Egg Schezwan Noodles\\', \\'Egg Singapore Noodles\\', \\'Chicken Hakka Noodles\\', \\'Chicken Schezwan Noodles\\', \\'Chicken Singapore Noodles\\', \\'Prawns Fried Rice\\', \\'Prawns Schezwan Fried Rice\\', \\'Prawns Hakka Noodles\\', \\'Prawns Schezwan Noodles\\', \\'Prawns Singapore Noodles\\', \\'Margherita Pizza\\', \"Harry\\'s Farm House Pizza\", \\'Classique Paneer Tikka Pizza\\', \\'Veg Exotica Pizza\\', \\'Thai Basil Chicken Pizza\\', \\'Classic Chicken Tikka Pizza\\', \\'Spicy Pepperoni Pizza\\', \\'Penne Rustica\\', \\'Spaghetti Aglio e Olio Pasta\\', \\'HarryÃ\\x83\\\\x83Ã\\x82\\\\x83Ã\\x83\\\\x82Ã\\x82\\\\x83Ã\\x83\\\\x83Ã\\x82\\\\x82Ã\\x83\\\\x82Ã\\x82Â¢Ã\\x83\\\\x83Ã\\x82\\\\x83Ã\\x83\\\\x82Ã\\x82\\\\x82Ã\\x83\\\\x83Ã\\x82\\\\x82Ã\\x83\\\\x82Ã\\x82\\\\x80Ã\\x83\\\\x83Ã\\x82\\\\x83Ã\\x83\\\\x82Ã\\x82\\\\x82Ã\\x83\\\\x83Ã\\x82\\\\x82Ã\\x83\\\\x82Ã\\x82\\\\x99s Mac and Cheese Pasta\\', \\'Penne Vodkatini\\', \\'Baked Butter Chicken Lasaqna\\', \\'Spaghetti Carbonara\\', \\'Straight Up Veg Burger\\', \\'BBQ Sloppy Chicken Burger\\', \\'HarryÃ\\x83\\\\x83Ã\\x82\\\\x83Ã\\x83\\\\x82Ã\\x82\\\\x83Ã\\x83\\\\x83Ã\\x82\\\\x82Ã\\x83\\\\x82Ã\\x82Â¢Ã\\x83\\\\x83Ã\\x82\\\\x83Ã\\x83\\\\x82Ã\\x82\\\\x82Ã\\x83\\\\x83Ã\\x82\\\\x82Ã\\x83\\\\x82Ã\\x82\\\\x80Ã\\x83\\\\x83Ã\\x82\\\\x83Ã\\x83\\\\x82Ã\\x82\\\\x82Ã\\x83\\\\x83Ã\\x82\\\\x82Ã\\x83\\\\x82Ã\\x82\\\\x99s Lamb Burger\\', \\'Jazz Burger\\', \\'Paneer Bhurji Pav\\', \\'Egg Kejriwal\\', \\'Anda Bhurji Pav\\', \\'Omelette Pav\\', \\'Egg Chilly\\', \\'Goan Rassa Omelette with Pav\\', \\'Veg Wok Tossed Ginger Sprout Noodles with Crackling Spinach\\', \\'Veg Kung Pao Curry\\', \\'Veg Thai Green Curry\\', \\'Veg Laksa\\', \\'Chicken Wok Tossed Ginger Sprout Noodles with Crackling Spinach\\', \\'Grilled Chilly Chicken\\', \\'Chicken Kung Pao Curry\\', \\'Chicken Thai Green Curry\\', \\'Chicken Laksa\\', \\'Sri Lankan Black Pepper Chicken\\', \\'Nasi Stir Fry Rice\\', \\'Fish Wok Tossed Ginger Sprout Noodles with Crackling Spinach\\', \\'Seafood Kung Pao Curry\\', \\'Seafood Thai Green Curry\\', \\'Seafood Laksa\\', \\'Bangkok Seafood Bowl\\', \\'Crispy Garlic Bread\\', \\'Classic Masala Peanut\\', \\'Salt and Pepper Corn\\', \\'Bombay Spiced Wedges\\', \\'Harrys Onion Rings\\', \\'French Fries\\', \\'Crispy Chilli Potatoes\\', \\'Baked Sweet Potato Wedges\\', \\'Peri Peri Salsa Fries\\', \\'Parmigiana Truffle Fries\\', \\'Chicken Tikka Poutine\\', \\'Lamb Lovers Fries\\', \\'Paneer Bhurji Pav\\', \\'Cheese Chilli Toast\\', \\'Pita Chips with Classic Hummus\\', \\'Paneer Chilli Dry\\', \\'Veg Smoked Quesadillas\\', \\'Fondue Stuffed Mushrooms\\', \\'Wonton Kachories\\', \\'Cottage Cheese Malaysian Satay\\', \\'Muchos Nachos Veggie\\', \"Harry\\'s Cheese Fondue Veg Dunks\", \\'Non Veg Smoked Quesadillas\\', \\'Chilli Chicken\\', \\'Chicken Malaysian Satay\\', \\'Drunken Chicken\\', \\'Crispy Chicken\\', \\'Andhra Chicken Pepper Fry\\', \\'Singapore Chicken Lollipop\\', \\'Fiery Schezwan Pepper Chicken\\', \\'Chilli Chicken Roll\\', \\'BBQ Rum Flambeed Wings\\', \\'Grilled Tenderloin Chilli Fry\\', \\'Keema Pav\\', \\'Pigs in a Blanket\\', \\'Kerala Buff Chilly\\', \\'Buffalo Chicken Winglets\\', \\'Pattaya Beach Fish Goujons\\', \\'Fishermans Basket\\', \"Harry\\'s Cheese Fondue Non Veg Dunks\", \\'Paneer Urban Tikka Masala\\', \"Veg Harry\\'s Stroganoff\", \\'Chicken Urban Tikka Masala\\', \\'Jamaican Jerk Chicken\\', \"Chicken Harry\\'s Stroganoff\", \\'Harrys Pepper Chicken\\', \\'Peppered Tenderloin Steak\\', \"Harry\\'s Beer Batter Fish\", \\'Smoked Paprika Fish\\', \\'Darsaan\\', \\'Sizzling Brownie\\']'\n",
      " '[\\'Chicken Wings\\', \\'Pepper Chicken\\', \"Beef Grilled One\\'s Burger\", \\'Spicy Louisiana Pizza\\', \\'Chilly Chicken Pizza\\', \\'Chicken Mexicana Pizza\\', \\'Veg Italian Tomato and Fresh Basil Soup\\', \\'Chicken Lemon Coriander Soup\\', \\'Southern Fried Chicken\\', \\'Chicken Wings\\', \\'Gambas\\', \\'Bbq Jerk Chicken\\', \\'Chicken Nachos Carnitos\\', \\'Spicy Chicken Carrebbean Sausages\\', \\'Spicy Pork Carrebbean Sausages\\', \\'Pork Nachos Carnitos\\', \\'Beef Spicy New Orleans Braised Meat\\', \\'Cajun Spiced Fish Fingers\\', \\'Pepper Chicken\\', \\'Chicken Apollo Style\\', \\'Prawns Apollo Style\\', \\'Chicken Streetside Chilly Style\\', \\'Beef Streetside Chilly Style\\', \\'Pork Streetside Chilly Style\\', \\'Chicken Manchurian Style\\', \"Chicken Spicy Chef\\'s Special Style\", \"Beef Spicy Chef\\'s Special Style\", \"Chicken Kim\\'s Style\", \\'Beef Nachos Carnitos\\', \"Beef Kim\\'s Style\", \"Pork Kim\\'s Style\", \\'Chettinad Chicken Roast\\', \\'Chettinad Pudhina Chicken Roast\\', \\'Chicken Kabab\\', \"Prawns Spicy Chef\\'s Special Style\", \\'Prawns Manchurian Style\\', \\'Fried Beef\\', \\'Pork Spicy New Orleans Braised Meat\\', \\'Fried Pork\\', \"Prawns Kim\\'s Style\", \\'Fish Manchurian Style\\', \"Fish Spicy Chef\\'s Special Style\", \\'Fish Streetside Chilly Style\\', \\'Fish Apollo Style\\', \"Fish Kim\\'s Style\", \\'Pork Streetside Chilly Style\\', \"Pork Spicy Chef\\'s Special Style\", \\'Pork Manchurian Style\\', \\'Beef Manchurian Style\\', \"Paneer Korean Kim\\'s Style\", \\'Paneer Tangy Spinach Sauce\\', \\'Paneer Apollo Style Sauce\\', \\'Paneer Singaporean Style Sauce\\', \\'Paneer Ginger Chilly Garlic Sauce\\', \\'Paneer Ginger Chilly Garlic Sauce\\', \\'Paneer Ginger Chilly Garlic Sauce\\', \\'Paneer Hot Garlic Sauce\\', \\'Paneer Lemon Coriander Sauce\\', \"Veg Korean Kim\\'s Style\", \\'Veg Tangy Spinach Sauce\\', \\'Veg Apollo Style Sauce\\', \"Veg Korean Kim\\'s Style\", \\'Veg Singaporean Style Sauce\\', \\'Veg Ginger Chilly Garlic Sauce Burger\\', \\'Veg Chefs Super Spicy Style\\', \\'Veg Hot Garlic Sauce\\', \\'Lemon Coriander Sauce\\', \"Chicken Korean Kim\\'s Style\", \\'Chicken Tangy Spinach Sauce\\', \\'Apollo Style Sauce\\', \\'Chicken Singaporean Style Sauce\\', \\'Chicken Singaporean Style Sauce\\', \\'Chicken Chefs Super Spicy Style\\', \\'Chicken Hot Garlic Sauce\\', \\'Chicken Hot Garlic Sauce\\', \"Beef Korean Kim\\'s Style\", \\'Beef Tangy Spinach Sauce\\', \\'Beef Apollo Style Sauce\\', \\'Beef Singaporean Style Sauce\\', \\'Beef Ginger Chilly Garlic Sauce\\', \\'Beef Chefs Super Spicy Style\\', \\'Beef Chefs Super Spicy Style\\', \\'Beef Hot Garlic Sauce\\', \\'Beef Lemon Coriander Sauce\\', \"Pork Korean Kim\\'s Style\", \\'Pork Tangy Spinach Sauce\\', \\'Pork Apollo Style Sauce\\', \\'Pork Singaporean Style Sauce\\', \\'Pork Ginger Chilly Garlic Sauce\\', \\'Pork Chefs Super Spicy Style\\', \\'Pork Hot Garlic Sauce\\', \\'Pork Lemon Coriander Sauce\\', \"Fish Korean Kim\\'s Style\", \\'Fish Tangy Spinach Sauce\\', \\'Fish Apollo Style Sauce\\', \\'Fish Singaporean Style Sauce\\', \\'Fish Ginger Chilly Garlic Sauce\\', \\'Fish Chefs Super Spicy Style\\', \\'Fish Hot Garlic Sauce\\', \\'Fish Lemon Coriander Sauce\\', \"Korean Kim\\'s Style\", \\'Prawns Tangy Spinach Sauce\\', \\'Prawns Apollo Style Sauce\\', \\'Prawns Apollo Style Sauce\\', \\'Prawns Ginger Chilly Garlic Sauce\\', \\'Prawns Chefs Super Spicy Style\\', \\'Prawns Hot Garlic Sauce\\', \\'Prawns Lemon Coriander Sauce\\', \\'Veg Stir Fried Rice\\', \\'Veg Mongolian Rice\\', \\'Veg Olivers Spicy Rice\\', \\'Veg Singaporean Rice\\', \\'Egg Stir Fried Rice\\', \\'Egg Mongolian Rice\\', \\'Egg Olivers Spicy Rice\\', \\'Egg Singaporean Rice\\', \\'Chicken Stir Fried Rice\\', \\'Chicken Mongolian Rice\\', \\'Chicken Olivers Spicy Rice\\', \\'Chicken Singaporean Rice\\', \\'Beef Stir Fried Rice\\', \\'Beef Mongolian Rice\\', \\'Beef Olivers Spicy Rice\\', \\'Beef Singaporean Rice\\', \\'Pork Stir Fried Rice\\', \\'Pork Mongolian Rice\\', \\'Pork Olivers Spicy Rice\\', \\'Pork Singaporean Rice\\', \\'Fish Stir Fried Rice\\', \\'Fish Mongolian Rice\\', \\'Fish Olivers Spicy Rice\\', \\'Fish Singaporean Rice\\', \\'Prawns Stir Fried Rice\\', \\'Prawns Mongolian Rice\\', \\'Prawns Olivers Spicy Rice\\', \\'Prawns Singaporean Rice\\', \\'Veg Stir Fried Noodles\\', \\'Veg Mongolian Noodles\\', \\'Veg Olivers Spicy Noodles\\', \\'Veg Singaporean Noodles\\', \\'Egg Stir Fried Noodles\\', \\'Egg Mongolian Noodles\\', \\'Egg Olivers Spicy Noodles\\', \\'Egg Singaporean Noodles\\', \\'Chicken Stir Fried Noodles\\', \\'Chicken Mongolian Noodles\\', \\'Chicken Olivers Spicy Noodles\\', \\'Chicken Singaporean Noodles\\', \\'Beef Stir Fried Noodles\\', \\'Beef Mongolian Noodles\\', \\'Beef Olivers Spicy Noodles\\', \\'Beef Singaporean Noodles\\', \\'Pork Stir Fried Noodles\\', \\'Pork Mongolian Noodles\\', \\'Pork Olivers Spicy Noodles\\', \\'Pork Singaporean Noodles\\', \\'Fish Stir Fried Noodles\\', \\'Fish Mongolian Noodles\\', \\'Fish Olivers Spicy Noodles\\', \\'Fish Singaporean Noodles\\', \\'Prawns Stir Fried Noodles\\', \\'Prawns Mongolian Noodles\\', \\'Prawns Olivers Spicy Noodles\\', \\'Prawns Singaporean Noodles\\', \\'Mexican Bean Burger\\', \\'Bean Bbq\\', \\'Ginger Chilly Garlic Sauce Burger\\', \\'Cottage Cheese Jerky Burgers\\', \\'Spinach Ricotta Smashers\\', \\'Grilled Pepper Smashers\\', \\'Grilled Veg Sandwich\\', \\'Falafel\\', \\'Eggplant Parm\\', \"Chicken Grilled One\\'s Burger\", \"Beef Grilled One\\'s Burger\", \\'Almost Famous Moo Burger\\', \\'Miami Chicken Burger\\', \\'Miami Beef Burger\\', \\'Philly Cheesesteak Burger\\', \\'Santa Fe Beef Burger\\', \\'Cleveland Sandwich\\', \\'Philly Cheese Steak Sandwich\\', \\'Cuban Sandwich\\', \\'Pulled Chicken Sandwich\\', \\'Beef Saigon Bahn Mi Sandwich\\', \\'Pork Saigon Bahn Mi Sandwich\\', \\'Cheese Garlic Bread\\', \\'Jalapeno Poppers\\', \\'Cajun Spiced Potato Wedges\\', \\'Bruschetta\\', \\'Spring Rolls\\', \\'Crispy Potato Fingers\\', \\'Manchurian Style\\', \\'Streeside Chilly Style\\', \\'Crispy Fried Babycorn\\', \\'American Corn Bombs\\', \\'Cripsy Fried Paneer\\', \\'Pepper Salt\\', \\'OliverÃ\\x83\\\\x83Ã\\x82\\\\x83Ã\\x83\\\\x82Ã\\x82\\\\x83Ã\\x83\\\\x83Ã\\x82\\\\x82Ã\\x83\\\\x82Ã\\x82Â¢Ã\\x83\\\\x83Ã\\x82\\\\x83Ã\\x83\\\\x82Ã\\x82\\\\x82Ã\\x83\\\\x83Ã\\x82\\\\x82Ã\\x83\\\\x82Ã\\x82\\\\x80Ã\\x83\\\\x83Ã\\x82\\\\x83Ã\\x83\\\\x82Ã\\x82\\\\x82Ã\\x83\\\\x83Ã\\x82\\\\x82Ã\\x83\\\\x82Ã\\x82\\\\x99s Pepper Masala Paneer Roast\\', \\'OliverÃ\\x83\\\\x83Ã\\x82\\\\x83Ã\\x83\\\\x82Ã\\x82\\\\x83Ã\\x83\\\\x83Ã\\x82\\\\x82Ã\\x83\\\\x82Ã\\x82Â¢Ã\\x83\\\\x83Ã\\x82\\\\x83Ã\\x83\\\\x82Ã\\x82\\\\x82Ã\\x83\\\\x83Ã\\x82\\\\x82Ã\\x83\\\\x82Ã\\x82\\\\x80Ã\\x83\\\\x83Ã\\x82\\\\x83Ã\\x83\\\\x82Ã\\x82\\\\x82Ã\\x83\\\\x83Ã\\x82\\\\x82Ã\\x83\\\\x82Ã\\x82\\\\x99s Chettinad Aloo Roast\\', \\'OliverÃ\\x83\\\\x83Ã\\x82\\\\x83Ã\\x83\\\\x82Ã\\x82\\\\x83Ã\\x83\\\\x83Ã\\x82\\\\x82Ã\\x83\\\\x82Ã\\x82Â¢Ã\\x83\\\\x83Ã\\x82\\\\x83Ã\\x83\\\\x82Ã\\x82\\\\x82Ã\\x83\\\\x83Ã\\x82\\\\x82Ã\\x83\\\\x82Ã\\x82\\\\x80Ã\\x83\\\\x83Ã\\x82\\\\x83Ã\\x83\\\\x82Ã\\x82\\\\x82Ã\\x83\\\\x83Ã\\x82\\\\x82Ã\\x83\\\\x82Ã\\x82\\\\x99s Pudhina Aloo Roast\\', \\'Onion Pakoda\\', \\'Paneer Pakoda\\', \\'Egg Bhurji\\', \\'Masala Egg Pakoda\\', \\'Masala Omlette\\', \\'Egg Bhurji With Bacon & Sausage\\', \\'Chilly Egg\\', \\'Egg Bhurji With Bacon And Sausage\\', \\'Pizza Margharita\\', \\'Spicy Louisiana Pizza\\', \\'Wilted Spinach Pizza\\', \\'Eggplant Pizza\\', \\'Patata Salsa Pizza\\', \\'Stirfried Babycorn Pizza\\', \\'Arugula Pizza\\', \\'Pesto Shrooms Pizza\\', \\'Chilly Paneer Pizza\\', \\'Spicy Peri Peri Paneer & Spinach Pizza\\', \\'Mexican Nachos Special Pizza\\', \\'Chicken BBQ Pizza\\', \\'Chicken Sausage Pizza\\', \\'Chilly Chicken Pizza\\', \\'Chicken 65 Pizza\\', \\'Chicken Mexicana Pizza\\', \\'Chicken Bolognese Pizza\\', \\'Mexican Chicken Nachos Pizza\\', \\'Mexican Beef Nachos Pizza\\', \\'Arugula Bacon Pizza\\', \\'Pepperoni Pizza\\', \\'Chorizo Pizza\\', \\'Chocolate Brownie\\']'\n",
      " \"['Dal Tadka', 'Dal Makhani', 'Paneer Tikka Masala', 'Kadai Paneer', 'Paneer Makhani', 'Malai Kofta', 'Mutton Rogan Josh', 'Jeera Rice', 'Veg Biryani', 'Murgh Dum Biryani', 'Murgh Dum Biryani [Family Pack]', 'Hara Bara Kabab', 'Paneer Tikka', 'Tandoori Murgh', 'Murgh Lahori Kalmi', 'Jalebi with Rabdi', 'Roomali Roti', 'Afghani Naan', 'Stuffed Paratha', 'Paneer Tikka Masala Meal', 'Paneer Makhani Meal', 'Veg Biryani Meal', 'Executive Veg Box Meal', 'Executive Non Veg Box Meal', 'Rajma Meal', 'Peshawari Channa Meal', 'Paneer Tikka Masala Meal', 'Paneer Makhani Meal', 'Egg Curry Meal', 'Butter Chicken Meal', 'Rara Murgh Meal', 'Mutton Rogan Josh Meal', 'Rara Mutton Meal', 'Veg Biryani Meal', 'Egg Biryani Meal', 'Murgh Dum Biryani Meal', 'Murgh Tikka Biryani Meal', 'Mutton Biryani Meal', 'Prawns Biryani Meal', 'Executive Veg Box Meal', 'Executive Non Veg Box Meal', 'Tomato Shorba', 'Murgh Shorba', 'Bagicha ka Salad', 'Karela Salad', 'Kaju Fry Salad', 'Murgh Tikka Salad', 'French Fries', 'Aloo Tak-a-Tak', 'Baby Corn Harimirch Wala', 'Bhatti ka Gobi', 'Hara Bara Kabab', 'Tandoori Mushroom', 'Mushroom Harimirch Wala', 'Paneer Resunga', 'Paneer Tikka', 'Peshawari Seekh Kabab', 'Tandoori Murgh', 'Murgh Lahori Kalmi', 'Mutton Pepper Dry', 'Macchi Amritsari', 'Macchi Tak-a-Tak', 'Tawa Macchi', 'Prawns Balaika', 'Prawns Tak-a-Tak', 'Tandoori Prawns', 'Prawns Harimirch Wala', 'Dal Tadka', 'Dal Makhani', 'Paneer Tikka Masala', 'Paneer Saagwala', 'Kadai Paneer', 'Paneer Makhani', 'Mushroom Matar', 'Veg Patiala', 'Diwani Handi', 'Kadai Veg', 'Rajma', 'Sarson ka Saag', 'Aloo Gobi Masala', 'Bhindi Do Pyaza', 'Peshawari Channa', 'Malai Kofta', 'Kaju Masala', 'Egg Bhurji', 'Egg Masala', 'Rarra Mutton', 'Mutton Rogan Josh', 'Methi Macchi Masala', 'Macchi Jalfrezi', 'Prawns Masala', 'Plain Rice', 'Curd Rice', 'Jeera Rice', 'Veg Pulao', 'Peas Pulao', 'Veg Biryani', 'Egg Biryani', 'Murgh Dum Biryani', 'Murgh Tikka Biryani', 'Mutton Biryani', 'Prawns Biryani', 'Egg Biryani [Family Pack]', 'Murgh Dum Biryani [Family Pack]', 'Murgh Tikka Biryani [Family Pack]', 'Mutton Biryani [Family Pack]', 'Prawns Biryani [Family Pack]', 'Phulka', 'Roti', 'Butter Roti', 'Harimirch Paratha', 'Lalmirch Paratha', 'Garlic Naan', 'Naan', 'Butter Naan', 'Lachha Paratha', 'Kulcha', 'Butter Kulcha', 'Makkai Ki Roti', 'Roomali Roti', 'Afghani Naan', 'Peshawari Paratha', 'Stuffed Paratha', '8 Roti ka Chota Khazana', '12 Roti ka Bada Khazana', 'Egg Paratha', 'Mutton Keema Paratha', 'Roasted Papad', 'Masala Papad', 'Plain Curd', 'Mixed Veg Raita', 'Boondi Raita', 'Cucumber Raita', 'Pineapple Raita', 'Onion Raita', 'Mint Raita', 'Rabdi', 'Jalebi', 'Jalebi with Rabdi', 'Gulab Jamun', 'Rasgulla', 'Bhune Jeere ki Chaach', 'Jal Jeera', 'Meetha Punjabi Lassi', 'Namkeen Punjabi Lassi', 'Masala Punjabi Lassi', 'Patiala Punjabi Lassi', 'Meetha Nimboo Paani', 'Namkeen Nimboo Paani', 'Roohafza Sherbat', 'Mineral Water [1 litre]']\"]\n"
     ]
    }
   ],
   "source": [
    "# Show All Unique Values in the Column\n",
    "print(df_zomato[\"menu_item\"].unique())"
   ]
  },
  {
   "cell_type": "code",
   "execution_count": 59,
   "id": "bb3256a4-2114-416c-b5c4-99968f754ef3",
   "metadata": {},
   "outputs": [
    {
     "name": "stdout",
     "output_type": "stream",
     "text": [
      "url                                0\n",
      "address                            0\n",
      "name                               0\n",
      "online_order                       0\n",
      "book_table                         0\n",
      "rate                            7775\n",
      "votes                              0\n",
      "phone                           1208\n",
      "location                          21\n",
      "rest_type                        227\n",
      "dish_liked                     28078\n",
      "cuisines                          45\n",
      "approx_cost(for two people)      346\n",
      "reviews_list                       0\n",
      "menu_item                          0\n",
      "listed_in(type)                    0\n",
      "listed_in(city)                    0\n",
      "dtype: int64\n"
     ]
    }
   ],
   "source": [
    "# Check for Missing Values in Each Column\n",
    "print(df_zomato.isnull().sum())"
   ]
  },
  {
   "cell_type": "code",
   "execution_count": 61,
   "id": "2dd8f671-0f50-4e07-913a-bef169c13a7b",
   "metadata": {},
   "outputs": [
    {
     "name": "stdout",
     "output_type": "stream",
     "text": [
      "url                             0.000000\n",
      "address                         0.000000\n",
      "name                            0.000000\n",
      "online_order                    0.000000\n",
      "book_table                      0.000000\n",
      "rate                           15.033741\n",
      "votes                           0.000000\n",
      "phone                           2.335789\n",
      "location                        0.040606\n",
      "rest_type                       0.438927\n",
      "dish_liked                     54.291626\n",
      "cuisines                        0.087012\n",
      "approx_cost(for two people)     0.669026\n",
      "reviews_list                    0.000000\n",
      "menu_item                       0.000000\n",
      "listed_in(type)                 0.000000\n",
      "listed_in(city)                 0.000000\n",
      "dtype: float64\n"
     ]
    }
   ],
   "source": [
    "# Check the Percentage of Missing Values\n",
    "missing_percentage = (df_zomato.isnull().sum() / len(df_zomato)) * 100\n",
    "print(missing_percentage)"
   ]
  },
  {
   "cell_type": "code",
   "execution_count": 63,
   "id": "4c7d89a4-2304-42fe-97d6-b034ad373dbe",
   "metadata": {},
   "outputs": [
    {
     "name": "stdout",
     "output_type": "stream",
     "text": [
      "0\n"
     ]
    }
   ],
   "source": [
    "# Check for Any Duplicates\n",
    "print(df_zomato.duplicated().sum())"
   ]
  },
  {
   "cell_type": "code",
   "execution_count": 67,
   "id": "98a5e517-e58f-415e-b263-d5575b3b9ab7",
   "metadata": {},
   "outputs": [
    {
     "name": "stdout",
     "output_type": "stream",
     "text": [
      "Columns with mixed data types: ['rate', 'phone', 'location', 'rest_type', 'dish_liked', 'cuisines', 'approx_cost(for two people)']\n"
     ]
    }
   ],
   "source": [
    "# Identify Columns with Mixed Types\n",
    "mixed_columns = [col for col in df_zomato.columns if df_zomato[col].apply(type).nunique() > 1]\n",
    "print(\"Columns with mixed data types:\", mixed_columns)"
   ]
  },
  {
   "cell_type": "code",
   "execution_count": 69,
   "id": "f2801231-b85d-4084-9291-c71ca9e43fe3",
   "metadata": {},
   "outputs": [
    {
     "name": "stdout",
     "output_type": "stream",
     "text": [
      "Empty DataFrame\n",
      "Columns: [url, address, name, online_order, book_table, rate, votes, phone, location, rest_type, dish_liked, cuisines, approx_cost(for two people), reviews_list, menu_item, listed_in(type), listed_in(city)]\n",
      "Index: []\n"
     ]
    }
   ],
   "source": [
    "# filter and display the 14 records where the \"name\" column contains numeric data\n",
    "df_numeric_names = df_zomato[df_zomato['name'].apply(lambda x: isinstance(x, (int, float)))]\n",
    "print(df_numeric_names)"
   ]
  },
  {
   "cell_type": "code",
   "execution_count": 71,
   "id": "caf377c0-2ddd-49df-a1d7-6054dfeefbfa",
   "metadata": {},
   "outputs": [
    {
     "name": "stdout",
     "output_type": "stream",
     "text": [
      "0\n"
     ]
    }
   ],
   "source": [
    "print(df_numeric_names.shape[0])  # This will print the number of such records"
   ]
  },
  {
   "cell_type": "code",
   "execution_count": 73,
   "id": "a56582fc-a43c-4fc2-9d22-25dcedc5b336",
   "metadata": {},
   "outputs": [
    {
     "name": "stdout",
     "output_type": "stream",
     "text": [
      "               votes\n",
      "count   51717.000000\n",
      "mean      283.697527\n",
      "median     41.000000\n",
      "std       803.838853\n",
      "min         0.000000\n",
      "max     16832.000000\n"
     ]
    }
   ],
   "source": [
    "# calculate count, mean, median, standard deviation, min, and max for numerical columns\n",
    "# Selecting only numeric columns for statistical analysis\n",
    "numeric_columns = df_zomato.select_dtypes(include=['number'])\n",
    "\n",
    "# Calculating descriptive statistics\n",
    "summary_stats = numeric_columns.agg(['count', 'mean', 'median', 'std', 'min', 'max'])\n",
    "\n",
    "# Display the result\n",
    "print(summary_stats)"
   ]
  },
  {
   "cell_type": "markdown",
   "id": "cbd768fd-1d4b-4bb7-8ad9-f7c7acd10c87",
   "metadata": {},
   "source": [
    "# Data Cleaning"
   ]
  },
  {
   "cell_type": "code",
   "execution_count": 75,
   "id": "52c95413-b40d-44b5-acb0-699234992f5f",
   "metadata": {},
   "outputs": [],
   "source": [
    "# rename column\n",
    "df_zomato.rename(columns={\"approx_cost(for two people)\": \"approx_cost_2ppl\"}, inplace=True)"
   ]
  },
  {
   "cell_type": "code",
   "execution_count": 77,
   "id": "2c7fc63f-2b02-4a08-bca1-644c21ff6356",
   "metadata": {},
   "outputs": [],
   "source": [
    "# rename column\n",
    "df_zomato.rename(columns={\"listed_in(type)\": \"listed_as_type\"}, inplace=True)"
   ]
  },
  {
   "cell_type": "code",
   "execution_count": 79,
   "id": "75153a0d-68ec-4456-bad9-38adc71d3dd8",
   "metadata": {},
   "outputs": [],
   "source": [
    "# rename column\n",
    "df_zomato.rename(columns={\"listed_in(city)\": \"listed_in_city\"}, inplace=True)"
   ]
  },
  {
   "cell_type": "code",
   "execution_count": 81,
   "id": "dba824d5-f66e-4356-a66d-ebdc0df59c72",
   "metadata": {},
   "outputs": [],
   "source": [
    "# drop the \"phone\" column\n",
    "df_zomato.drop(columns=[\"phone\"], inplace=True)"
   ]
  },
  {
   "cell_type": "code",
   "execution_count": 83,
   "id": "25f6171e-82e8-4009-92be-045f0778441a",
   "metadata": {},
   "outputs": [],
   "source": [
    "# extract the float value from the \"rate\" column and create a new column \"rate_float\"\n",
    "df_zomato[\"rate_float\"] = df_zomato[\"rate\"].str.extract(r'(\\d+\\.\\d+)').astype(float)"
   ]
  },
  {
   "cell_type": "code",
   "execution_count": 87,
   "id": "cd3a0172-b8db-4f2d-88f2-002cfa6b2f9d",
   "metadata": {},
   "outputs": [
    {
     "data": {
      "text/html": [
       "<div>\n",
       "<style scoped>\n",
       "    .dataframe tbody tr th:only-of-type {\n",
       "        vertical-align: middle;\n",
       "    }\n",
       "\n",
       "    .dataframe tbody tr th {\n",
       "        vertical-align: top;\n",
       "    }\n",
       "\n",
       "    .dataframe thead th {\n",
       "        text-align: right;\n",
       "    }\n",
       "</style>\n",
       "<table border=\"1\" class=\"dataframe\">\n",
       "  <thead>\n",
       "    <tr style=\"text-align: right;\">\n",
       "      <th></th>\n",
       "      <th>url</th>\n",
       "      <th>address</th>\n",
       "      <th>name</th>\n",
       "      <th>online_order</th>\n",
       "      <th>book_table</th>\n",
       "      <th>rate</th>\n",
       "      <th>votes</th>\n",
       "      <th>location</th>\n",
       "      <th>rest_type</th>\n",
       "      <th>dish_liked</th>\n",
       "      <th>cuisines</th>\n",
       "      <th>approx_cost_2ppl</th>\n",
       "      <th>reviews_list</th>\n",
       "      <th>menu_item</th>\n",
       "      <th>listed_as_type</th>\n",
       "      <th>listed_in_city</th>\n",
       "      <th>rate_float</th>\n",
       "    </tr>\n",
       "  </thead>\n",
       "  <tbody>\n",
       "    <tr>\n",
       "      <th>0</th>\n",
       "      <td>https://www.zomato.com/bangalore/jalsa-banashankari?context=eyJzZSI6eyJlIjpbNTg2OTQsIjE4Mzc1NDc0IiwiNTkwOTAiLCIxODM4Mjk0NCIsIjE4MjI0Njc2IiwiNTkyODkiLCIxODM3MzM4NiJdLCJ0IjoiUmVzdGF1cmFudHMgaW4gQmFuYXNoYW5rYXJpIHNlcnZpbmcgQnVmZmV0In19</td>\n",
       "      <td>942, 21st Main Road, 2nd Stage, Banashankari, Bangalore</td>\n",
       "      <td>Jalsa</td>\n",
       "      <td>Yes</td>\n",
       "      <td>Yes</td>\n",
       "      <td>4.1/5</td>\n",
       "      <td>775</td>\n",
       "      <td>Banashankari</td>\n",
       "      <td>Casual Dining</td>\n",
       "      <td>Pasta, Lunch Buffet, Masala Papad, Paneer Lajawab, Tomato Shorba, Dum Biryani, Sweet Corn Soup</td>\n",
       "      <td>North Indian, Mughlai, Chinese</td>\n",
       "      <td>800</td>\n",
       "      <td>[('Rated 4.0', 'RATED\\n  A beautiful place to dine in.The interiors take you back to the Mughal era. The lightings are just perfect.We went there on the occasion of Christmas and so they had only limited items available. But the taste and service was not compromised at all.The only complaint is that the breads could have been better.Would surely like to come here again.'), ('Rated 4.0', 'RATED\\n  I was here for dinner with my family on a weekday. The restaurant was completely empty. Ambience is good with some good old hindi music. Seating arrangement are good too. We ordered masala papad, panner and baby corn starters, lemon and corrionder soup, butter roti, olive and chilli paratha. Food was fresh and good, service is good too. Good for family hangout.\\nCheers'), ('Rated 2.0', 'RATED\\n  Its a restaurant near to Banashankari BDA. Me along with few of my office friends visited to have buffet but unfortunately they only provide veg buffet. On inquiring they said this place is mostly visited by vegetarians. Anyways we ordered ala carte items which took ages to come. Food was ok ok. Definitely not visiting anymore.'), ('Rated 4.0', 'RATED\\n  We went here on a weekend and one of us had the buffet while two of us took Ala Carte. Firstly the ambience and service of this place is great! The buffet had a lot of items and the good was good. We had a Pumpkin Halwa intm the dessert which was amazing. Must try! The kulchas are great here. Cheers!'), ('Rated 5.0', 'RATED\\n  The best thing about the place is itÃ\\x83Ã\\x83Ã\\x82Ã\\x82Ã\\x83Ã\\x82Ã\\x82Ã\\x92s ambiance. Second best thing was yummy ? food. We try buffet and buffet food was not disappointed us.\\nTest ?. ?? ?? ?? ?? ??\\nQuality ?. ??????????.\\nService: Staff was very professional and friendly.\\n\\nOverall experience was excellent.\\n\\nsubirmajumder85.wixsite.com'), ('Rated 5.0', 'RATED\\n  Great food and pleasant ambience. Expensive but Coll place to chill and relax......\\n\\nService is really very very good and friendly staff...\\n\\nFood : 5/5\\nService : 5/5\\nAmbience :5/5\\nOverall :5/5'), ('Rated 4.0', 'RATED\\n  Good ambience with tasty food.\\nCheese chilli paratha with Bhutta palak methi curry is a good combo.\\nLemon Chicken in the starters is a must try item.\\nEgg fried rice was also quite tasty.\\nIn the mocktails, recommend \"Alice in Junoon\". Do not miss it.'), ('Rated 4.0', 'RATED\\n  You canÃ\\x83Ã\\x83Ã\\x82Ã\\x82Ã\\x83Ã\\x82Ã\\x82Ã\\x92t go wrong with Jalsa. Never been a fan of their buffet and thus always order alacarteÃ\\x83Ã\\x83Ã\\x82Ã\\x82Ã\\x83Ã\\x82Ã\\x82Ã\\x92. Service at times can be on the slower side but food is worth the wait.'), ('Rated 5.0', 'RATED\\n  Overdelighted by the service and food provided at this place. A royal and ethnic atmosphere builds a strong essence of being in India and also the quality and taste of food is truly authentic. I would totally recommend to visit this place once.'), ('Rated 4.0', 'RATED\\n  The place is nice and comfortable. Food wise all jalea outlets maintain a good standard. The soya chaap was a standout dish. Clearly one of trademark dish as per me and a must try.\\n\\nThe only concern is the parking. It very congested and limited to just 5cars. The basement parking is very steep and makes it cumbersome'), ('Rated 4.0', 'RATED\\n  The place is nice and comfortable. Food wise all jalea outlets maintain a good standard. The soya chaap was a standout dish. Clearly one of trademark dish as per me and a must try.\\n\\nThe only concern is the parking. It very congested and limited to just 5cars. The basement parking is very steep and makes it cumbersome'), ('Rated 4.0', 'RATED\\n  The place is nice and comfortable. Food wise all jalea outlets maintain a good standard. The soya chaap was a standout dish. Clearly one of trademark dish as per me and a must try.\\n\\nThe only concern is the parking. It very congested and limited to just 5cars. The basement parking is very steep and makes it cumbersome')]</td>\n",
       "      <td>[]</td>\n",
       "      <td>Buffet</td>\n",
       "      <td>Banashankari</td>\n",
       "      <td>4.1</td>\n",
       "    </tr>\n",
       "    <tr>\n",
       "      <th>1</th>\n",
       "      <td>https://www.zomato.com/bangalore/spice-elephant-banashankari?context=eyJzZSI6eyJlIjpbIjU4Njk0IiwxODM3NTQ3NCwiNTkwOTAiLCIxODM4Mjk0NCIsIjE4MjI0Njc2IiwiNTkyODkiLCIxODM3MzM4NiJdLCJ0IjoiUmVzdGF1cmFudHMgaW4gQmFuYXNoYW5rYXJpIHNlcnZpbmcgQnVmZmV0In19</td>\n",
       "      <td>2nd Floor, 80 Feet Road, Near Big Bazaar, 6th Block, Kathriguppe, 3rd Stage, Banashankari, Bangalore</td>\n",
       "      <td>Spice Elephant</td>\n",
       "      <td>Yes</td>\n",
       "      <td>No</td>\n",
       "      <td>4.1/5</td>\n",
       "      <td>787</td>\n",
       "      <td>Banashankari</td>\n",
       "      <td>Casual Dining</td>\n",
       "      <td>Momos, Lunch Buffet, Chocolate Nirvana, Thai Green Curry, Paneer Tikka, Dum Biryani, Chicken Biryani</td>\n",
       "      <td>Chinese, North Indian, Thai</td>\n",
       "      <td>800</td>\n",
       "      <td>[('Rated 4.0', 'RATED\\n  Had been here for dinner with family. Turned out to be a good choose suitable for all ages of people. Can try this place. We liked the most was their starters. Service is good. Prices are affordable. Will recommend this restaurant for early dinner. The place is little noisy.'), ('Rated 3.0', 'RATED\\n  The ambience is really nice, staff is courteous. The price is pretty high for the quantity, but overall the experience was fine. The quality of food is nice but nothing extraordinary. They also have buffet(only veg)'), ('Rated 3.0', 'RATED\\n  I felt good is little expensive for the quantity they serve and In terms of taste is decent. There is nothing much to talk about the ambience, regular casual dining restaurant where you can take your family for dinner or lunch. If they improve on that quantity or may be reduce the price a bit or may be improve the presentation of the food it might Manage to get more repeat customers.'), ('Rated 4.0', 'RATED\\n  I was looking for a quite place to spend some time with family and as well wanted to try some new place. Since I was at Banashankari I thought of trying this place. The place had good rating and was part of Zomato gold. So I decided to try this place. It was a delite to see a very friendly staff and food we ordered was very tasty as well.\\n\\nFood : 4/5\\nAmbience :3/5\\nFriendly staff : 4/5\\nPocket friendly : 4/5\\n\\nWill definitely visit again ??'), ('Rated 4.0', \"RATED\\n  Nice place to dine and has a good ambiance... Food is good and the serving time is also good..neat restrooms and we'll arranged tables....only thing is we went at 12.30 for lunch...and we noticed that they kept on playing one music back to back which was a little annoying...\\n\\n1. Chicken biriyani was so good and the chicken was fresh and tender ,rice was well cooked and overall was great\\n\\n2. Mutton biriyani was very very good and tasty and It had plenty of mutton pieces...\"), ('Rated 5.0', 'RATED\\n  This place just cool ? with good ambience and slow music and having delicious food is where you find peace. Staff very friendly and they have maintained the place so clean. The price is average for what the quantity of food they serve.\\nThom yum Thai soup was best and was treat to mouth, roti was soft with that vilaythi paneer was perfect to have for veggie foodies, in rice we tried burnt garlic fried rice with vegetables and it was the perfect thing to end.'), ('Rated 4.0', \"RATED\\n  Quiet a good family type of place.. too calm and usually we don't find crowd here.. panner curry and the deserts is what we had tasted.. they wer really good but we found it a little expensive\"), ('Rated 2.0', \"RATED\\n  I had a very bad experience here.\\nI don't know about a la carte, but the buffet was the worst. They gave us complementary drink and momos before the buffet. The momos were really good.\\nThe number of varieties first of all was very disappointing. The service was very slow. They refilled the food very slowly. The starters were okay. The main course also was so so. There was two gravies with roti and some rice with raitha. They had chats, sev puri and pan puri, which was average. But the desert was disappointing. They had gulab Jamun and chocolate cake. The jamun was not cooked inside. There was a cold blob of raw dough inside. The chocolate cake also was really hard and not that good.\\nOverall the buffet was a bad experience for me.\"), ('Rated 4.0', \"RATED\\n  Food: 8/10\\nAmbience:8/10\\nStaff:8/10\\nOne of the good places to try north Indian food...but depends on ur taste buds. Not everyone will like all the items here. Specially when u r particular abt sweet and spicy food.\\nThere's buffet available too.\\nWe had ordered paneer uttar dakshin and paneer kurchan..was amazing. The Gobi hara pyaz and mix veg were average.\"), ('Rated 3.0', 'RATED\\n  A decent place for a family lunch or dinner.. well arranged in a simple manner. Food was tasty and the crew was very helpful and understanding..'), ('Rated 4.0', \"RATED\\n  Great place to have a heavy lunch. Good service.\\nThe chicken biryani was undoubtedly one of the best I've had. Biriyani and Lassi would be the suggested combo. Buffet is the talk of the place, so try according to your appetite. A nice place.\"), ('Rated 4.0', 'RATED\\n  Its the one restaurant near katriguppe that i found was really good. Good variety of Chinese and thai dishes. Service is good and good place to hangout with family as its a peaceful place where noise is really less and good view.'), ('Rated 2.0', \"RATED\\n  Spice elephant soup SPL: almost manchow flavour soup.. Just above medium spicy\\n\\nLasooni fish tikka was awesome\\n\\nI don't remember the dessert name but I have attached the photo .. It had vanilla ice inside wafers... Wafer was hell hard, egg smell chewy ... Nightmare dessert !\\n\\nTable leg space was very bad... I was so uncomfortable, the whole time kept on adjusting my legs\\n\\nNo parking\\n\\nFor the taste felt this is too costly\"), ('Rated 4.0', 'RATED\\n  Zomato gold partner at this price. It was insane. They have really nice food. small place with very courteous staff and very cheap food for this ambience. Cost of soups is 80-100. Starters from 150-250. Main course 200-300. Cost for two was 800 for us.')]</td>\n",
       "      <td>[]</td>\n",
       "      <td>Buffet</td>\n",
       "      <td>Banashankari</td>\n",
       "      <td>4.1</td>\n",
       "    </tr>\n",
       "    <tr>\n",
       "      <th>2</th>\n",
       "      <td>https://www.zomato.com/SanchurroBangalore?context=eyJzZSI6eyJlIjpbIjU4Njk0IiwiMTgzNzU0NzQiLDU5MDkwLCIxODM4Mjk0NCIsIjE4MjI0Njc2IiwiNTkyODkiLCIxODM3MzM4NiJdLCJ0IjoiUmVzdGF1cmFudHMgaW4gQmFuYXNoYW5rYXJpIHNlcnZpbmcgQnVmZmV0In19</td>\n",
       "      <td>1112, Next to KIMS Medical College, 17th Cross, 2nd Stage, Banashankari, Bangalore</td>\n",
       "      <td>San Churro Cafe</td>\n",
       "      <td>Yes</td>\n",
       "      <td>No</td>\n",
       "      <td>3.8/5</td>\n",
       "      <td>918</td>\n",
       "      <td>Banashankari</td>\n",
       "      <td>Cafe, Casual Dining</td>\n",
       "      <td>Churros, Cannelloni, Minestrone Soup, Hot Chocolate, Pink Sauce Pasta, Salsa, Veg Supreme Pizza</td>\n",
       "      <td>Cafe, Mexican, Italian</td>\n",
       "      <td>800</td>\n",
       "      <td>[('Rated 3.0', \"RATED\\n  Ambience is not that good enough and it's not a pocket friendly cafe and the quantity is not that good and desserts are too good enough ??..\"), ('Rated 3.0', \"RATED\\n \\nWent there for a quick bite with friends.\\nThe ambience had more of corporate feel. I would say it was unique.\\nTried nachos, pasta churros and lasagne.\\n\\nNachos were pathetic.( Seriously don't order)\\nPasta was okayish.\\nLasagne was good.\\nNutella churros were the best.\\nOverall an okayish experience!\\nPeace ??\"), ('Rated 4.0', \"RATED\\n  First of all, a big thanks to the staff of this Cafe. Very polite and courteous.\\n\\nI was there 15mins before their closing time. Without any discomfort or hesitation, the staff welcomed me with a warm smile and said they're still open, though they were preparing to close the cafe for the day.\\n\\nQuickly ordered the Thai green curry, which is served with rice. They got it for me within 10mins, hot and freshly made.\\n\\nIt was tasty with the taste of coconut milk. Not very spicy, it was mild spicy.\\n\\nI saw they had yummy looking dessert menu, should go there to try them out!\\n\\nA good spacious place to hang out for coffee, pastas, pizza or Thai food.\"), ('Rated 3.0', \"RATED\\n  A place for people who love churos. Otherwise it's a normal simple cafe like any other in town . Can go and spend the evening there . The positive being it is one of the better cafes in and around Banashankari and also the place is not very crowded .\"), ('Rated 3.0', 'RATED\\n  Have been visiting this place since years. The quality has gone down drastically. Food quality has become very average from good. Service is also very bad of late.'), ('Rated 1.0', 'RATED\\n  Really disappointed with the place.\\n\\nSeems like a old dusty store room stacked up with old sofas and chairs! The decor is soo disappointing that I cannot put it in words!\\nLastly the food was cherry on the cake to make it a complete worse meal.\\n\\nThis place is the last option you should ever consider.'), ('Rated 3.0', 'RATED\\n  Congested atmosphere due to smoke from kitchen\\nAmbience was k\\nService was k .\\nChuros was a new experience recommended\\nNear to kims . Parking was not der'), ('Rated 1.0', \"RATED\\n  Cockroaches !! I Repeat cockroaches!!Bakasura was disappointed.\\nBeing in Banashankari, being a gold outlet and nesting them? who can even think of that. Thankfully it wasn't over bakasura's plate. The ambience was last cleaned a decade back i guess. A cockroach just walked over our table. As it was alive, and well moving , the bakasura couldnt take a pic of it. Then the staff had to actually take it out of our table. Such ambience ? like what are you upto?\\n\\nBakasura disapproves. I dont even want to talk about the food.\"), ('Rated 4.0', 'RATED\\n  A nice place to hangout, this place looks professional and also cute. If anyone is trying churros for the first the time, this is the place to go. Cheesecake is pretty amazing too.\\nRecommended.'), ('Rated 4.0', 'RATED\\n  1) pizza mocktails shakes and churros really very good\\n2) staff good\\n3) ambience simple and nice good\\n4) location of San churro cafe very nice\\n5) over San churro cafe good....'), ('Rated 3.0', \"RATED\\n  One of my favourite places that I often visit in South bangalore , but quality has been reduced than before. Little unhappy with the food this time.\\nBut their churros never dissapointed me. Staff are too slow and do not respond easily.\\n\\nSoups:\\nMinestrone soup was like vegetable stock water with vegetables in it, not happy with it.\\n\\nChurros :\\nIt was great as usual. A must visit place if u love churros.\\n\\nStarters:\\n1. Africano panner -\\nIt was bit sweet and not happy with the dish!!\\n2. Loaded nachos -\\nThis happened to be their one of the best dishes, but now I take back my words. Very dissapointed with the dish.\\n\\nMain course:\\nsicilia pizza\\nPizza was too good, it's a must try dish.\\n\\nFinally I would recommend this place for churros and pizza .\\n\\nTaste : 6/10\\nAmbience :7/10\\nValue for money : 8/10\\n\\nOverall experience : 7.5/10\"), ('Rated 4.0', 'RATED\\n  Visited this place long before, place come to.notice with the decoration lights outside the cafe. We ordered churos, pizza and hot chocolate, all were good just I little priced more.'), ('Rated 4.0', 'RATED\\n  Spain pictures of Churros triggered Nostalgia about it , which led to Google search for Churro places in city , lucky we to get the result as San Churro cafe , we had an delectable churros here along with hot chocolate and Nachos ! Thanks for fulfilling our thirst of Spanish Churros !\\nFood : ???\\nChurros ???\\nHot Chocolate ?\\nNachos ??\\n\\nService : ??\\n\\nAmbiance : ?\\n\\nCleanliness : ??\\n\\nOne drawback : Store had some flies, I hope they take care of them for our next tour ?'), ('Rated 3.0', 'RATED\\n  Ã\\x83Ã\\x83Ã\\x82Ã\\x82Ã\\x83Ã\\x82Ã\\x82Ã\\x93Chocolaty and churroic experienceÃ\\x83Ã\\x83Ã\\x82Ã\\x82Ã\\x83Ã\\x82Ã\\x82Ã\\x94\\n\\nHit chocolate and churro with chocolate dip in the picture.\\n\\nMy first time at this restaurant and it has delivered in service, options as well as taste.'), ('Rated 4.0', 'RATED\\n  Though very sadly the place looks in need of retouching, but the food was great! Especially when it was super cold outside and we were super hungry, the staff was nice. We ordered the pink pasta and a pizza. Both of them were pretty good. Was really tempted to try their Churros but we were stuffed. Worth a visit and try for sure!'), ('Rated 3.0', \"RATED\\n  Churros, the restaurant's eponymous offering, has to be tried. They're a Mexican snack and served with chocolate sauce. Milkshakes are good too. The interior walls have murals and writings all over. Haven't tried the pizzas here but the cakes and pastries were pretty good.\"), ('Rated 3.0', \"RATED\\n  Honestly, have only tried parcels and that too only starters and mains - never tried desserts. So this review is based on starters and mains only. The quality wasn't all that great, was pretty average.\"), ('Rated 4.0', \"RATED\\n  Visited this place for the first time, recently. The ambience was pretty good. We ordered two 'churros for two'. Having churros for the first time ever, I was way too excited and judgmental. But swear to Lord, the churros were heavenly! The chocolate sauce was the actual chocolate sauce and not nutella xD We had taken the Cross Country Ranch pizza. It was a thin crust pizza loaded with veggies.\\nThe place is famous for churros (the name suggests so). I would love to visit again to try all the other items out :')\"), ('Rated 4.0', 'RATED\\n  I love the desserts more than anything here !Good place and well served !:)\\nWe dint like the nachos here , it was not that good as we expected !\\nExcept nachos almost all dish were quite good!'), ('Rated 2.0', \"RATED\\n  2nd time I have visited this place and I am surprised to see how it has declined. Churros was hard, pizza was pathetic, loaded nachos and masala Garlic bread were topped with cheese with MAYO! Yes mayonnese.. Soup has the bread crumbs in almost melted state, mocktails were average and our only Savior was pasta and caramel pudding... This place has high potential but let down by dull ambience, pretty slow and inattentive staff. Buffet price was listed as 399 but was charged 499, We still went ahead and took the deal to be very disappointed!! Most dishes were freshly cooked hence going with some starts else would rate them lower. I did not find a single person who seemed happy with their meal as moat complained about one thing or the other. That'll be my last visit San Churros.\")]</td>\n",
       "      <td>[]</td>\n",
       "      <td>Buffet</td>\n",
       "      <td>Banashankari</td>\n",
       "      <td>3.8</td>\n",
       "    </tr>\n",
       "    <tr>\n",
       "      <th>3</th>\n",
       "      <td>https://www.zomato.com/bangalore/addhuri-udupi-bhojana-banashankari?context=eyJzZSI6eyJlIjpbIjU4Njk0IiwiMTgzNzU0NzQiLCI1OTA5MCIsMTgzODI5NDQsIjE4MjI0Njc2IiwiNTkyODkiLCIxODM3MzM4NiJdLCJ0IjoiUmVzdGF1cmFudHMgaW4gQmFuYXNoYW5rYXJpIHNlcnZpbmcgQnVmZmV0In19</td>\n",
       "      <td>1st Floor, Annakuteera, 3rd Stage, Banashankari, Bangalore</td>\n",
       "      <td>Addhuri Udupi Bhojana</td>\n",
       "      <td>No</td>\n",
       "      <td>No</td>\n",
       "      <td>3.7/5</td>\n",
       "      <td>88</td>\n",
       "      <td>Banashankari</td>\n",
       "      <td>Quick Bites</td>\n",
       "      <td>Masala Dosa</td>\n",
       "      <td>South Indian, North Indian</td>\n",
       "      <td>300</td>\n",
       "      <td>[('Rated 4.0', \"RATED\\n  Great food and proper Karnataka style full meals. Been there twice and was fully satisfied.. Will give 5 stars if it's well managed............\"), ('Rated 2.0', 'RATED\\n  Reached the place at 3pm on Saturday. Half of the items on the menu were over. What was annoying was is the food was cold. The taste was also very average. Only dosa and holige were good. There were very few people in the restaurant and the service was still very slow. The waiters were all standing in one corner and talking. Had to call them repeatedly.'), ('Rated 4.0', 'RATED\\n  Had been here, good food served and tasty,good place to go with freinds and family, should be first to get served well with all food. One of the good hotel there for this price.'), ('Rated 2.0', 'RATED\\n  How can a Udupi restaurant be so dirty.the floor the walls the waiters are all stained in food.Why cant they clean it? The floor even had decorative colour paper every where and lot of food.Now coming to the taste of the food- it was pretty decent for what they chargw.What upset us was the menu says they serve thambuli, two variety of rice etc but they were all over at 2.45 but they still charged us full amount.Lastly if u r ok to b seated with random people and adjust with their table manners( burrping etc) then tis place is decent for a quick veg udupi meals'), ('Rated 4.0', 'RATED\\n  Aadhuri Udupi bhojana is one of the best vegetarian hotel in and around Banashankari locality\\nwere we can enjoy the authentic south Karnataka style food.'), ('Rated 5.0', 'RATED\\n  One of the best restaurants for unlimited food. Price for one full unlimited meal is ?150 and the service is awesome here. If youÃ\\x83Ã\\x83Ã\\x82Ã\\x82Ã\\x83Ã\\x82Ã\\x82Ã\\x92re a costalian you will love the food served here.'), ('Rated 4.0', \"RATED\\n  Been here a couple of times. Highly satisfying on both the ocassions. Great food. Decent service. At price of 160 per person it is of a great value. The staff here serves in a traditional Mysore style dresses. The food is authentic Karnataka meals. I really liked the pineapple pickle/chutney. They serve some 4 varities of rice of which you shouldn't try all as you would already be full. Roti, Dosa were decent. In the deserts, Payasam&amp; Holige were good.\\nI think it is one the must try places to try some authentic south food even if you have been to the likes of Kamath etc. this one is a little different. :)\"), ('Rated 5.0', 'RATED\\n  Very good restorent good south Indian food very nice all food s are good we spent good time and food in this hotel value of money we loved it'), ('Rated 3.5', 'RATED\\n  I went to this restaurant on Sunday afternoon.It was a bit crowded.\\n\\nIts located in the 1st floor Above anna kuteera kathriguppe\\n\\nYou need to take food coupon in the ground floor itself.\\nit was 160 rs.\\n\\nTaste wise it was good.\\nService was slow.\\nNothing exciting/different in the menu.\\nWhatever they serve its good.\\nWorth for money.'), ('Rated 5.0', 'RATED\\n  Awesome place , worth with price , quality , quantity , service , hygiene and discipline I loved it ???? wish there were more rating stars to give I give 100 on 5 for sure'), ('Rated 3.5', 'RATED\\n  Nice food, good ambiance, so many verity of food, this time i was in hurry so, next review will be detailed one. Its good to see all dishes at one place'), ('Rated 1.5', 'RATED\\n  The food was not satisfactory. Not one item served could be eaten again . Only advantage is the price but even that is not going to be enough to make me visit the place again . Dear Udupi staff people wouldnÃ\\x83Ã\\x83Ã\\x82Ã\\x82Ã\\x83Ã\\x82Ã\\x82Ã\\x92t mind if the food quality was better for a higher price and please get more fans so that people wonÃ\\x83Ã\\x83Ã\\x82Ã\\x82Ã\\x83Ã\\x82Ã\\x82Ã\\x92t have to deal with another disappointment of sweating while eating.'), ('Rated 5.0', 'RATED\\n  Excellent quality and taste, more variety of authentic south Indian food. Excellent service. Highly recommended. Worth the money we pay here.'), ('Rated 2.0', \"RATED\\n  I'm rating 2 only because of the large number of items they serve for the price they charge. While the taste is moderate, the biggest turn off is the poor service and totally unresponsive staff. They are either understaffed or poorly trained. I didn't get to taste a few items, thanks to their ever busy staff, and ended eating what was served. Please learn the crowd management from other peers like maiyya and roti ghar\"), ('Rated 5.0', 'RATED\\n  One of my colleagues suggested this place. Went there at 1 pm and place wasnt crowded. Ambience is decent and cool. A welcome drink \"appekai saru\" was served. Then started..typical \"baale yele uta\" . Diffrerent types of palya, kosambari and sides. Then came masala dosa, pulka,pulav, veg rice bath. Masala dosa was very very tasty. Service is bit fast as people will be coming, but they will make it slow if u tell them to. Then comes rice with sambar,rasam, daal,tambali. And yes, dont forget to eat holige,payasam and icecream. Service is very nice. One best thing is all of this comes in just 160 rs and its unlimited!!! What else you want!! A must visit place for south indian foodie!'), ('Rated 3.0', \"RATED\\n  Been here last week with high expectations based on few reviews. But utterly disappointed with the food quality &amp; taste. I feel it's an overhyped place! There are many better places in the vicinity for Plantain leaf meal. There was too much of waiting &amp; these staffs were too hurry in serving food &amp; asking people to finish meal &amp; leave quickly. I can understand there is a waiting and staffs should approach in a positive way. I will never go there again!\\n\\nbangaloreepicure.com\"), ('Rated 4.0', 'RATED\\n  I have a confession, being a south Indian I distaste south Indian food(not that I hate it, I don\\'t like it either).But still made up my mind on Sankaranti to have authentic south Indian food visited \"Adduri Udupi Bhojana\" because it was close to my place.I just had a look at the menu told myself that I can do it(I am not blessed with a tremendous appetite).welcomed with the mango soup followed by the wide variety of dishes served, I have developed the new love for Pongal(both sweet and Khara).I can still feel the taste of the ghee bursting in my mouth but it was\"kai holige\" that made my day, crisp and soft.not to forget food is served on a banana leaf that adds in more flavor and taste.waiters are attentive and responsive.The customer\\'s needs are monitored and addressed.so much variety for just 160Rs without compromising on quantity and quality and yes it is unlimited.This visit turned out to be a surprise package.'), ('Rated 3.5', 'RATED\\n  Food is good.\\nNo parking\\nAmbience is average\\nOverall its value for money if you looking for south Indian food.\\nPreferred the tiffin items......'), ('Rated 3.0', \"RATED\\n  Been here last week with high expectations based on few reviews. But utterly disappointed with the food quality &amp; taste. I feel it's an overhyped place! There are many better places in the vicinity for Plantain leaf meal. There was too much of waiting &amp; these staffs were too hurry in serving food &amp; asking people to finish meal &amp; leave quickly. I can understand there is a waiting and staffs should approach in a positive way. I will never go there again!\\n\\nbangaloreepicure.com\"), ('Rated 4.0', 'RATED\\n  I have a confession, being a south Indian I distaste south Indian food(not that I hate it, I don\\'t like it either).But still made up my mind on Sankaranti to have authentic south Indian food visited \"Adduri Udupi Bhojana\" because it was close to my place.I just had a look at the menu told myself that I can do it(I am not blessed with a tremendous appetite).welcomed with the mango soup followed by the wide variety of dishes served, I have developed the new love for Pongal(both sweet and Khara).I can still feel the taste of the ghee bursting in my mouth but it was\"kai holige\" that made my day, crisp and soft.not to forget food is served on a banana leaf that adds in more flavor and taste.waiters are attentive and responsive.The customer\\'s needs are monitored and addressed.so much variety for just 160Rs without compromising on quantity and quality and yes it is unlimited.This visit turned out to be a surprise package.'), ('Rated 3.5', 'RATED\\n  Food is good.\\nNo parking\\nAmbience is average\\nOverall its value for money if you looking for south Indian food.\\nPreferred the tiffin items......'), ('Rated 3.0', \"RATED\\n  Been here last week with high expectations based on few reviews. But utterly disappointed with the food quality &amp; taste. I feel it's an overhyped place! There are many better places in the vicinity for Plantain leaf meal. There was too much of waiting &amp; these staffs were too hurry in serving food &amp; asking people to finish meal &amp; leave quickly. I can understand there is a waiting and staffs should approach in a positive way. I will never go there again!\\n\\nbangaloreepicure.com\"), ('Rated 4.0', 'RATED\\n  I have a confession, being a south Indian I distaste south Indian food(not that I hate it, I don\\'t like it either).But still made up my mind on Sankaranti to have authentic south Indian food visited \"Adduri Udupi Bhojana\" because it was close to my place.I just had a look at the menu told myself that I can do it(I am not blessed with a tremendous appetite).welcomed with the mango soup followed by the wide variety of dishes served, I have developed the new love for Pongal(both sweet and Khara).I can still feel the taste of the ghee bursting in my mouth but it was\"kai holige\" that made my day, crisp and soft.not to forget food is served on a banana leaf that adds in more flavor and taste.waiters are attentive and responsive.The customer\\'s needs are monitored and addressed.so much variety for just 160Rs without compromising on quantity and quality and yes it is unlimited.This visit turned out to be a surprise package.'), ('Rated 3.5', 'RATED\\n  Food is good.\\nNo parking\\nAmbience is average\\nOverall its value for money if you looking for south Indian food.\\nPreferred the tiffin items......'), ('Rated 3.0', \"RATED\\n  Been here last week with high expectations based on few reviews. But utterly disappointed with the food quality &amp; taste. I feel it's an overhyped place! There are many better places in the vicinity for Plantain leaf meal. There was too much of waiting &amp; these staffs were too hurry in serving food &amp; asking people to finish meal &amp; leave quickly. I can understand there is a waiting and staffs should approach in a positive way. I will never go there again!\\n\\nbangaloreepicure.com\"), ('Rated 4.0', 'RATED\\n  I have a confession, being a south Indian I distaste south Indian food(not that I hate it, I don\\'t like it either).But still made up my mind on Sankaranti to have authentic south Indian food visited \"Adduri Udupi Bhojana\" because it was close to my place.I just had a look at the menu told myself that I can do it(I am not blessed with a tremendous appetite).welcomed with the mango soup followed by the wide variety of dishes served, I have developed the new love for Pongal(both sweet and Khara).I can still feel the taste of the ghee bursting in my mouth but it was\"kai holige\" that made my day, crisp and soft.not to forget food is served on a banana leaf that adds in more flavor and taste.waiters are attentive and responsive.The customer\\'s needs are monitored and addressed.so much variety for just 160Rs without compromising on quantity and quality and yes it is unlimited.This visit turned out to be a surprise package.'), ('Rated 3.5', 'RATED\\n  Food is good.\\nNo parking\\nAmbience is average\\nOverall its value for money if you looking for south Indian food.\\nPreferred the tiffin items......'), ('Rated 3.0', \"RATED\\n  Been here last week with high expectations based on few reviews. But utterly disappointed with the food quality &amp; taste. I feel it's an overhyped place! There are many better places in the vicinity for Plantain leaf meal. There was too much of waiting &amp; these staffs were too hurry in serving food &amp; asking people to finish meal &amp; leave quickly. I can understand there is a waiting and staffs should approach in a positive way. I will never go there again!\\n\\nbangaloreepicure.com\"), ('Rated 4.0', 'RATED\\n  I have a confession, being a south Indian I distaste south Indian food(not that I hate it, I don\\'t like it either).But still made up my mind on Sankaranti to have authentic south Indian food visited \"Adduri Udupi Bhojana\" because it was close to my place.I just had a look at the menu told myself that I can do it(I am not blessed with a tremendous appetite).welcomed with the mango soup followed by the wide variety of dishes served, I have developed the new love for Pongal(both sweet and Khara).I can still feel the taste of the ghee bursting in my mouth but it was\"kai holige\" that made my day, crisp and soft.not to forget food is served on a banana leaf that adds in more flavor and taste.waiters are attentive and responsive.The customer\\'s needs are monitored and addressed.so much variety for just 160Rs without compromising on quantity and quality and yes it is unlimited.This visit turned out to be a surprise package.'), ('Rated 3.5', 'RATED\\n  Food is good.\\nNo parking\\nAmbience is average\\nOverall its value for money if you looking for south Indian food.\\nPreferred the tiffin items......'), ('Rated 4.0', \"RATED\\n  Had been on a week night for an authentic south Indian food. I personally love being served on banyan leaf. The waiters are all dressed up in traditional Mysore attire wearing with a peta. The food was delicious and definitely worth it's price. The waiters are friendly and serve u well with a smile. The food is prepared without garlic which is a plus point attracting many senior customers.\"), ('Rated 3.5', \"RATED\\n  Food is good and enjoyed. With 150 Rs. is very nice.\\nNote: (It happen with us)\\n - If you going TWO people, you may need to share the table there. Its almost crowed.\\n - You have to sit where they ask, you can't choose even if all the table are empty. \\nJust wait, eat and come back.\"), ('Rated 5.0', 'RATED\\n  Excellent Ambience with delicious meals with 10-15 variety types. Worth paying for money and you can dine out if you are with more friends/relatives in home.'), ('Rated 4.5', 'RATED\\n  Very good and Unlimited . especially masala dosa . Service and ambience was also good. will visit again with friends . very very reasonble and wholesome food'), ('Rated 3.5', 'RATED\\n  Aaaa wt to tell, Unlimited food, food was like exactly like south indian marriage food, 2 soups, sides masala dosa, all were unlimited for just ?150, except ice cream in the end ?? they give a water bottle, and main thing is have patience to get place to sit..... ??,there is no parking place of this outlet, and difficult to park in front of the restaurants,')]</td>\n",
       "      <td>[]</td>\n",
       "      <td>Buffet</td>\n",
       "      <td>Banashankari</td>\n",
       "      <td>3.7</td>\n",
       "    </tr>\n",
       "    <tr>\n",
       "      <th>4</th>\n",
       "      <td>https://www.zomato.com/bangalore/grand-village-basavanagudi?context=eyJzZSI6eyJlIjpbIjU4Njk0IiwiMTgzNzU0NzQiLCI1OTA5MCIsIjE4MzgyOTQ0IiwxODIyNDY3NiwiNTkyODkiLCIxODM3MzM4NiJdLCJ0IjoiUmVzdGF1cmFudHMgaW4gQmFuYXNoYW5rYXJpIHNlcnZpbmcgQnVmZmV0In19</td>\n",
       "      <td>10, 3rd Floor, Lakshmi Associates, Gandhi Bazaar Main Road, Above Reliance Trends, Basavanagudi, Bangalore</td>\n",
       "      <td>Grand Village</td>\n",
       "      <td>No</td>\n",
       "      <td>No</td>\n",
       "      <td>3.8/5</td>\n",
       "      <td>166</td>\n",
       "      <td>Basavanagudi</td>\n",
       "      <td>Casual Dining</td>\n",
       "      <td>Panipuri, Gol Gappe</td>\n",
       "      <td>North Indian, Rajasthani</td>\n",
       "      <td>600</td>\n",
       "      <td>[('Rated 4.0', 'RATED\\n  Very good restaurant in neighbourhood. Buffet system is properly arranged. Variety of dishes along with garba dance and puppet show. Good spread of desserts. Live paratha / Kulcha making'), ('Rated 4.0', 'RATED\\n  Great service, overwhelming experience.\\n\\nOne of its kind experience. Grand village offers you some very desi food options.\\n\\nJaljeera, buttermilk, chat papdi, bhajiya, dosa, pav bhaji, noodles, and so many curries kulcha, roti, and garama garam Jalebies, gulab jamuns.\\n\\nBeautiful ambience of village. People serving with smiles and with full heart !!\\n\\nSo here goes my overall ratings :\\nFood : 4/5\\nAmbience : 3.5/5\\nService : 4/5\\nPocket friendly : 4/5')]</td>\n",
       "      <td>[]</td>\n",
       "      <td>Buffet</td>\n",
       "      <td>Banashankari</td>\n",
       "      <td>3.8</td>\n",
       "    </tr>\n",
       "    <tr>\n",
       "      <th>...</th>\n",
       "      <td>...</td>\n",
       "      <td>...</td>\n",
       "      <td>...</td>\n",
       "      <td>...</td>\n",
       "      <td>...</td>\n",
       "      <td>...</td>\n",
       "      <td>...</td>\n",
       "      <td>...</td>\n",
       "      <td>...</td>\n",
       "      <td>...</td>\n",
       "      <td>...</td>\n",
       "      <td>...</td>\n",
       "      <td>...</td>\n",
       "      <td>...</td>\n",
       "      <td>...</td>\n",
       "      <td>...</td>\n",
       "      <td>...</td>\n",
       "    </tr>\n",
       "    <tr>\n",
       "      <th>51712</th>\n",
       "      <td>https://www.zomato.com/bangalore/best-brews-four-points-by-sheraton-bengaluru-whitefield-whitefield?context=eyJzZSI6eyJlIjpbIjUyMzA2IiwiMTg2NTEzNTciLCIxODYwMjQ3OCIsIjE4MjkwMDUyIiw1ODM1NCwiMTg3NDExMjkiLCIxODY2MTA0MCIsIjE4NjYxMDg0IiwiMTg2OTA4MzciXSwidCI6IlB1YnMgJmFtcDsgQmFycyBpbiBXaGl0ZWZpZWxkIn19</td>\n",
       "      <td>Four Points by Sheraton Bengaluru, 43/3, Whitefield Main Road, Whitefield, Bangalore</td>\n",
       "      <td>Best Brews - Four Points by Sheraton Bengaluru...</td>\n",
       "      <td>No</td>\n",
       "      <td>No</td>\n",
       "      <td>3.6 /5</td>\n",
       "      <td>27</td>\n",
       "      <td>Whitefield</td>\n",
       "      <td>Bar</td>\n",
       "      <td>NaN</td>\n",
       "      <td>Continental</td>\n",
       "      <td>1,500</td>\n",
       "      <td>[('Rated 5.0', \"RATED\\n  Food and service are incomparably excellent. The service staff are attentive, polite, and always willing to go the extra mile to help. Sovon and Girish (pictured) are friendly and always helpful. I am here long term and I'm happy to have such an amazing group taking care of me.\"), ('Rated 3.5', \"RATED\\n  Decent food. Small Cody place. Can't complaint much cuz we got a good deal with Nearby. Their satay chicken is a must try. Peanut sauce was perfect. Good food, good service. But it lacks the vibe.\"), ('Rated 2.5', 'RATED\\n  Been for dinner buffet. Ambiance is very good. But food not as expected. Options are very less. Veg is pretty bad. Non veg is average. Desserts ok. Overall not satisfied.'), ('Rated 3.5', \"RATED\\n  Nice UpMKT place in Whitefield. Enjoyed my privacy and decor. Needed Alone time. but have to visit on weekend to check the place' real vibe .\"), ('Rated 5.0', 'RATED\\n  Best brew wall pictures and Ambient very nice.we had party last with my friends ,we have enjoyed party.bar attender has taken special care .\\nfood was tasty .'), ('Rated 5.0', 'RATED\\n  Good place to have cocktail parties,very courteous staff and awesome food.\\n\\nVery best location to have  dinner parties  in the Whitefield area.'), ('Rated 4.5', \"RATED\\n  Great ambiance and a good place to hangout in whitefield. Not just do they serve some delicious cocktails but also serve some great mocktails which not many bars do. So people like me who don't take alcohol can unwind with a glass of cocktails.\"), ('Rated 5.0', 'RATED\\n  Specially crafted innovative cocktails  steals the show. Ambience and the wall paintings reminds of old Bangalore. Nice quite place to enjoy drink out of the hassles from the city.'), ('Rated 5.0', 'RATED\\n  Great Ambiance reminds of the Old Bangalore a good variety of Cocktails and the Bartenders specialty to present in the most professional manner.'), ('Rated 5.0', 'RATED\\n  Service is very nice. Staff service was good. Ambience ok. Samshad took care everything very nicely and made evening very comfortable. Very calm and cool place to spend an evening.'), ('Rated 3.0', 'RATED\\n  They have arranged Valentine at poolside rooftop. Ambiance needs to be taken care .The place is nice but can be done in more nicer way. Finner things are missing so the table overlays. Food was just average and so the display. Food has been a problem with this hotel from the day of inception. But all succeeds the extra ordinary service by F &amp; B team. Great guys and kudos to them. So much energy . Samshad was just awesome. His attitude, conversation all was super .He has gone out of the way to most of the tables to assist all the guest. Keep it up'), ('Rated 4.5', 'RATED\\n  @When I entered the bar, the Interier decoration specially the wall painting touched a lot to me.the concept of bar also nice.variety of sitting arrangement.well planned everything.staff also friendly and smiley,specially pankaj and deepak.'), ('Rated 5.0', 'RATED\\n  Do visit to try out best &amp; innovative cocktails with crazy, yet cool. Stylish &amp; creative. They know there job best to make sure every customer walkout with smile. Kudos to the team.'), ('Rated 5.0', 'RATED\\n  This is the best bar in Whitefield area they have awsome cocktails and some newly started starter it was really great time which I have spent with my friends.'), ('Rated 1.0', 'RATED\\n  Thought of a perfect dinner party and gone to Four seasons by sherton at Whitefeild on last week..Buffet served in Dinner was pathetic..Starters were sogy and not at all tasty..Main course and desserts also was poor.Not at all recommended..Total waste of money. :('), ('Rated 3.5', 'RATED\\n  Yet to start full fledged menu')]</td>\n",
       "      <td>[]</td>\n",
       "      <td>Pubs and bars</td>\n",
       "      <td>Whitefield</td>\n",
       "      <td>3.6</td>\n",
       "    </tr>\n",
       "    <tr>\n",
       "      <th>51713</th>\n",
       "      <td>https://www.zomato.com/bangalore/vinod-bar-and-restaurant-whitefield-bangalore?context=eyJzZSI6eyJlIjpbIjE4NjUxMzU3IiwiMTg2MDI0NzgiLCIxODI5MDA1MiIsIjU4MzU0IiwxODc0MTEyOSwiMTg2NjEwNDAiLCIxODY2MTA4NCIsIjE4NjkwODM3Il0sInQiOiJQdWJzICZhbXA7IEJhcnMgaW4gV2hpdGVmaWVsZCJ9fQ==</td>\n",
       "      <td>Number 10, Garudachar Palya, Mahadevapura, Whitefield, Bengaluru</td>\n",
       "      <td>Vinod Bar And Restaurant</td>\n",
       "      <td>No</td>\n",
       "      <td>No</td>\n",
       "      <td>NaN</td>\n",
       "      <td>0</td>\n",
       "      <td>Whitefield</td>\n",
       "      <td>Bar</td>\n",
       "      <td>NaN</td>\n",
       "      <td>Finger Food</td>\n",
       "      <td>600</td>\n",
       "      <td>[]</td>\n",
       "      <td>[]</td>\n",
       "      <td>Pubs and bars</td>\n",
       "      <td>Whitefield</td>\n",
       "      <td>NaN</td>\n",
       "    </tr>\n",
       "    <tr>\n",
       "      <th>51714</th>\n",
       "      <td>https://www.zomato.com/bangalore/plunge-sheraton-grand-bengaluru-whitefield-hotel-convention-centre-whitefield-bangalore?context=eyJzZSI6eyJlIjpbIjE4NjAyNDc4IiwiMTgyOTAwNTIiLCI1ODM1NCIsIjE4NzQxMTI5IiwxODY2MTA0MCwiMTg2NjEwODQiLCIxODY5MDgzNyJdLCJ0IjoiUHVicyAmYW1wOyBCYXJzIGluIFdoaXRlZmllbGQifX0=</td>\n",
       "      <td>Sheraton Grand Bengaluru Whitefield Hotel &amp; Convention Centre, Prestige Shantiniketan, Whitefield, Bangalore</td>\n",
       "      <td>Plunge - Sheraton Grand Bengaluru Whitefield Hotel &amp;...</td>\n",
       "      <td>No</td>\n",
       "      <td>No</td>\n",
       "      <td>NaN</td>\n",
       "      <td>0</td>\n",
       "      <td>Whitefield</td>\n",
       "      <td>Bar</td>\n",
       "      <td>NaN</td>\n",
       "      <td>Finger Food</td>\n",
       "      <td>2,000</td>\n",
       "      <td>[]</td>\n",
       "      <td>[]</td>\n",
       "      <td>Pubs and bars</td>\n",
       "      <td>Whitefield</td>\n",
       "      <td>NaN</td>\n",
       "    </tr>\n",
       "    <tr>\n",
       "      <th>51715</th>\n",
       "      <td>https://www.zomato.com/bangalore/chime-sheraton-grand-bengaluru-whitefield-hotel-convention-centre-itpl-main-road-whitefield-bangalore?context=eyJzZSI6eyJlIjpbIjE4MjkwMDUyIiwiNTgzNTQiLCIxODc0MTEyOSIsIjE4NjYxMDQwIiwxODY2MTA4NCwiMTg2OTA4MzciXSwidCI6IlB1YnMgJmFtcDsgQmFycyBpbiBXaGl0ZWZpZWxkIn19</td>\n",
       "      <td>Sheraton Grand Bengaluru Whitefield Hotel &amp; Convention Centre, Prestige Shantiniketan, ITPL Main Road, Whitefield</td>\n",
       "      <td>Chime - Sheraton Grand Bengaluru Whitefield Hotel &amp;...</td>\n",
       "      <td>No</td>\n",
       "      <td>Yes</td>\n",
       "      <td>4.3 /5</td>\n",
       "      <td>236</td>\n",
       "      <td>ITPL Main Road, Whitefield</td>\n",
       "      <td>Bar</td>\n",
       "      <td>Cocktails, Pizza, Buttermilk</td>\n",
       "      <td>Finger Food</td>\n",
       "      <td>2,500</td>\n",
       "      <td>[('Rated 4.0', 'RATED\\n  Nice and friendly place and staff is awesome. Ansur and karaoke singer is too good and Friday nights are The best night to visit this place. Drinks and food menu as usual match the service'), ('Rated 1.0', 'RATED\\n  The service is bad. We ordered 4 Stella Artois and they gave us expired bottles. When we asked them to replace it they were reluctant about it and asked me to drink the same bottle. However they changed it later after hassle. They billed us for food which we didnt eat also. They said they will call later but no response.\\nOrdered food from Feast(their restaurant) and the quality was fine. Their paneer and daal were good but checken pizza was uncooked and soggy. Their non veg platter was amazing though. Their mocktails are below average.\\nSuch kind of food and service is not expected from Sheraton.'), ('Rated 5.0', 'RATED\\n  Nice bar inside Sheraton. The hosts are friendly and helpful, service is quick. You can use marriot rewards here to earn discount and rewards'), ('Rated 5.0', \"RATED\\n  My review based on food drink service\\n\\nFood:- food was very good especially presentation of their food make you feel wow thanks to chef for their hard work it's truly awesome in taste\\n\\nDrink :- normally very few start hotel have good collection of cocktail this is the best Ã\\x83Ã\\x83Ã\\x82Ã\\x83Ã\\x83Ã\\x82Ã\\x82ÃÂ°Ã\\x83Ã\\x83Ã\\x82Ã\\x82Ã\\x83Ã\\x82Ã\\x82Ã\\x9fÃ\\x83Ã\\x83Ã\\x82Ã\\x82Ã\\x83Ã\\x82Ã\\x82Ã\\x8cÃ\\x83Ã\\x83Ã\\x82Ã\\x82Ã\\x83Ã\\x82Ã\\x82Ã\\x9f Ã\\x83Ã\\x83Ã\\x82Ã\\x83Ã\\x83Ã\\x82Ã\\x82ÃÂ°Ã\\x83Ã\\x83Ã\\x82Ã\\x82Ã\\x83Ã\\x82Ã\\x82Ã\\x9fÃ\\x83Ã\\x83Ã\\x82Ã\\x82Ã\\x83Ã\\x82Ã\\x82Ã\\x8cÃ\\x83Ã\\x83Ã\\x82Ã\\x82Ã\\x83Ã\\x82Ã\\x82Ã\\x9f Ã\\x83Ã\\x83Ã\\x82Ã\\x83Ã\\x83Ã\\x82Ã\\x82ÃÂ°Ã\\x83Ã\\x83Ã\\x82Ã\\x82Ã\\x83Ã\\x82Ã\\x82Ã\\x9fÃ\\x83Ã\\x83Ã\\x82Ã\\x82Ã\\x83Ã\\x82Ã\\x82Ã\\x8cÃ\\x83Ã\\x83Ã\\x82Ã\\x82Ã\\x83Ã\\x82Ã\\x82Ã\\x9f Ã\\x83Ã\\x83Ã\\x82Ã\\x83Ã\\x83Ã\\x82Ã\\x82ÃÂ°Ã\\x83Ã\\x83Ã\\x82Ã\\x82Ã\\x83Ã\\x82Ã\\x82Ã\\x9fÃ\\x83Ã\\x83Ã\\x82Ã\\x82Ã\\x83Ã\\x82Ã\\x82Ã\\x8cÃ\\x83Ã\\x83Ã\\x82Ã\\x82Ã\\x83Ã\\x82Ã\\x82Ã\\x9f Ã\\x83Ã\\x83Ã\\x82Ã\\x83Ã\\x83Ã\\x82Ã\\x82ÃÂ°Ã\\x83Ã\\x83Ã\\x82Ã\\x82Ã\\x83Ã\\x82Ã\\x82Ã\\x9fÃ\\x83Ã\\x83Ã\\x82Ã\\x82Ã\\x83Ã\\x82Ã\\x82Ã\\x8cÃ\\x83Ã\\x83Ã\\x82Ã\\x82Ã\\x83Ã\\x82Ã\\x82Ã\\x9f hotel where you will get good cocktail and bartender #AMIYA# if you are cocktail lover like me he is right person to make your drink I have tried out of the menu some cocktail I don't remember the name but I remember old fashioned but gin base here is the twist I liked thanks for good cocktail\\n\\nService:- as usual hotel service I am personally like very much because they are more professional to their work so no bad thing I have found on their service thanks for good service they made my day\\n\\nWe will visit again I will suggest everyone to visit once\"), ('Rated 5.0', 'RATED\\n  I visited chime bar at Sheraton hotel it was nice experience they making nice cocktail with nice food.i recommend to this hotel for visite and enjoy experience. Thanks to Ruben and amiya for service'), ('Rated 4.0', 'RATED\\n  This restaurant is situated inside grand Sheraton hotel. This place is quite luxurious. Food quality and service are really high with a luxurious ambience. But this place is purely recommended for business lunch or dinner or for some high level party.')]</td>\n",
       "      <td>[]</td>\n",
       "      <td>Pubs and bars</td>\n",
       "      <td>Whitefield</td>\n",
       "      <td>4.3</td>\n",
       "    </tr>\n",
       "    <tr>\n",
       "      <th>51716</th>\n",
       "      <td>https://www.zomato.com/bangalore/the-nest-the-den-bengaluru-itpl-main-road-whitefield-bangalore?context=eyJzZSI6eyJlIjpbIjU4MzU0IiwiMTg3NDExMjkiLCIxODY2MTA0MCIsIjE4NjYxMDg0IiwxODY5MDgzN10sInQiOiJQdWJzICZhbXA7IEJhcnMgaW4gV2hpdGVmaWVsZCJ9fQ==</td>\n",
       "      <td>ITPL Main Road, KIADB Export Promotion Industrial Area, ITPL Main Road, Whitefield</td>\n",
       "      <td>The Nest - The Den Bengaluru</td>\n",
       "      <td>No</td>\n",
       "      <td>No</td>\n",
       "      <td>3.4 /5</td>\n",
       "      <td>13</td>\n",
       "      <td>ITPL Main Road, Whitefield</td>\n",
       "      <td>Bar, Casual Dining</td>\n",
       "      <td>NaN</td>\n",
       "      <td>Finger Food, North Indian, Continental</td>\n",
       "      <td>1,500</td>\n",
       "      <td>[('Rated 5.0', 'RATED\\n  Great ambience , looking nice good selection of food and cocktail all staffs are good and friendly Specially thanks to Ms. HELEN who take care our table ...Ã\\x83Ã\\x83Ã\\x82Ã\\x83Ã\\x83Ã\\x82Ã\\x82ÃÂ°Ã\\x83Ã\\x83Ã\\x82Ã\\x82Ã\\x83Ã\\x82Ã\\x82Ã\\x9fÃ\\x83Ã\\x83Ã\\x82Ã\\x82Ã\\x83Ã\\x82Ã\\x82Ã\\x98Ã\\x83Ã\\x83Ã\\x82Ã\\x82Ã\\x83Ã\\x82Ã\\x82Ã\\x98Ã\\x83Ã\\x83Ã\\x82Ã\\x83Ã\\x83Ã\\x82Ã\\x82ÃÂ°Ã\\x83Ã\\x83Ã\\x82Ã\\x82Ã\\x83Ã\\x82Ã\\x82Ã\\x9fÃ\\x83Ã\\x83Ã\\x82Ã\\x82Ã\\x83Ã\\x82Ã\\x82Ã\\x98Ã\\x83Ã\\x83Ã\\x82Ã\\x82Ã\\x83Ã\\x82Ã\\x82Ã\\x98'), ('Rated 5.0', 'RATED\\n  The nest is one of the best bar in Whitefield.The place is absolutely mind blowing and the ambiance here is also amazing.I would recommend this place for best cocktail and mocktails which really refreshing.The food was really good and the staffs are very kind and quick as well .I would specially thanks to miss Helen for making my evening very special.')]</td>\n",
       "      <td>[]</td>\n",
       "      <td>Pubs and bars</td>\n",
       "      <td>Whitefield</td>\n",
       "      <td>3.4</td>\n",
       "    </tr>\n",
       "  </tbody>\n",
       "</table>\n",
       "<p>51717 rows × 17 columns</p>\n",
       "</div>"
      ],
      "text/plain": [
       "                                                                                                                                                                                                                                                                                                            url  \\\n",
       "0                                                                      https://www.zomato.com/bangalore/jalsa-banashankari?context=eyJzZSI6eyJlIjpbNTg2OTQsIjE4Mzc1NDc0IiwiNTkwOTAiLCIxODM4Mjk0NCIsIjE4MjI0Njc2IiwiNTkyODkiLCIxODM3MzM4NiJdLCJ0IjoiUmVzdGF1cmFudHMgaW4gQmFuYXNoYW5rYXJpIHNlcnZpbmcgQnVmZmV0In19   \n",
       "1                                                             https://www.zomato.com/bangalore/spice-elephant-banashankari?context=eyJzZSI6eyJlIjpbIjU4Njk0IiwxODM3NTQ3NCwiNTkwOTAiLCIxODM4Mjk0NCIsIjE4MjI0Njc2IiwiNTkyODkiLCIxODM3MzM4NiJdLCJ0IjoiUmVzdGF1cmFudHMgaW4gQmFuYXNoYW5rYXJpIHNlcnZpbmcgQnVmZmV0In19   \n",
       "2                                                                                https://www.zomato.com/SanchurroBangalore?context=eyJzZSI6eyJlIjpbIjU4Njk0IiwiMTgzNzU0NzQiLDU5MDkwLCIxODM4Mjk0NCIsIjE4MjI0Njc2IiwiNTkyODkiLCIxODM3MzM4NiJdLCJ0IjoiUmVzdGF1cmFudHMgaW4gQmFuYXNoYW5rYXJpIHNlcnZpbmcgQnVmZmV0In19   \n",
       "3                                                      https://www.zomato.com/bangalore/addhuri-udupi-bhojana-banashankari?context=eyJzZSI6eyJlIjpbIjU4Njk0IiwiMTgzNzU0NzQiLCI1OTA5MCIsMTgzODI5NDQsIjE4MjI0Njc2IiwiNTkyODkiLCIxODM3MzM4NiJdLCJ0IjoiUmVzdGF1cmFudHMgaW4gQmFuYXNoYW5rYXJpIHNlcnZpbmcgQnVmZmV0In19   \n",
       "4                                                              https://www.zomato.com/bangalore/grand-village-basavanagudi?context=eyJzZSI6eyJlIjpbIjU4Njk0IiwiMTgzNzU0NzQiLCI1OTA5MCIsIjE4MzgyOTQ0IiwxODIyNDY3NiwiNTkyODkiLCIxODM3MzM4NiJdLCJ0IjoiUmVzdGF1cmFudHMgaW4gQmFuYXNoYW5rYXJpIHNlcnZpbmcgQnVmZmV0In19   \n",
       "...                                                                                                                                                                                                                                                                                                         ...   \n",
       "51712  https://www.zomato.com/bangalore/best-brews-four-points-by-sheraton-bengaluru-whitefield-whitefield?context=eyJzZSI6eyJlIjpbIjUyMzA2IiwiMTg2NTEzNTciLCIxODYwMjQ3OCIsIjE4MjkwMDUyIiw1ODM1NCwiMTg3NDExMjkiLCIxODY2MTA0MCIsIjE4NjYxMDg0IiwiMTg2OTA4MzciXSwidCI6IlB1YnMgJmFtcDsgQmFycyBpbiBXaGl0ZWZpZWxkIn19   \n",
       "51713                               https://www.zomato.com/bangalore/vinod-bar-and-restaurant-whitefield-bangalore?context=eyJzZSI6eyJlIjpbIjE4NjUxMzU3IiwiMTg2MDI0NzgiLCIxODI5MDA1MiIsIjU4MzU0IiwxODc0MTEyOSwiMTg2NjEwNDAiLCIxODY2MTA4NCIsIjE4NjkwODM3Il0sInQiOiJQdWJzICZhbXA7IEJhcnMgaW4gV2hpdGVmaWVsZCJ9fQ==   \n",
       "51714     https://www.zomato.com/bangalore/plunge-sheraton-grand-bengaluru-whitefield-hotel-convention-centre-whitefield-bangalore?context=eyJzZSI6eyJlIjpbIjE4NjAyNDc4IiwiMTgyOTAwNTIiLCI1ODM1NCIsIjE4NzQxMTI5IiwxODY2MTA0MCwiMTg2NjEwODQiLCIxODY5MDgzNyJdLCJ0IjoiUHVicyAmYW1wOyBCYXJzIGluIFdoaXRlZmllbGQifX0=   \n",
       "51715       https://www.zomato.com/bangalore/chime-sheraton-grand-bengaluru-whitefield-hotel-convention-centre-itpl-main-road-whitefield-bangalore?context=eyJzZSI6eyJlIjpbIjE4MjkwMDUyIiwiNTgzNTQiLCIxODc0MTEyOSIsIjE4NjYxMDQwIiwxODY2MTA4NCwiMTg2OTA4MzciXSwidCI6IlB1YnMgJmFtcDsgQmFycyBpbiBXaGl0ZWZpZWxkIn19   \n",
       "51716                                                          https://www.zomato.com/bangalore/the-nest-the-den-bengaluru-itpl-main-road-whitefield-bangalore?context=eyJzZSI6eyJlIjpbIjU4MzU0IiwiMTg3NDExMjkiLCIxODY2MTA0MCIsIjE4NjYxMDg0IiwxODY5MDgzN10sInQiOiJQdWJzICZhbXA7IEJhcnMgaW4gV2hpdGVmaWVsZCJ9fQ==   \n",
       "\n",
       "                                                                                                                 address  \\\n",
       "0                                                                942, 21st Main Road, 2nd Stage, Banashankari, Bangalore   \n",
       "1                   2nd Floor, 80 Feet Road, Near Big Bazaar, 6th Block, Kathriguppe, 3rd Stage, Banashankari, Bangalore   \n",
       "2                                     1112, Next to KIMS Medical College, 17th Cross, 2nd Stage, Banashankari, Bangalore   \n",
       "3                                                             1st Floor, Annakuteera, 3rd Stage, Banashankari, Bangalore   \n",
       "4             10, 3rd Floor, Lakshmi Associates, Gandhi Bazaar Main Road, Above Reliance Trends, Basavanagudi, Bangalore   \n",
       "...                                                                                                                  ...   \n",
       "51712                               Four Points by Sheraton Bengaluru, 43/3, Whitefield Main Road, Whitefield, Bangalore   \n",
       "51713                                                   Number 10, Garudachar Palya, Mahadevapura, Whitefield, Bengaluru   \n",
       "51714       Sheraton Grand Bengaluru Whitefield Hotel & Convention Centre, Prestige Shantiniketan, Whitefield, Bangalore   \n",
       "51715  Sheraton Grand Bengaluru Whitefield Hotel & Convention Centre, Prestige Shantiniketan, ITPL Main Road, Whitefield   \n",
       "51716                                 ITPL Main Road, KIADB Export Promotion Industrial Area, ITPL Main Road, Whitefield   \n",
       "\n",
       "                                                          name online_order  \\\n",
       "0                                                        Jalsa          Yes   \n",
       "1                                               Spice Elephant          Yes   \n",
       "2                                              San Churro Cafe          Yes   \n",
       "3                                        Addhuri Udupi Bhojana           No   \n",
       "4                                                Grand Village           No   \n",
       "...                                                        ...          ...   \n",
       "51712        Best Brews - Four Points by Sheraton Bengaluru...           No   \n",
       "51713                                 Vinod Bar And Restaurant           No   \n",
       "51714  Plunge - Sheraton Grand Bengaluru Whitefield Hotel &...           No   \n",
       "51715   Chime - Sheraton Grand Bengaluru Whitefield Hotel &...           No   \n",
       "51716                             The Nest - The Den Bengaluru           No   \n",
       "\n",
       "      book_table    rate  votes                    location  \\\n",
       "0            Yes   4.1/5    775                Banashankari   \n",
       "1             No   4.1/5    787                Banashankari   \n",
       "2             No   3.8/5    918                Banashankari   \n",
       "3             No   3.7/5     88                Banashankari   \n",
       "4             No   3.8/5    166                Basavanagudi   \n",
       "...          ...     ...    ...                         ...   \n",
       "51712         No  3.6 /5     27                  Whitefield   \n",
       "51713         No     NaN      0                  Whitefield   \n",
       "51714         No     NaN      0                  Whitefield   \n",
       "51715        Yes  4.3 /5    236  ITPL Main Road, Whitefield   \n",
       "51716         No  3.4 /5     13  ITPL Main Road, Whitefield   \n",
       "\n",
       "                 rest_type  \\\n",
       "0            Casual Dining   \n",
       "1            Casual Dining   \n",
       "2      Cafe, Casual Dining   \n",
       "3              Quick Bites   \n",
       "4            Casual Dining   \n",
       "...                    ...   \n",
       "51712                  Bar   \n",
       "51713                  Bar   \n",
       "51714                  Bar   \n",
       "51715                  Bar   \n",
       "51716   Bar, Casual Dining   \n",
       "\n",
       "                                                                                                 dish_liked  \\\n",
       "0            Pasta, Lunch Buffet, Masala Papad, Paneer Lajawab, Tomato Shorba, Dum Biryani, Sweet Corn Soup   \n",
       "1      Momos, Lunch Buffet, Chocolate Nirvana, Thai Green Curry, Paneer Tikka, Dum Biryani, Chicken Biryani   \n",
       "2           Churros, Cannelloni, Minestrone Soup, Hot Chocolate, Pink Sauce Pasta, Salsa, Veg Supreme Pizza   \n",
       "3                                                                                               Masala Dosa   \n",
       "4                                                                                       Panipuri, Gol Gappe   \n",
       "...                                                                                                     ...   \n",
       "51712                                                                                                   NaN   \n",
       "51713                                                                                                   NaN   \n",
       "51714                                                                                                   NaN   \n",
       "51715                                                                          Cocktails, Pizza, Buttermilk   \n",
       "51716                                                                                                   NaN   \n",
       "\n",
       "                                     cuisines approx_cost_2ppl  \\\n",
       "0              North Indian, Mughlai, Chinese              800   \n",
       "1                 Chinese, North Indian, Thai              800   \n",
       "2                      Cafe, Mexican, Italian              800   \n",
       "3                  South Indian, North Indian              300   \n",
       "4                    North Indian, Rajasthani              600   \n",
       "...                                       ...              ...   \n",
       "51712                             Continental            1,500   \n",
       "51713                             Finger Food              600   \n",
       "51714                             Finger Food            2,000   \n",
       "51715                             Finger Food            2,500   \n",
       "51716  Finger Food, North Indian, Continental            1,500   \n",
       "\n",
       "                                                                                                                                                                                                                                                                                                                                                                                                                                                                                                                                                                                                                                                                                                                                                                                                                                                                                                                                                                                                                                                                                                                                                                                                                                                                                                                                                                                                                                                                                                                                                                                                                                                                                                                                                                                                                                                                                                                                                                                                                                                                                                                                                                                                                                                                                                                                                                                                                                                                                                                                                                                                                                                                                                                                                                                                                                                                                                                                                                                                                                                                                                                                                                                                                                                                                                                                                                                                                                                                                                                                                                                                                                                                                                                                                                                                                                                                                                                                                                                                                                                                                                                                                                                                                                                                                                                                                                                                                                                                                                                                                                                                                                                                                                                                                                                                                                                                                                                                                                                                                                                                                                                                                                                                                                                                                                                                                                                                                                                                                                                                                                                                                                                                                                                                                                                                                                                                                                                                                                                                                                                                                                                                                                                                                                                                                                                                                                                                                                                                                                                                                                                                                                                                                                                                                                                                                                                                                                                                                                                                                                                                                                                                                                                                                                                                                                                                                                                                                                                                                                                                                                                                                                                                                                                                                                                                                                                                                                                                                                                                                                                                                                                                                                                                                                                                                                                                                                                                                                                                                                                                                                                                                                                                                                                                                                                                                                                                                                                                                                                                                                                                                                                                                                                                                                                                                                                                                                                                                                                                                                                                                                                                                                                                                                                                                                                                                                                                                                                                                                                                                                                                                                                                                                                                                                                                                                                                                                                                                                                                                                                                                                                                                                                                                                                                                                                                                                                                                                                                                                                                                                                                                                                                                                                                                                                                                                                                                                                                                                                                                                                                                                                                                                                                                                                                                                                                                                                                                                                                                                                                                                                                                                                                                                                                                                                                                                                                                                                                                                                                                                                                                                                                                                                                                                                                                                                                                                                                                                                                                                                                                                                                                                                                                                                                                                                                                                                                                                                                                                                                                                                                                                                                                                                                                                                                                                                                                                                                                                                                                                                                                                                                                                                                                                                                                                                                                                                                                                                                                                                                                                                                                                                                                                                                                                                                                                                                                                                                                                                                                                                                                                                                                                                                                                                                                                                                                                                                                                                                                                                                                       reviews_list  \\\n",
       "0                                                                                                                                                                                                                                                                                                                                                                                                                                                                                                                                                                                                                                                                                                                                                                                                                                                                                                                                                                                                                                                                                                                                                                                                                                                                                                                                                                                                                                                                                                                                                                                                                                                                                                                                                                                                                                                                                                                                                                                                                                                                                                                                                                                                                                                                                                                                                                                                                                                                                                                                                                                                                                                                                                                                                                                                                                                                                                                                                                                                                                                                                                                                                                                                                                                                                                                                                                                                                                                                                                                                                                                                                                                                                                                                                                                                                                                                                                                                                                                                                                                                                                                                                                                                                                                                                                                                                                                                                                                                                                                                                                                                                                                                                                                                                                                                                                                                                                                                                                                                                                                                                                                                                                                                                                                                                                                                                                                                                                                                                                                                                                                                                                                                                                                                                                                                                                                                                                                                                                                                                                                                                                                                                                                                                                                                                                                                                                                                                                                                                                                                                                                                                                                                                                                                                                                                                                                                                                                                                                                                                                                                                                                                                                                                                                                                                                                                                                                                                                                                                                                                                                                                                                                                                                                                                                                                                                                                                                                                                                                                                                                                                                                                                                                                                                                                                                                                                                                                                                                                                                                                                                                                                                                                                                                                                                                                                                                                                                                                                                                                                                                                                                                                                                                                                                                                                                                                                                                                                                                                                                                                                                                                                                                                                                                                                                                                                                                                                                                                                                                                                                                                                                                                                                                                                                                                                                                                                                                                                                                                                                                                                                                                                                                                                                                                                                                                                                                                                                                                                                                                                                                                                                                                                                                                                                                                                                                                                                               [('Rated 4.0', 'RATED\\n  A beautiful place to dine in.The interiors take you back to the Mughal era. The lightings are just perfect.We went there on the occasion of Christmas and so they had only limited items available. But the taste and service was not compromised at all.The only complaint is that the breads could have been better.Would surely like to come here again.'), ('Rated 4.0', 'RATED\\n  I was here for dinner with my family on a weekday. The restaurant was completely empty. Ambience is good with some good old hindi music. Seating arrangement are good too. We ordered masala papad, panner and baby corn starters, lemon and corrionder soup, butter roti, olive and chilli paratha. Food was fresh and good, service is good too. Good for family hangout.\\nCheers'), ('Rated 2.0', 'RATED\\n  Its a restaurant near to Banashankari BDA. Me along with few of my office friends visited to have buffet but unfortunately they only provide veg buffet. On inquiring they said this place is mostly visited by vegetarians. Anyways we ordered ala carte items which took ages to come. Food was ok ok. Definitely not visiting anymore.'), ('Rated 4.0', 'RATED\\n  We went here on a weekend and one of us had the buffet while two of us took Ala Carte. Firstly the ambience and service of this place is great! The buffet had a lot of items and the good was good. We had a Pumpkin Halwa intm the dessert which was amazing. Must try! The kulchas are great here. Cheers!'), ('Rated 5.0', 'RATED\\n  The best thing about the place is itÃ\\x83Ã\\x83Ã\\x82Ã\\x82Ã\\x83Ã\\x82Ã\\x82Ã\\x92s ambiance. Second best thing was yummy ? food. We try buffet and buffet food was not disappointed us.\\nTest ?. ?? ?? ?? ?? ??\\nQuality ?. ??????????.\\nService: Staff was very professional and friendly.\\n\\nOverall experience was excellent.\\n\\nsubirmajumder85.wixsite.com'), ('Rated 5.0', 'RATED\\n  Great food and pleasant ambience. Expensive but Coll place to chill and relax......\\n\\nService is really very very good and friendly staff...\\n\\nFood : 5/5\\nService : 5/5\\nAmbience :5/5\\nOverall :5/5'), ('Rated 4.0', 'RATED\\n  Good ambience with tasty food.\\nCheese chilli paratha with Bhutta palak methi curry is a good combo.\\nLemon Chicken in the starters is a must try item.\\nEgg fried rice was also quite tasty.\\nIn the mocktails, recommend \"Alice in Junoon\". Do not miss it.'), ('Rated 4.0', 'RATED\\n  You canÃ\\x83Ã\\x83Ã\\x82Ã\\x82Ã\\x83Ã\\x82Ã\\x82Ã\\x92t go wrong with Jalsa. Never been a fan of their buffet and thus always order alacarteÃ\\x83Ã\\x83Ã\\x82Ã\\x82Ã\\x83Ã\\x82Ã\\x82Ã\\x92. Service at times can be on the slower side but food is worth the wait.'), ('Rated 5.0', 'RATED\\n  Overdelighted by the service and food provided at this place. A royal and ethnic atmosphere builds a strong essence of being in India and also the quality and taste of food is truly authentic. I would totally recommend to visit this place once.'), ('Rated 4.0', 'RATED\\n  The place is nice and comfortable. Food wise all jalea outlets maintain a good standard. The soya chaap was a standout dish. Clearly one of trademark dish as per me and a must try.\\n\\nThe only concern is the parking. It very congested and limited to just 5cars. The basement parking is very steep and makes it cumbersome'), ('Rated 4.0', 'RATED\\n  The place is nice and comfortable. Food wise all jalea outlets maintain a good standard. The soya chaap was a standout dish. Clearly one of trademark dish as per me and a must try.\\n\\nThe only concern is the parking. It very congested and limited to just 5cars. The basement parking is very steep and makes it cumbersome'), ('Rated 4.0', 'RATED\\n  The place is nice and comfortable. Food wise all jalea outlets maintain a good standard. The soya chaap was a standout dish. Clearly one of trademark dish as per me and a must try.\\n\\nThe only concern is the parking. It very congested and limited to just 5cars. The basement parking is very steep and makes it cumbersome')]   \n",
       "1                                                                                                                                                                                                                                                                                                                                                                                                                                                                                                                                                                                                                                                                                                                                                                                                                                                                                                                                                                                                                                                                                                                                                                                                                                                                                                                                                                                                                                                                                                                                                                                                                                                                                                                                                                                                                                                                                                                                                                                                                                                                                                                                                                                                                                                                                                                                                                                                                                                                                                                                                                                                                                                                                                                                                                                                                                                                                                                                                                                                                                                                                                                                                                                                                                                                                                                                                                                                                                                                                                                                                                                                                                                                                                                                                                                                                                                                                                                                                                                                                                                                                                                                                                                                                                                                                                                                                                                                                                                                                                                                                                                                                                                                                                                                                                                                                                                                                                                                                                                                                                                                                                                                                                                                                                                                                                                                                                                                                                                                                                                                                                                                                                                                                                                                                                                                                                                                                                                                                                                                                                                                                                                                                                                                                                                                                                                                                                                                                                                                                                                                                                                                                                                                                                                                                                                                                                                                                                                                                                                                                                                                                                                                                                                                                                                                                                                                                                                                                                                                                                                                                                                                                                                                                                                                                                                                                                                                                                                                                                                                                                                                                                                                                                                                                                                                                                                                                                                                                                                                                                                                                                                                                                                                                                                                                                                                                                                                                                                                                                                                                                                                                                                                                                                                                                                                                                                                                                                                                                                                                                                                                                                                                                                                                                                                                                                                                                                                                                                                                                                                                          [('Rated 4.0', 'RATED\\n  Had been here for dinner with family. Turned out to be a good choose suitable for all ages of people. Can try this place. We liked the most was their starters. Service is good. Prices are affordable. Will recommend this restaurant for early dinner. The place is little noisy.'), ('Rated 3.0', 'RATED\\n  The ambience is really nice, staff is courteous. The price is pretty high for the quantity, but overall the experience was fine. The quality of food is nice but nothing extraordinary. They also have buffet(only veg)'), ('Rated 3.0', 'RATED\\n  I felt good is little expensive for the quantity they serve and In terms of taste is decent. There is nothing much to talk about the ambience, regular casual dining restaurant where you can take your family for dinner or lunch. If they improve on that quantity or may be reduce the price a bit or may be improve the presentation of the food it might Manage to get more repeat customers.'), ('Rated 4.0', 'RATED\\n  I was looking for a quite place to spend some time with family and as well wanted to try some new place. Since I was at Banashankari I thought of trying this place. The place had good rating and was part of Zomato gold. So I decided to try this place. It was a delite to see a very friendly staff and food we ordered was very tasty as well.\\n\\nFood : 4/5\\nAmbience :3/5\\nFriendly staff : 4/5\\nPocket friendly : 4/5\\n\\nWill definitely visit again ??'), ('Rated 4.0', \"RATED\\n  Nice place to dine and has a good ambiance... Food is good and the serving time is also good..neat restrooms and we'll arranged tables....only thing is we went at 12.30 for lunch...and we noticed that they kept on playing one music back to back which was a little annoying...\\n\\n1. Chicken biriyani was so good and the chicken was fresh and tender ,rice was well cooked and overall was great\\n\\n2. Mutton biriyani was very very good and tasty and It had plenty of mutton pieces...\"), ('Rated 5.0', 'RATED\\n  This place just cool ? with good ambience and slow music and having delicious food is where you find peace. Staff very friendly and they have maintained the place so clean. The price is average for what the quantity of food they serve.\\nThom yum Thai soup was best and was treat to mouth, roti was soft with that vilaythi paneer was perfect to have for veggie foodies, in rice we tried burnt garlic fried rice with vegetables and it was the perfect thing to end.'), ('Rated 4.0', \"RATED\\n  Quiet a good family type of place.. too calm and usually we don't find crowd here.. panner curry and the deserts is what we had tasted.. they wer really good but we found it a little expensive\"), ('Rated 2.0', \"RATED\\n  I had a very bad experience here.\\nI don't know about a la carte, but the buffet was the worst. They gave us complementary drink and momos before the buffet. The momos were really good.\\nThe number of varieties first of all was very disappointing. The service was very slow. They refilled the food very slowly. The starters were okay. The main course also was so so. There was two gravies with roti and some rice with raitha. They had chats, sev puri and pan puri, which was average. But the desert was disappointing. They had gulab Jamun and chocolate cake. The jamun was not cooked inside. There was a cold blob of raw dough inside. The chocolate cake also was really hard and not that good.\\nOverall the buffet was a bad experience for me.\"), ('Rated 4.0', \"RATED\\n  Food: 8/10\\nAmbience:8/10\\nStaff:8/10\\nOne of the good places to try north Indian food...but depends on ur taste buds. Not everyone will like all the items here. Specially when u r particular abt sweet and spicy food.\\nThere's buffet available too.\\nWe had ordered paneer uttar dakshin and paneer kurchan..was amazing. The Gobi hara pyaz and mix veg were average.\"), ('Rated 3.0', 'RATED\\n  A decent place for a family lunch or dinner.. well arranged in a simple manner. Food was tasty and the crew was very helpful and understanding..'), ('Rated 4.0', \"RATED\\n  Great place to have a heavy lunch. Good service.\\nThe chicken biryani was undoubtedly one of the best I've had. Biriyani and Lassi would be the suggested combo. Buffet is the talk of the place, so try according to your appetite. A nice place.\"), ('Rated 4.0', 'RATED\\n  Its the one restaurant near katriguppe that i found was really good. Good variety of Chinese and thai dishes. Service is good and good place to hangout with family as its a peaceful place where noise is really less and good view.'), ('Rated 2.0', \"RATED\\n  Spice elephant soup SPL: almost manchow flavour soup.. Just above medium spicy\\n\\nLasooni fish tikka was awesome\\n\\nI don't remember the dessert name but I have attached the photo .. It had vanilla ice inside wafers... Wafer was hell hard, egg smell chewy ... Nightmare dessert !\\n\\nTable leg space was very bad... I was so uncomfortable, the whole time kept on adjusting my legs\\n\\nNo parking\\n\\nFor the taste felt this is too costly\"), ('Rated 4.0', 'RATED\\n  Zomato gold partner at this price. It was insane. They have really nice food. small place with very courteous staff and very cheap food for this ambience. Cost of soups is 80-100. Starters from 150-250. Main course 200-300. Cost for two was 800 for us.')]   \n",
       "2                                                                                                                                                                                                                                                                                                                                                                                                                                                                                                                                                                                                                                                                                                                                                                                                                                                                                                                                                                                                                                                                                                                                                                                                                                                                                                                                                                                                                                                                                                                                                                                                                                                                                                                                                                                                                                                                                                                                                                                                                                                                                                                                                                                                                                                                                                                                                                                                                                                                                                                                                                                                                                                                                                                                                                                                                                                                                                                                                                                                                                                                                                                                                                                                                                                                                                                                                                                                                                                                                                                                                                                                                                                                                                                                                                                                                                                                                                                                                                                                                                                                                                                                                                                                                                                                                                                                                                                                                                                                                                                                                                                                                                                                                                                                                                                                                                                                                                                                                                                                                                                                                                                                                                                                                                                                                                                                                                                                                                                                                                                                                                                                                                                                                                                                                                                                                                                                                                                                                                                                                                                                                                                                                                                                                                                                                                                                                                                                                                                                                                                                                                                                                                                                                                                                                                                                                                                                                                                                                                                                                                                                                                                                                                                                                                                                                                                                                                                                                                                                                                                                                                                                                                     [('Rated 3.0', \"RATED\\n  Ambience is not that good enough and it's not a pocket friendly cafe and the quantity is not that good and desserts are too good enough ??..\"), ('Rated 3.0', \"RATED\\n \\nWent there for a quick bite with friends.\\nThe ambience had more of corporate feel. I would say it was unique.\\nTried nachos, pasta churros and lasagne.\\n\\nNachos were pathetic.( Seriously don't order)\\nPasta was okayish.\\nLasagne was good.\\nNutella churros were the best.\\nOverall an okayish experience!\\nPeace ??\"), ('Rated 4.0', \"RATED\\n  First of all, a big thanks to the staff of this Cafe. Very polite and courteous.\\n\\nI was there 15mins before their closing time. Without any discomfort or hesitation, the staff welcomed me with a warm smile and said they're still open, though they were preparing to close the cafe for the day.\\n\\nQuickly ordered the Thai green curry, which is served with rice. They got it for me within 10mins, hot and freshly made.\\n\\nIt was tasty with the taste of coconut milk. Not very spicy, it was mild spicy.\\n\\nI saw they had yummy looking dessert menu, should go there to try them out!\\n\\nA good spacious place to hang out for coffee, pastas, pizza or Thai food.\"), ('Rated 3.0', \"RATED\\n  A place for people who love churos. Otherwise it's a normal simple cafe like any other in town . Can go and spend the evening there . The positive being it is one of the better cafes in and around Banashankari and also the place is not very crowded .\"), ('Rated 3.0', 'RATED\\n  Have been visiting this place since years. The quality has gone down drastically. Food quality has become very average from good. Service is also very bad of late.'), ('Rated 1.0', 'RATED\\n  Really disappointed with the place.\\n\\nSeems like a old dusty store room stacked up with old sofas and chairs! The decor is soo disappointing that I cannot put it in words!\\nLastly the food was cherry on the cake to make it a complete worse meal.\\n\\nThis place is the last option you should ever consider.'), ('Rated 3.0', 'RATED\\n  Congested atmosphere due to smoke from kitchen\\nAmbience was k\\nService was k .\\nChuros was a new experience recommended\\nNear to kims . Parking was not der'), ('Rated 1.0', \"RATED\\n  Cockroaches !! I Repeat cockroaches!!Bakasura was disappointed.\\nBeing in Banashankari, being a gold outlet and nesting them? who can even think of that. Thankfully it wasn't over bakasura's plate. The ambience was last cleaned a decade back i guess. A cockroach just walked over our table. As it was alive, and well moving , the bakasura couldnt take a pic of it. Then the staff had to actually take it out of our table. Such ambience ? like what are you upto?\\n\\nBakasura disapproves. I dont even want to talk about the food.\"), ('Rated 4.0', 'RATED\\n  A nice place to hangout, this place looks professional and also cute. If anyone is trying churros for the first the time, this is the place to go. Cheesecake is pretty amazing too.\\nRecommended.'), ('Rated 4.0', 'RATED\\n  1) pizza mocktails shakes and churros really very good\\n2) staff good\\n3) ambience simple and nice good\\n4) location of San churro cafe very nice\\n5) over San churro cafe good....'), ('Rated 3.0', \"RATED\\n  One of my favourite places that I often visit in South bangalore , but quality has been reduced than before. Little unhappy with the food this time.\\nBut their churros never dissapointed me. Staff are too slow and do not respond easily.\\n\\nSoups:\\nMinestrone soup was like vegetable stock water with vegetables in it, not happy with it.\\n\\nChurros :\\nIt was great as usual. A must visit place if u love churros.\\n\\nStarters:\\n1. Africano panner -\\nIt was bit sweet and not happy with the dish!!\\n2. Loaded nachos -\\nThis happened to be their one of the best dishes, but now I take back my words. Very dissapointed with the dish.\\n\\nMain course:\\nsicilia pizza\\nPizza was too good, it's a must try dish.\\n\\nFinally I would recommend this place for churros and pizza .\\n\\nTaste : 6/10\\nAmbience :7/10\\nValue for money : 8/10\\n\\nOverall experience : 7.5/10\"), ('Rated 4.0', 'RATED\\n  Visited this place long before, place come to.notice with the decoration lights outside the cafe. We ordered churos, pizza and hot chocolate, all were good just I little priced more.'), ('Rated 4.0', 'RATED\\n  Spain pictures of Churros triggered Nostalgia about it , which led to Google search for Churro places in city , lucky we to get the result as San Churro cafe , we had an delectable churros here along with hot chocolate and Nachos ! Thanks for fulfilling our thirst of Spanish Churros !\\nFood : ???\\nChurros ???\\nHot Chocolate ?\\nNachos ??\\n\\nService : ??\\n\\nAmbiance : ?\\n\\nCleanliness : ??\\n\\nOne drawback : Store had some flies, I hope they take care of them for our next tour ?'), ('Rated 3.0', 'RATED\\n  Ã\\x83Ã\\x83Ã\\x82Ã\\x82Ã\\x83Ã\\x82Ã\\x82Ã\\x93Chocolaty and churroic experienceÃ\\x83Ã\\x83Ã\\x82Ã\\x82Ã\\x83Ã\\x82Ã\\x82Ã\\x94\\n\\nHit chocolate and churro with chocolate dip in the picture.\\n\\nMy first time at this restaurant and it has delivered in service, options as well as taste.'), ('Rated 4.0', 'RATED\\n  Though very sadly the place looks in need of retouching, but the food was great! Especially when it was super cold outside and we were super hungry, the staff was nice. We ordered the pink pasta and a pizza. Both of them were pretty good. Was really tempted to try their Churros but we were stuffed. Worth a visit and try for sure!'), ('Rated 3.0', \"RATED\\n  Churros, the restaurant's eponymous offering, has to be tried. They're a Mexican snack and served with chocolate sauce. Milkshakes are good too. The interior walls have murals and writings all over. Haven't tried the pizzas here but the cakes and pastries were pretty good.\"), ('Rated 3.0', \"RATED\\n  Honestly, have only tried parcels and that too only starters and mains - never tried desserts. So this review is based on starters and mains only. The quality wasn't all that great, was pretty average.\"), ('Rated 4.0', \"RATED\\n  Visited this place for the first time, recently. The ambience was pretty good. We ordered two 'churros for two'. Having churros for the first time ever, I was way too excited and judgmental. But swear to Lord, the churros were heavenly! The chocolate sauce was the actual chocolate sauce and not nutella xD We had taken the Cross Country Ranch pizza. It was a thin crust pizza loaded with veggies.\\nThe place is famous for churros (the name suggests so). I would love to visit again to try all the other items out :')\"), ('Rated 4.0', 'RATED\\n  I love the desserts more than anything here !Good place and well served !:)\\nWe dint like the nachos here , it was not that good as we expected !\\nExcept nachos almost all dish were quite good!'), ('Rated 2.0', \"RATED\\n  2nd time I have visited this place and I am surprised to see how it has declined. Churros was hard, pizza was pathetic, loaded nachos and masala Garlic bread were topped with cheese with MAYO! Yes mayonnese.. Soup has the bread crumbs in almost melted state, mocktails were average and our only Savior was pasta and caramel pudding... This place has high potential but let down by dull ambience, pretty slow and inattentive staff. Buffet price was listed as 399 but was charged 499, We still went ahead and took the deal to be very disappointed!! Most dishes were freshly cooked hence going with some starts else would rate them lower. I did not find a single person who seemed happy with their meal as moat complained about one thing or the other. That'll be my last visit San Churros.\")]   \n",
       "3      [('Rated 4.0', \"RATED\\n  Great food and proper Karnataka style full meals. Been there twice and was fully satisfied.. Will give 5 stars if it's well managed............\"), ('Rated 2.0', 'RATED\\n  Reached the place at 3pm on Saturday. Half of the items on the menu were over. What was annoying was is the food was cold. The taste was also very average. Only dosa and holige were good. There were very few people in the restaurant and the service was still very slow. The waiters were all standing in one corner and talking. Had to call them repeatedly.'), ('Rated 4.0', 'RATED\\n  Had been here, good food served and tasty,good place to go with freinds and family, should be first to get served well with all food. One of the good hotel there for this price.'), ('Rated 2.0', 'RATED\\n  How can a Udupi restaurant be so dirty.the floor the walls the waiters are all stained in food.Why cant they clean it? The floor even had decorative colour paper every where and lot of food.Now coming to the taste of the food- it was pretty decent for what they chargw.What upset us was the menu says they serve thambuli, two variety of rice etc but they were all over at 2.45 but they still charged us full amount.Lastly if u r ok to b seated with random people and adjust with their table manners( burrping etc) then tis place is decent for a quick veg udupi meals'), ('Rated 4.0', 'RATED\\n  Aadhuri Udupi bhojana is one of the best vegetarian hotel in and around Banashankari locality\\nwere we can enjoy the authentic south Karnataka style food.'), ('Rated 5.0', 'RATED\\n  One of the best restaurants for unlimited food. Price for one full unlimited meal is ?150 and the service is awesome here. If youÃ\\x83Ã\\x83Ã\\x82Ã\\x82Ã\\x83Ã\\x82Ã\\x82Ã\\x92re a costalian you will love the food served here.'), ('Rated 4.0', \"RATED\\n  Been here a couple of times. Highly satisfying on both the ocassions. Great food. Decent service. At price of 160 per person it is of a great value. The staff here serves in a traditional Mysore style dresses. The food is authentic Karnataka meals. I really liked the pineapple pickle/chutney. They serve some 4 varities of rice of which you shouldn't try all as you would already be full. Roti, Dosa were decent. In the deserts, Payasam& Holige were good.\\nI think it is one the must try places to try some authentic south food even if you have been to the likes of Kamath etc. this one is a little different. :)\"), ('Rated 5.0', 'RATED\\n  Very good restorent good south Indian food very nice all food s are good we spent good time and food in this hotel value of money we loved it'), ('Rated 3.5', 'RATED\\n  I went to this restaurant on Sunday afternoon.It was a bit crowded.\\n\\nIts located in the 1st floor Above anna kuteera kathriguppe\\n\\nYou need to take food coupon in the ground floor itself.\\nit was 160 rs.\\n\\nTaste wise it was good.\\nService was slow.\\nNothing exciting/different in the menu.\\nWhatever they serve its good.\\nWorth for money.'), ('Rated 5.0', 'RATED\\n  Awesome place , worth with price , quality , quantity , service , hygiene and discipline I loved it ???? wish there were more rating stars to give I give 100 on 5 for sure'), ('Rated 3.5', 'RATED\\n  Nice food, good ambiance, so many verity of food, this time i was in hurry so, next review will be detailed one. Its good to see all dishes at one place'), ('Rated 1.5', 'RATED\\n  The food was not satisfactory. Not one item served could be eaten again . Only advantage is the price but even that is not going to be enough to make me visit the place again . Dear Udupi staff people wouldnÃ\\x83Ã\\x83Ã\\x82Ã\\x82Ã\\x83Ã\\x82Ã\\x82Ã\\x92t mind if the food quality was better for a higher price and please get more fans so that people wonÃ\\x83Ã\\x83Ã\\x82Ã\\x82Ã\\x83Ã\\x82Ã\\x82Ã\\x92t have to deal with another disappointment of sweating while eating.'), ('Rated 5.0', 'RATED\\n  Excellent quality and taste, more variety of authentic south Indian food. Excellent service. Highly recommended. Worth the money we pay here.'), ('Rated 2.0', \"RATED\\n  I'm rating 2 only because of the large number of items they serve for the price they charge. While the taste is moderate, the biggest turn off is the poor service and totally unresponsive staff. They are either understaffed or poorly trained. I didn't get to taste a few items, thanks to their ever busy staff, and ended eating what was served. Please learn the crowd management from other peers like maiyya and roti ghar\"), ('Rated 5.0', 'RATED\\n  One of my colleagues suggested this place. Went there at 1 pm and place wasnt crowded. Ambience is decent and cool. A welcome drink \"appekai saru\" was served. Then started..typical \"baale yele uta\" . Diffrerent types of palya, kosambari and sides. Then came masala dosa, pulka,pulav, veg rice bath. Masala dosa was very very tasty. Service is bit fast as people will be coming, but they will make it slow if u tell them to. Then comes rice with sambar,rasam, daal,tambali. And yes, dont forget to eat holige,payasam and icecream. Service is very nice. One best thing is all of this comes in just 160 rs and its unlimited!!! What else you want!! A must visit place for south indian foodie!'), ('Rated 3.0', \"RATED\\n  Been here last week with high expectations based on few reviews. But utterly disappointed with the food quality & taste. I feel it's an overhyped place! There are many better places in the vicinity for Plantain leaf meal. There was too much of waiting & these staffs were too hurry in serving food & asking people to finish meal & leave quickly. I can understand there is a waiting and staffs should approach in a positive way. I will never go there again!\\n\\nbangaloreepicure.com\"), ('Rated 4.0', 'RATED\\n  I have a confession, being a south Indian I distaste south Indian food(not that I hate it, I don\\'t like it either).But still made up my mind on Sankaranti to have authentic south Indian food visited \"Adduri Udupi Bhojana\" because it was close to my place.I just had a look at the menu told myself that I can do it(I am not blessed with a tremendous appetite).welcomed with the mango soup followed by the wide variety of dishes served, I have developed the new love for Pongal(both sweet and Khara).I can still feel the taste of the ghee bursting in my mouth but it was\"kai holige\" that made my day, crisp and soft.not to forget food is served on a banana leaf that adds in more flavor and taste.waiters are attentive and responsive.The customer\\'s needs are monitored and addressed.so much variety for just 160Rs without compromising on quantity and quality and yes it is unlimited.This visit turned out to be a surprise package.'), ('Rated 3.5', 'RATED\\n  Food is good.\\nNo parking\\nAmbience is average\\nOverall its value for money if you looking for south Indian food.\\nPreferred the tiffin items......'), ('Rated 3.0', \"RATED\\n  Been here last week with high expectations based on few reviews. But utterly disappointed with the food quality & taste. I feel it's an overhyped place! There are many better places in the vicinity for Plantain leaf meal. There was too much of waiting & these staffs were too hurry in serving food & asking people to finish meal & leave quickly. I can understand there is a waiting and staffs should approach in a positive way. I will never go there again!\\n\\nbangaloreepicure.com\"), ('Rated 4.0', 'RATED\\n  I have a confession, being a south Indian I distaste south Indian food(not that I hate it, I don\\'t like it either).But still made up my mind on Sankaranti to have authentic south Indian food visited \"Adduri Udupi Bhojana\" because it was close to my place.I just had a look at the menu told myself that I can do it(I am not blessed with a tremendous appetite).welcomed with the mango soup followed by the wide variety of dishes served, I have developed the new love for Pongal(both sweet and Khara).I can still feel the taste of the ghee bursting in my mouth but it was\"kai holige\" that made my day, crisp and soft.not to forget food is served on a banana leaf that adds in more flavor and taste.waiters are attentive and responsive.The customer\\'s needs are monitored and addressed.so much variety for just 160Rs without compromising on quantity and quality and yes it is unlimited.This visit turned out to be a surprise package.'), ('Rated 3.5', 'RATED\\n  Food is good.\\nNo parking\\nAmbience is average\\nOverall its value for money if you looking for south Indian food.\\nPreferred the tiffin items......'), ('Rated 3.0', \"RATED\\n  Been here last week with high expectations based on few reviews. But utterly disappointed with the food quality & taste. I feel it's an overhyped place! There are many better places in the vicinity for Plantain leaf meal. There was too much of waiting & these staffs were too hurry in serving food & asking people to finish meal & leave quickly. I can understand there is a waiting and staffs should approach in a positive way. I will never go there again!\\n\\nbangaloreepicure.com\"), ('Rated 4.0', 'RATED\\n  I have a confession, being a south Indian I distaste south Indian food(not that I hate it, I don\\'t like it either).But still made up my mind on Sankaranti to have authentic south Indian food visited \"Adduri Udupi Bhojana\" because it was close to my place.I just had a look at the menu told myself that I can do it(I am not blessed with a tremendous appetite).welcomed with the mango soup followed by the wide variety of dishes served, I have developed the new love for Pongal(both sweet and Khara).I can still feel the taste of the ghee bursting in my mouth but it was\"kai holige\" that made my day, crisp and soft.not to forget food is served on a banana leaf that adds in more flavor and taste.waiters are attentive and responsive.The customer\\'s needs are monitored and addressed.so much variety for just 160Rs without compromising on quantity and quality and yes it is unlimited.This visit turned out to be a surprise package.'), ('Rated 3.5', 'RATED\\n  Food is good.\\nNo parking\\nAmbience is average\\nOverall its value for money if you looking for south Indian food.\\nPreferred the tiffin items......'), ('Rated 3.0', \"RATED\\n  Been here last week with high expectations based on few reviews. But utterly disappointed with the food quality & taste. I feel it's an overhyped place! There are many better places in the vicinity for Plantain leaf meal. There was too much of waiting & these staffs were too hurry in serving food & asking people to finish meal & leave quickly. I can understand there is a waiting and staffs should approach in a positive way. I will never go there again!\\n\\nbangaloreepicure.com\"), ('Rated 4.0', 'RATED\\n  I have a confession, being a south Indian I distaste south Indian food(not that I hate it, I don\\'t like it either).But still made up my mind on Sankaranti to have authentic south Indian food visited \"Adduri Udupi Bhojana\" because it was close to my place.I just had a look at the menu told myself that I can do it(I am not blessed with a tremendous appetite).welcomed with the mango soup followed by the wide variety of dishes served, I have developed the new love for Pongal(both sweet and Khara).I can still feel the taste of the ghee bursting in my mouth but it was\"kai holige\" that made my day, crisp and soft.not to forget food is served on a banana leaf that adds in more flavor and taste.waiters are attentive and responsive.The customer\\'s needs are monitored and addressed.so much variety for just 160Rs without compromising on quantity and quality and yes it is unlimited.This visit turned out to be a surprise package.'), ('Rated 3.5', 'RATED\\n  Food is good.\\nNo parking\\nAmbience is average\\nOverall its value for money if you looking for south Indian food.\\nPreferred the tiffin items......'), ('Rated 3.0', \"RATED\\n  Been here last week with high expectations based on few reviews. But utterly disappointed with the food quality & taste. I feel it's an overhyped place! There are many better places in the vicinity for Plantain leaf meal. There was too much of waiting & these staffs were too hurry in serving food & asking people to finish meal & leave quickly. I can understand there is a waiting and staffs should approach in a positive way. I will never go there again!\\n\\nbangaloreepicure.com\"), ('Rated 4.0', 'RATED\\n  I have a confession, being a south Indian I distaste south Indian food(not that I hate it, I don\\'t like it either).But still made up my mind on Sankaranti to have authentic south Indian food visited \"Adduri Udupi Bhojana\" because it was close to my place.I just had a look at the menu told myself that I can do it(I am not blessed with a tremendous appetite).welcomed with the mango soup followed by the wide variety of dishes served, I have developed the new love for Pongal(both sweet and Khara).I can still feel the taste of the ghee bursting in my mouth but it was\"kai holige\" that made my day, crisp and soft.not to forget food is served on a banana leaf that adds in more flavor and taste.waiters are attentive and responsive.The customer\\'s needs are monitored and addressed.so much variety for just 160Rs without compromising on quantity and quality and yes it is unlimited.This visit turned out to be a surprise package.'), ('Rated 3.5', 'RATED\\n  Food is good.\\nNo parking\\nAmbience is average\\nOverall its value for money if you looking for south Indian food.\\nPreferred the tiffin items......'), ('Rated 4.0', \"RATED\\n  Had been on a week night for an authentic south Indian food. I personally love being served on banyan leaf. The waiters are all dressed up in traditional Mysore attire wearing with a peta. The food was delicious and definitely worth it's price. The waiters are friendly and serve u well with a smile. The food is prepared without garlic which is a plus point attracting many senior customers.\"), ('Rated 3.5', \"RATED\\n  Food is good and enjoyed. With 150 Rs. is very nice.\\nNote: (It happen with us)\\n - If you going TWO people, you may need to share the table there. Its almost crowed.\\n - You have to sit where they ask, you can't choose even if all the table are empty. \\nJust wait, eat and come back.\"), ('Rated 5.0', 'RATED\\n  Excellent Ambience with delicious meals with 10-15 variety types. Worth paying for money and you can dine out if you are with more friends/relatives in home.'), ('Rated 4.5', 'RATED\\n  Very good and Unlimited . especially masala dosa . Service and ambience was also good. will visit again with friends . very very reasonble and wholesome food'), ('Rated 3.5', 'RATED\\n  Aaaa wt to tell, Unlimited food, food was like exactly like south indian marriage food, 2 soups, sides masala dosa, all were unlimited for just ?150, except ice cream in the end ?? they give a water bottle, and main thing is have patience to get place to sit..... ??,there is no parking place of this outlet, and difficult to park in front of the restaurants,')]   \n",
       "4                                                                                                                                                                                                                                                                                                                                                                                                                                                                                                                                                                                                                                                                                                                                                                                                                                                                                                                                                                                                                                                                                                                                                                                                                                                                                                                                                                                                                                                                                                                                                                                                                                                                                                                                                                                                                                                                                                                                                                                                                                                                                                                                                                                                                                                                                                                                                                                                                                                                                                                                                                                                                                                                                                                                                                                                                                                                                                                                                                                                                                                                                                                                                                                                                                                                                                                                                                                                                                                                                                                                                                                                                                                                                                                                                                                                                                                                                                                                                                                                                                                                                                                                                                                                                                                                                                                                                                                                                                                                                                                                                                                                                                                                                                                                                                                                                                                                                                                                                                                                                                                                                                                                                                                                                                                                                                                                                                                                                                                                                                                                                                                                                                                                                                                                                                                                                                                                                                                                                                                                                                                                                                                                                                                                                                                                                                                                                                                                                                                                                                                                                                                                                                                                                                                                                                                                                                                                                                                                                                                                                                                                                                                                                                                                                                                                                                                                                                                                                                                                                                                                                                                                                                                                                                                                                                                                                                                                                                                                                                                                                                                                                                                                                                                                                                                                                                                                                                                                                                                                                                                                                                                                                                                                                                                                                                                                                                                                                                                                                                                                                                                                                                                                                                                                                                                                                                                                                                                                                                                                                                                                                                                                                                                                                                                                                                                                                                                                                                                                                                                                                                                                                                                                                                                                                                                                                                                                                                                                                                                                                                                                                                                                                                                                                                                                                                                                                                                                                                                                                                                                                                                                                                                                                                                                                                                                                                                                                                                                                                                                                                                                                                                                                                                                                                                                                                                                                                                                                                                                                                                                                                                                                                                                                                                                                                                                                                                                                                                                                                                                                                                                                                                                                                                                                                                                                                                                                                                                                                                                                                                                                                                                                                                                                                                                                                                                                                                                                                                                                                                                                                                                                                                                                                                                                                                                                                                                                                                                                                                                                                                                                                                                                                                                                                                                                                                                                                                                                                                                                                                                                                                                                                                                                                                                                                                                                                    [('Rated 4.0', 'RATED\\n  Very good restaurant in neighbourhood. Buffet system is properly arranged. Variety of dishes along with garba dance and puppet show. Good spread of desserts. Live paratha / Kulcha making'), ('Rated 4.0', 'RATED\\n  Great service, overwhelming experience.\\n\\nOne of its kind experience. Grand village offers you some very desi food options.\\n\\nJaljeera, buttermilk, chat papdi, bhajiya, dosa, pav bhaji, noodles, and so many curries kulcha, roti, and garama garam Jalebies, gulab jamuns.\\n\\nBeautiful ambience of village. People serving with smiles and with full heart !!\\n\\nSo here goes my overall ratings :\\nFood : 4/5\\nAmbience : 3.5/5\\nService : 4/5\\nPocket friendly : 4/5')]   \n",
       "...                                                                                                                                                                                                                                                                                                                                                                                                                                                                                                                                                                                                                                                                                                                                                                                                                                                                                                                                                                                                                                                                                                                                                                                                                                                                                                                                                                                                                                                                                                                                                                                                                                                                                                                                                                                                                                                                                                                                                                                                                                                                                                                                                                                                                                                                                                                                                                                                                                                                                                                                                                                                                                                                                                                                                                                                                                                                                                                                                                                                                                                                                                                                                                                                                                                                                                                                                                                                                                                                                                                                                                                                                                                                                                                                                                                                                                                                                                                                                                                                                                                                                                                                                                                                                                                                                                                                                                                                                                                                                                                                                                                                                                                                                                                                                                                                                                                                                                                                                                                                                                                                                                                                                                                                                                                                                                                                                                                                                                                                                                                                                                                                                                                                                                                                                                                                                                                                                                                                                                                                                                                                                                                                                                                                                                                                                                                                                                                                                                                                                                                                                                                                                                                                                                                                                                                                                                                                                                                                                                                                                                                                                                                                                                                                                                                                                                                                                                                                                                                                                                                                                                                                                                                                                                                                                                                                                                                                                                                                                                                                                                                                                                                                                                                                                                                                                                                                                                                                                                                                                                                                                                                                                                                                                                                                                                                                                                                                                                                                                                                                                                                                                                                                                                                                                                                                                                                                                                                                                                                                                                                                                                                                                                                                                                                                                                                                                                                                                                                                                                                                                                                                                                                                                                                                                                                                                                                                                                                                                                                                                                                                                                                                                                                                                                                                                                                                                                                                                                                                                                                                                                                                                                                                                                                                                                                                                                                                                                                                                                                                                                                                                                                                                                                                                                                                                                                                                                                                                                                                                                                                                                                                                                                                                                                                                                                                                                                                                                                                                                                                                                                                                                                                                                                                                                                                                                                                                                                                                                                                                                                                                                                                                                                                                                                                                                                                                                                                                                                                                                                                                                                                                                                                                                                                                                                                                                                                                                                                                                                                                                                                                                                                                                                                                                                                                                                                                                                                                                                                                                                                                                                                                                                                                                                                                                                                                                                                                                                                                                                                                                                                                                                                                                                                                                                                                                                                                                                                                                                                                                                                                             ...   \n",
       "51712                                                                                                                                                                                                                                                                                                                                                                                                                                                                                                                                                                                                                                                                                                                                                                                                                                                                                                                                                                                                                                                                                                                                                                                                                                                                                                                                                                                                                                                                                                                                                                                                                                                                                                                                                                                                                                                                                                                                                                                                                                                                                                                                                                                                                                                                                                                                                                                                                                                                                                                                                                                                                                                                                                                                                                                                                                                                                                                                                                                                                                                                                                                                                                                                                                                                                                                                                                                                                                                                                                                                                                                                                                                                                                                                                                                                                                                                                                                                                                                                                                                                                                                                                                                                                                                                                                                                                                                                                                                                                                                                                                                                                                                                                                                                                                                                                                                                                                                                                                                                                                                                                                                                                                                                                                                                                                                                                                                                                                                                                                                                                                                                                                                                                                                                                                                                                                                                                                                                                                                                                                                                                                                                                                                                                                                                                                                                                                                                                                                                                                                                                                                                                                                                                                                                                                                                                                                                                                                                                                                                                                                                                                                                                                                                                                                                                                                                                                                                                                                                                                                                                                                                                                                                                                                                                                                                                                                                                                                                                                                                                                                                                                                                                                                                                                                                                                                                                                                                                                                                                                                                                                                                                                                                                                                                                                                                                                                                                                                                                                                                                                                                                                                                                                                                                                                                                                                                                                                                                                                                                                                                                                                                                                                                                                                                                                                                                                                                                                                                                                                                                                                                                                                                                                                                                                                                                                                                                                                                                                                                                                                                                                                                                                                                                                                                                                                                                                                                                                                                                                                                                                                                                                                                                                                                                                                                                                                                                                                                                                                                                                                                                                                                                                 [('Rated 5.0', \"RATED\\n  Food and service are incomparably excellent. The service staff are attentive, polite, and always willing to go the extra mile to help. Sovon and Girish (pictured) are friendly and always helpful. I am here long term and I'm happy to have such an amazing group taking care of me.\"), ('Rated 3.5', \"RATED\\n  Decent food. Small Cody place. Can't complaint much cuz we got a good deal with Nearby. Their satay chicken is a must try. Peanut sauce was perfect. Good food, good service. But it lacks the vibe.\"), ('Rated 2.5', 'RATED\\n  Been for dinner buffet. Ambiance is very good. But food not as expected. Options are very less. Veg is pretty bad. Non veg is average. Desserts ok. Overall not satisfied.'), ('Rated 3.5', \"RATED\\n  Nice UpMKT place in Whitefield. Enjoyed my privacy and decor. Needed Alone time. but have to visit on weekend to check the place' real vibe .\"), ('Rated 5.0', 'RATED\\n  Best brew wall pictures and Ambient very nice.we had party last with my friends ,we have enjoyed party.bar attender has taken special care .\\nfood was tasty .'), ('Rated 5.0', 'RATED\\n  Good place to have cocktail parties,very courteous staff and awesome food.\\n\\nVery best location to have  dinner parties  in the Whitefield area.'), ('Rated 4.5', \"RATED\\n  Great ambiance and a good place to hangout in whitefield. Not just do they serve some delicious cocktails but also serve some great mocktails which not many bars do. So people like me who don't take alcohol can unwind with a glass of cocktails.\"), ('Rated 5.0', 'RATED\\n  Specially crafted innovative cocktails  steals the show. Ambience and the wall paintings reminds of old Bangalore. Nice quite place to enjoy drink out of the hassles from the city.'), ('Rated 5.0', 'RATED\\n  Great Ambiance reminds of the Old Bangalore a good variety of Cocktails and the Bartenders specialty to present in the most professional manner.'), ('Rated 5.0', 'RATED\\n  Service is very nice. Staff service was good. Ambience ok. Samshad took care everything very nicely and made evening very comfortable. Very calm and cool place to spend an evening.'), ('Rated 3.0', 'RATED\\n  They have arranged Valentine at poolside rooftop. Ambiance needs to be taken care .The place is nice but can be done in more nicer way. Finner things are missing so the table overlays. Food was just average and so the display. Food has been a problem with this hotel from the day of inception. But all succeeds the extra ordinary service by F & B team. Great guys and kudos to them. So much energy . Samshad was just awesome. His attitude, conversation all was super .He has gone out of the way to most of the tables to assist all the guest. Keep it up'), ('Rated 4.5', 'RATED\\n  @When I entered the bar, the Interier decoration specially the wall painting touched a lot to me.the concept of bar also nice.variety of sitting arrangement.well planned everything.staff also friendly and smiley,specially pankaj and deepak.'), ('Rated 5.0', 'RATED\\n  Do visit to try out best & innovative cocktails with crazy, yet cool. Stylish & creative. They know there job best to make sure every customer walkout with smile. Kudos to the team.'), ('Rated 5.0', 'RATED\\n  This is the best bar in Whitefield area they have awsome cocktails and some newly started starter it was really great time which I have spent with my friends.'), ('Rated 1.0', 'RATED\\n  Thought of a perfect dinner party and gone to Four seasons by sherton at Whitefeild on last week..Buffet served in Dinner was pathetic..Starters were sogy and not at all tasty..Main course and desserts also was poor.Not at all recommended..Total waste of money. :('), ('Rated 3.5', 'RATED\\n  Yet to start full fledged menu')]   \n",
       "51713                                                                                                                                                                                                                                                                                                                                                                                                                                                                                                                                                                                                                                                                                                                                                                                                                                                                                                                                                                                                                                                                                                                                                                                                                                                                                                                                                                                                                                                                                                                                                                                                                                                                                                                                                                                                                                                                                                                                                                                                                                                                                                                                                                                                                                                                                                                                                                                                                                                                                                                                                                                                                                                                                                                                                                                                                                                                                                                                                                                                                                                                                                                                                                                                                                                                                                                                                                                                                                                                                                                                                                                                                                                                                                                                                                                                                                                                                                                                                                                                                                                                                                                                                                                                                                                                                                                                                                                                                                                                                                                                                                                                                                                                                                                                                                                                                                                                                                                                                                                                                                                                                                                                                                                                                                                                                                                                                                                                                                                                                                                                                                                                                                                                                                                                                                                                                                                                                                                                                                                                                                                                                                                                                                                                                                                                                                                                                                                                                                                                                                                                                                                                                                                                                                                                                                                                                                                                                                                                                                                                                                                                                                                                                                                                                                                                                                                                                                                                                                                                                                                                                                                                                                                                                                                                                                                                                                                                                                                                                                                                                                                                                                                                                                                                                                                                                                                                                                                                                                                                                                                                                                                                                                                                                                                                                                                                                                                                                                                                                                                                                                                                                                                                                                                                                                                                                                                                                                                                                                                                                                                                                                                                                                                                                                                                                                                                                                                                                                                                                                                                                                                                                                                                                                                                                                                                                                                                                                                                                                                                                                                                                                                                                                                                                                                                                                                                                                                                                                                                                                                                                                                                                                                                                                                                                                                                                                                                                                                                                                                                                                                                                                                                                                                                                                                                                                                                                                                                                                                                                                                                                                                                                                                                                                                                                                                                                                                                                                                                                                                                                                                                                                                                                                                                                                                                                                                                                                                                                                                                                                                                                                                                                                                                                                                                                                                                                                                                                                                                                                                                                                                                                                                                                                                                                                                                                                                                                                                                                                                                                                                                                                                                                                                                                                                                                                                                                                                                                                                                                                                                                                                                                                                                                                                                                                                                                                                                                                                                                                                                                                                                                                                                                                                                                                                                                                                                                                                                                                                                                                                                                            []   \n",
       "51714                                                                                                                                                                                                                                                                                                                                                                                                                                                                                                                                                                                                                                                                                                                                                                                                                                                                                                                                                                                                                                                                                                                                                                                                                                                                                                                                                                                                                                                                                                                                                                                                                                                                                                                                                                                                                                                                                                                                                                                                                                                                                                                                                                                                                                                                                                                                                                                                                                                                                                                                                                                                                                                                                                                                                                                                                                                                                                                                                                                                                                                                                                                                                                                                                                                                                                                                                                                                                                                                                                                                                                                                                                                                                                                                                                                                                                                                                                                                                                                                                                                                                                                                                                                                                                                                                                                                                                                                                                                                                                                                                                                                                                                                                                                                                                                                                                                                                                                                                                                                                                                                                                                                                                                                                                                                                                                                                                                                                                                                                                                                                                                                                                                                                                                                                                                                                                                                                                                                                                                                                                                                                                                                                                                                                                                                                                                                                                                                                                                                                                                                                                                                                                                                                                                                                                                                                                                                                                                                                                                                                                                                                                                                                                                                                                                                                                                                                                                                                                                                                                                                                                                                                                                                                                                                                                                                                                                                                                                                                                                                                                                                                                                                                                                                                                                                                                                                                                                                                                                                                                                                                                                                                                                                                                                                                                                                                                                                                                                                                                                                                                                                                                                                                                                                                                                                                                                                                                                                                                                                                                                                                                                                                                                                                                                                                                                                                                                                                                                                                                                                                                                                                                                                                                                                                                                                                                                                                                                                                                                                                                                                                                                                                                                                                                                                                                                                                                                                                                                                                                                                                                                                                                                                                                                                                                                                                                                                                                                                                                                                                                                                                                                                                                                                                                                                                                                                                                                                                                                                                                                                                                                                                                                                                                                                                                                                                                                                                                                                                                                                                                                                                                                                                                                                                                                                                                                                                                                                                                                                                                                                                                                                                                                                                                                                                                                                                                                                                                                                                                                                                                                                                                                                                                                                                                                                                                                                                                                                                                                                                                                                                                                                                                                                                                                                                                                                                                                                                                                                                                                                                                                                                                                                                                                                                                                                                                                                                                                                                                                                                                                                                                                                                                                                                                                                                                                                                                                                                                                                                                                                                            []   \n",
       "51715                                                                                                                                                                                                                                                                                                                                                                                                                                                                                                                                                                                                                                                                                                                                                                                                                                                                                                                                                                                                                                                                                                                                                                                                                                                                                                                                                                                                                                                                                                                                                                                                                                                                                                                                                                                                                                                                                                                                                                                                                                                                                                                                                                                                                                                                                                                                                                                                                                                                                                                                                                                                                                                                                                                                                                                                                                                                                                                                                                                                                                                                                                                                                                                                                                                                                                                                                                                                                                                                                                                                                                                                                                                                                                                                                                                                                                                                                                                                                                                                                                                                                                                                                                                                                                                                                                                                                                                                                                                                                                                                                                                                                                                                                                                                                                                                                                                                                                                                                                                                                                                                                                                                                                                                                                                                                                                                                                                                                                                                                                                                                                                                                                                                                                                                                                                                                                                                                                                                                                                                                                                                                                                                                                                                                                                                                                                                                                                                                                                                                                                                                                                                                                                                                                                                                                                                                                                                                                                                                                                                                                                                                                                                                                                                                                                                                                                                                                                                                                                                                                                                                                                                                                                                                                                                                                                                                                                                                                                                                                                                                                                                                                                                                                                                                                                                                                                                                                                                                                                                                                                                                                                                                                                                                                                                                                                                                                                                                                                                                                                                                                                                                                                                                                                                                                                                                                                                                                                                                                                                                                                                                                                                                                                                                                                                                                                                                                                                                                                                                                                                                                                                                                                                                                                                                                                                                                                                                                                                                                                                                                                                                                                                                                                                                                                                                                                                                                                                                                                                                                                                                                                                                                                                                                                                                                                                                                                                                                                                                                                                                                                                                                                                                                                                                                                                                                                                                                                                                                                                                                                                                 [('Rated 4.0', 'RATED\\n  Nice and friendly place and staff is awesome. Ansur and karaoke singer is too good and Friday nights are The best night to visit this place. Drinks and food menu as usual match the service'), ('Rated 1.0', 'RATED\\n  The service is bad. We ordered 4 Stella Artois and they gave us expired bottles. When we asked them to replace it they were reluctant about it and asked me to drink the same bottle. However they changed it later after hassle. They billed us for food which we didnt eat also. They said they will call later but no response.\\nOrdered food from Feast(their restaurant) and the quality was fine. Their paneer and daal were good but checken pizza was uncooked and soggy. Their non veg platter was amazing though. Their mocktails are below average.\\nSuch kind of food and service is not expected from Sheraton.'), ('Rated 5.0', 'RATED\\n  Nice bar inside Sheraton. The hosts are friendly and helpful, service is quick. You can use marriot rewards here to earn discount and rewards'), ('Rated 5.0', \"RATED\\n  My review based on food drink service\\n\\nFood:- food was very good especially presentation of their food make you feel wow thanks to chef for their hard work it's truly awesome in taste\\n\\nDrink :- normally very few start hotel have good collection of cocktail this is the best Ã\\x83Ã\\x83Ã\\x82Ã\\x83Ã\\x83Ã\\x82Ã\\x82ÃÂ°Ã\\x83Ã\\x83Ã\\x82Ã\\x82Ã\\x83Ã\\x82Ã\\x82Ã\\x9fÃ\\x83Ã\\x83Ã\\x82Ã\\x82Ã\\x83Ã\\x82Ã\\x82Ã\\x8cÃ\\x83Ã\\x83Ã\\x82Ã\\x82Ã\\x83Ã\\x82Ã\\x82Ã\\x9f Ã\\x83Ã\\x83Ã\\x82Ã\\x83Ã\\x83Ã\\x82Ã\\x82ÃÂ°Ã\\x83Ã\\x83Ã\\x82Ã\\x82Ã\\x83Ã\\x82Ã\\x82Ã\\x9fÃ\\x83Ã\\x83Ã\\x82Ã\\x82Ã\\x83Ã\\x82Ã\\x82Ã\\x8cÃ\\x83Ã\\x83Ã\\x82Ã\\x82Ã\\x83Ã\\x82Ã\\x82Ã\\x9f Ã\\x83Ã\\x83Ã\\x82Ã\\x83Ã\\x83Ã\\x82Ã\\x82ÃÂ°Ã\\x83Ã\\x83Ã\\x82Ã\\x82Ã\\x83Ã\\x82Ã\\x82Ã\\x9fÃ\\x83Ã\\x83Ã\\x82Ã\\x82Ã\\x83Ã\\x82Ã\\x82Ã\\x8cÃ\\x83Ã\\x83Ã\\x82Ã\\x82Ã\\x83Ã\\x82Ã\\x82Ã\\x9f Ã\\x83Ã\\x83Ã\\x82Ã\\x83Ã\\x83Ã\\x82Ã\\x82ÃÂ°Ã\\x83Ã\\x83Ã\\x82Ã\\x82Ã\\x83Ã\\x82Ã\\x82Ã\\x9fÃ\\x83Ã\\x83Ã\\x82Ã\\x82Ã\\x83Ã\\x82Ã\\x82Ã\\x8cÃ\\x83Ã\\x83Ã\\x82Ã\\x82Ã\\x83Ã\\x82Ã\\x82Ã\\x9f Ã\\x83Ã\\x83Ã\\x82Ã\\x83Ã\\x83Ã\\x82Ã\\x82ÃÂ°Ã\\x83Ã\\x83Ã\\x82Ã\\x82Ã\\x83Ã\\x82Ã\\x82Ã\\x9fÃ\\x83Ã\\x83Ã\\x82Ã\\x82Ã\\x83Ã\\x82Ã\\x82Ã\\x8cÃ\\x83Ã\\x83Ã\\x82Ã\\x82Ã\\x83Ã\\x82Ã\\x82Ã\\x9f hotel where you will get good cocktail and bartender #AMIYA# if you are cocktail lover like me he is right person to make your drink I have tried out of the menu some cocktail I don't remember the name but I remember old fashioned but gin base here is the twist I liked thanks for good cocktail\\n\\nService:- as usual hotel service I am personally like very much because they are more professional to their work so no bad thing I have found on their service thanks for good service they made my day\\n\\nWe will visit again I will suggest everyone to visit once\"), ('Rated 5.0', 'RATED\\n  I visited chime bar at Sheraton hotel it was nice experience they making nice cocktail with nice food.i recommend to this hotel for visite and enjoy experience. Thanks to Ruben and amiya for service'), ('Rated 4.0', 'RATED\\n  This restaurant is situated inside grand Sheraton hotel. This place is quite luxurious. Food quality and service are really high with a luxurious ambience. But this place is purely recommended for business lunch or dinner or for some high level party.')]   \n",
       "51716                                                                                                                                                                                                                                                                                                                                                                                                                                                                                                                                                                                                                                                                                                                                                                                                                                                                                                                                                                                                                                                                                                                                                                                                                                                                                                                                                                                                                                                                                                                                                                                                                                                                                                                                                                                                                                                                                                                                                                                                                                                                                                                                                                                                                                                                                                                                                                                                                                                                                                                                                                                                                                                                                                                                                                                                                                                                                                                                                                                                                                                                                                                                                                                                                                                                                                                                                                                                                                                                                                                                                                                                                                                                                                                                                                                                                                                                                                                                                                                                                                                                                                                                                                                                                                                                                                                                                                                                                                                                                                                                                                                                                                                                                                                                                                                                                                                                                                                                                                                                                                                                                                                                                                                                                                                                                                                                                                                                                                                                                                                                                                                                                                                                                                                                                                                                                                                                                                                                                                                                                                                                                                                                                                                                                                                                                                                                                                                                                                                                                                                                                                                                                                                                                                                                                                                                                                                                                                                                                                                                                                                                                                                                                                                                                                                                                                                                                                                                                                                                                                                                                                                                                                                                                                                                                                                                                                                                                                                                                                                                                                                                                                                                                                                                                                                                                                                                                                                                                                                                                                                                                                                                                                                                                                                                                                                                                                                                                                                                                                                                                                                                                                                                                                                                                                                                                                                                                                                                                                                                                                                                                                                                                                                                                                                                                                                                                                                                                                                                                                                                                                                                                                                                                                                                                                                                                                                                                                                                                                                                                                                                                                                                                                                                                                                                                                                                                                                                                                                                                                                                                                                                                                                                                                                                                                                                                                                                                                                                                                                                                                                                                                                                                                                                                                                                                                                                                                                                                                                                                                                                                                                                                                                                                                                                                                                                                                                                                                                                                                                                                                                                                                                                                                                                                                                                                                                                                                                                                                                                                                                                                                                                                                                                                                                                                                                                                                                                                                                                                                                                                                                                                                                                                                                                                                                                                                                                                                                                                                                                                                                                                                                                                                                                                                                                                                                                                                                                                                                                                                                                                                             [('Rated 5.0', 'RATED\\n  Great ambience , looking nice good selection of food and cocktail all staffs are good and friendly Specially thanks to Ms. HELEN who take care our table ...Ã\\x83Ã\\x83Ã\\x82Ã\\x83Ã\\x83Ã\\x82Ã\\x82ÃÂ°Ã\\x83Ã\\x83Ã\\x82Ã\\x82Ã\\x83Ã\\x82Ã\\x82Ã\\x9fÃ\\x83Ã\\x83Ã\\x82Ã\\x82Ã\\x83Ã\\x82Ã\\x82Ã\\x98Ã\\x83Ã\\x83Ã\\x82Ã\\x82Ã\\x83Ã\\x82Ã\\x82Ã\\x98Ã\\x83Ã\\x83Ã\\x82Ã\\x83Ã\\x83Ã\\x82Ã\\x82ÃÂ°Ã\\x83Ã\\x83Ã\\x82Ã\\x82Ã\\x83Ã\\x82Ã\\x82Ã\\x9fÃ\\x83Ã\\x83Ã\\x82Ã\\x82Ã\\x83Ã\\x82Ã\\x82Ã\\x98Ã\\x83Ã\\x83Ã\\x82Ã\\x82Ã\\x83Ã\\x82Ã\\x82Ã\\x98'), ('Rated 5.0', 'RATED\\n  The nest is one of the best bar in Whitefield.The place is absolutely mind blowing and the ambiance here is also amazing.I would recommend this place for best cocktail and mocktails which really refreshing.The food was really good and the staffs are very kind and quick as well .I would specially thanks to miss Helen for making my evening very special.')]   \n",
       "\n",
       "      menu_item listed_as_type listed_in_city  rate_float  \n",
       "0            []         Buffet   Banashankari         4.1  \n",
       "1            []         Buffet   Banashankari         4.1  \n",
       "2            []         Buffet   Banashankari         3.8  \n",
       "3            []         Buffet   Banashankari         3.7  \n",
       "4            []         Buffet   Banashankari         3.8  \n",
       "...         ...            ...            ...         ...  \n",
       "51712        []  Pubs and bars     Whitefield         3.6  \n",
       "51713        []  Pubs and bars     Whitefield         NaN  \n",
       "51714        []  Pubs and bars     Whitefield         NaN  \n",
       "51715        []  Pubs and bars     Whitefield         4.3  \n",
       "51716        []  Pubs and bars     Whitefield         3.4  \n",
       "\n",
       "[51717 rows x 17 columns]"
      ]
     },
     "execution_count": 87,
     "metadata": {},
     "output_type": "execute_result"
    }
   ],
   "source": [
    "df_zomato"
   ]
  },
  {
   "cell_type": "code",
   "execution_count": 89,
   "id": "10e7ed8b-2c51-48b3-8c13-27d76f4706db",
   "metadata": {},
   "outputs": [
    {
     "name": "stdout",
     "output_type": "stream",
     "text": [
      "3.700448817952718\n"
     ]
    }
   ],
   "source": [
    "# calculate the average (mean) of the \"rate_float\" column\n",
    "average_rate = df_zomato['rate_float'].mean()\n",
    "print(average_rate)"
   ]
  },
  {
   "cell_type": "code",
   "execution_count": 91,
   "id": "6fd37307-c533-486a-a782-1ba616205f49",
   "metadata": {},
   "outputs": [
    {
     "name": "stderr",
     "output_type": "stream",
     "text": [
      "/var/folders/l6/kxjkdn9x2hz2slywnf_9gymm0000gp/T/ipykernel_81838/672488469.py:2: FutureWarning: A value is trying to be set on a copy of a DataFrame or Series through chained assignment using an inplace method.\n",
      "The behavior will change in pandas 3.0. This inplace method will never work because the intermediate object on which we are setting values always behaves as a copy.\n",
      "\n",
      "For example, when doing 'df[col].method(value, inplace=True)', try using 'df.method({col: value}, inplace=True)' or df[col] = df[col].method(value) instead, to perform the operation inplace on the original object.\n",
      "\n",
      "\n",
      "  df_zomato['rate_float'].fillna(df_zomato['rate_float'].mean(), inplace=True)\n"
     ]
    }
   ],
   "source": [
    "# impute the missing values in the \"rate_float\" column with the mean \n",
    "df_zomato['rate_float'].fillna(df_zomato['rate_float'].mean(), inplace=True)"
   ]
  },
  {
   "cell_type": "code",
   "execution_count": 97,
   "id": "cfa3dd66-c5ca-4211-a87f-7901fbea03f2",
   "metadata": {},
   "outputs": [],
   "source": [
    "# fixed code\n",
    "df_zomato['rate_float'] = df_zomato['rate_float'].fillna(df_zomato['rate_float'].mean())"
   ]
  },
  {
   "cell_type": "code",
   "execution_count": 99,
   "id": "4e69a834-ff95-4532-84c9-0c91ecde878a",
   "metadata": {},
   "outputs": [
    {
     "data": {
      "text/plain": [
       "0"
      ]
     },
     "execution_count": 99,
     "metadata": {},
     "output_type": "execute_result"
    }
   ],
   "source": [
    "# check for missing values in the rate_float column\n",
    "df_zomato['rate_float'].isnull().sum()"
   ]
  },
  {
   "cell_type": "code",
   "execution_count": 101,
   "id": "b987322e-3f7b-4f3a-a71a-f9675f5e976a",
   "metadata": {},
   "outputs": [
    {
     "data": {
      "text/plain": [
       "0"
      ]
     },
     "execution_count": 101,
     "metadata": {},
     "output_type": "execute_result"
    }
   ],
   "source": [
    "# Drop records with missing values in column \"location\"\n",
    "df_zomato = df_zomato.dropna(subset=['location'])\n",
    "df_zomato['location'].isnull().sum()"
   ]
  },
  {
   "cell_type": "code",
   "execution_count": 103,
   "id": "079284d9-b6cd-4b85-a104-d2e91a91c4fd",
   "metadata": {},
   "outputs": [
    {
     "data": {
      "text/plain": [
       "0"
      ]
     },
     "execution_count": 103,
     "metadata": {},
     "output_type": "execute_result"
    }
   ],
   "source": [
    "# Drop records with missing values in column \"rest_type\"\n",
    "df_zomato = df_zomato.dropna(subset=['rest_type'])\n",
    "df_zomato['rest_type'].isnull().sum()"
   ]
  },
  {
   "cell_type": "code",
   "execution_count": 105,
   "id": "107a9d36-4c32-435e-bde0-25b0cc9f9046",
   "metadata": {},
   "outputs": [
    {
     "data": {
      "text/plain": [
       "0"
      ]
     },
     "execution_count": 105,
     "metadata": {},
     "output_type": "execute_result"
    }
   ],
   "source": [
    "# Drop records with missing values in column \"cuisines\"\n",
    "df_zomato = df_zomato.dropna(subset=['cuisines'])\n",
    "df_zomato['cuisines'].isnull().sum()"
   ]
  },
  {
   "cell_type": "code",
   "execution_count": 107,
   "id": "e069d430-6de9-454f-b554-8c2badba9411",
   "metadata": {},
   "outputs": [
    {
     "data": {
      "text/plain": [
       "0"
      ]
     },
     "execution_count": 107,
     "metadata": {},
     "output_type": "execute_result"
    }
   ],
   "source": [
    "# Drop records with missing values in column \"approx_cost_2ppl\"\n",
    "df_zomato = df_zomato.dropna(subset=['approx_cost_2ppl'])\n",
    "df_zomato['approx_cost_2ppl'].isnull().sum()\n"
   ]
  },
  {
   "cell_type": "code",
   "execution_count": 109,
   "id": "7ff30f7a-fbd1-4152-b403-46a26207c79d",
   "metadata": {},
   "outputs": [
    {
     "data": {
      "text/plain": [
       "dtype('O')"
      ]
     },
     "execution_count": 109,
     "metadata": {},
     "output_type": "execute_result"
    }
   ],
   "source": [
    "# assign the data type string to all values in the location column\n",
    "df_zomato['location'] = df_zomato['location'].astype(str)\n",
    "df_zomato['location'].dtype"
   ]
  },
  {
   "cell_type": "code",
   "execution_count": 111,
   "id": "ca6611f1-fd91-461f-ace8-22103db86d0d",
   "metadata": {},
   "outputs": [
    {
     "data": {
      "text/plain": [
       "dtype('O')"
      ]
     },
     "execution_count": 111,
     "metadata": {},
     "output_type": "execute_result"
    }
   ],
   "source": [
    "# assign the data type string to all values in the rest_type column\n",
    "df_zomato['rest_type'] = df_zomato['rest_type'].astype(str)\n",
    "df_zomato['rest_type'].dtype"
   ]
  },
  {
   "cell_type": "code",
   "execution_count": 113,
   "id": "7e974a56-33bc-42e5-9f05-7f10a0de293f",
   "metadata": {},
   "outputs": [
    {
     "data": {
      "text/plain": [
       "dtype('O')"
      ]
     },
     "execution_count": 113,
     "metadata": {},
     "output_type": "execute_result"
    }
   ],
   "source": [
    "# assign the data type string to all values in the dish_liked column\n",
    "df_zomato['dish_liked'] = df_zomato['dish_liked'].astype(str)\n",
    "df_zomato['dish_liked'].dtype"
   ]
  },
  {
   "cell_type": "code",
   "execution_count": 115,
   "id": "84e29e33-165a-4f1f-bc48-262a638c4100",
   "metadata": {},
   "outputs": [
    {
     "data": {
      "text/plain": [
       "dtype('O')"
      ]
     },
     "execution_count": 115,
     "metadata": {},
     "output_type": "execute_result"
    }
   ],
   "source": [
    "# assign the data type string to all values in the cuisines column\n",
    "df_zomato['cuisines'] = df_zomato['cuisines'].astype(str)\n",
    "df_zomato['cuisines'].dtype"
   ]
  },
  {
   "cell_type": "code",
   "execution_count": 117,
   "id": "0b65ce8c-dde7-411e-a974-d6a6604504be",
   "metadata": {},
   "outputs": [
    {
     "ename": "ValueError",
     "evalue": "invalid literal for int() with base 10: '1,200'",
     "output_type": "error",
     "traceback": [
      "\u001b[0;31m---------------------------------------------------------------------------\u001b[0m",
      "\u001b[0;31mValueError\u001b[0m                                Traceback (most recent call last)",
      "Cell \u001b[0;32mIn[117], line 2\u001b[0m\n\u001b[1;32m      1\u001b[0m \u001b[38;5;66;03m# assign the integer data type to all values in the column \"approx_cost_2ppl\"\u001b[39;00m\n\u001b[0;32m----> 2\u001b[0m df_zomato[\u001b[38;5;124m'\u001b[39m\u001b[38;5;124mapprox_cost_2ppl\u001b[39m\u001b[38;5;124m'\u001b[39m] \u001b[38;5;241m=\u001b[39m df_zomato[\u001b[38;5;124m'\u001b[39m\u001b[38;5;124mapprox_cost_2ppl\u001b[39m\u001b[38;5;124m'\u001b[39m]\u001b[38;5;241m.\u001b[39mastype(\u001b[38;5;28mint\u001b[39m)\n\u001b[1;32m      3\u001b[0m df_zomato[\u001b[38;5;124m'\u001b[39m\u001b[38;5;124mapprox_cost_2ppl\u001b[39m\u001b[38;5;124m'\u001b[39m]\u001b[38;5;241m.\u001b[39mdtype\n",
      "File \u001b[0;32m~/Desktop/SAP_Signavio/_Training_Learning/_DATA_ANALYST/_Anaconda/anaconda3/lib/python3.12/site-packages/pandas/core/generic.py:6643\u001b[0m, in \u001b[0;36mNDFrame.astype\u001b[0;34m(self, dtype, copy, errors)\u001b[0m\n\u001b[1;32m   6637\u001b[0m     results \u001b[38;5;241m=\u001b[39m [\n\u001b[1;32m   6638\u001b[0m         ser\u001b[38;5;241m.\u001b[39mastype(dtype, copy\u001b[38;5;241m=\u001b[39mcopy, errors\u001b[38;5;241m=\u001b[39merrors) \u001b[38;5;28;01mfor\u001b[39;00m _, ser \u001b[38;5;129;01min\u001b[39;00m \u001b[38;5;28mself\u001b[39m\u001b[38;5;241m.\u001b[39mitems()\n\u001b[1;32m   6639\u001b[0m     ]\n\u001b[1;32m   6641\u001b[0m \u001b[38;5;28;01melse\u001b[39;00m:\n\u001b[1;32m   6642\u001b[0m     \u001b[38;5;66;03m# else, only a single dtype is given\u001b[39;00m\n\u001b[0;32m-> 6643\u001b[0m     new_data \u001b[38;5;241m=\u001b[39m \u001b[38;5;28mself\u001b[39m\u001b[38;5;241m.\u001b[39m_mgr\u001b[38;5;241m.\u001b[39mastype(dtype\u001b[38;5;241m=\u001b[39mdtype, copy\u001b[38;5;241m=\u001b[39mcopy, errors\u001b[38;5;241m=\u001b[39merrors)\n\u001b[1;32m   6644\u001b[0m     res \u001b[38;5;241m=\u001b[39m \u001b[38;5;28mself\u001b[39m\u001b[38;5;241m.\u001b[39m_constructor_from_mgr(new_data, axes\u001b[38;5;241m=\u001b[39mnew_data\u001b[38;5;241m.\u001b[39maxes)\n\u001b[1;32m   6645\u001b[0m     \u001b[38;5;28;01mreturn\u001b[39;00m res\u001b[38;5;241m.\u001b[39m__finalize__(\u001b[38;5;28mself\u001b[39m, method\u001b[38;5;241m=\u001b[39m\u001b[38;5;124m\"\u001b[39m\u001b[38;5;124mastype\u001b[39m\u001b[38;5;124m\"\u001b[39m)\n",
      "File \u001b[0;32m~/Desktop/SAP_Signavio/_Training_Learning/_DATA_ANALYST/_Anaconda/anaconda3/lib/python3.12/site-packages/pandas/core/internals/managers.py:430\u001b[0m, in \u001b[0;36mBaseBlockManager.astype\u001b[0;34m(self, dtype, copy, errors)\u001b[0m\n\u001b[1;32m    427\u001b[0m \u001b[38;5;28;01melif\u001b[39;00m using_copy_on_write():\n\u001b[1;32m    428\u001b[0m     copy \u001b[38;5;241m=\u001b[39m \u001b[38;5;28;01mFalse\u001b[39;00m\n\u001b[0;32m--> 430\u001b[0m \u001b[38;5;28;01mreturn\u001b[39;00m \u001b[38;5;28mself\u001b[39m\u001b[38;5;241m.\u001b[39mapply(\n\u001b[1;32m    431\u001b[0m     \u001b[38;5;124m\"\u001b[39m\u001b[38;5;124mastype\u001b[39m\u001b[38;5;124m\"\u001b[39m,\n\u001b[1;32m    432\u001b[0m     dtype\u001b[38;5;241m=\u001b[39mdtype,\n\u001b[1;32m    433\u001b[0m     copy\u001b[38;5;241m=\u001b[39mcopy,\n\u001b[1;32m    434\u001b[0m     errors\u001b[38;5;241m=\u001b[39merrors,\n\u001b[1;32m    435\u001b[0m     using_cow\u001b[38;5;241m=\u001b[39musing_copy_on_write(),\n\u001b[1;32m    436\u001b[0m )\n",
      "File \u001b[0;32m~/Desktop/SAP_Signavio/_Training_Learning/_DATA_ANALYST/_Anaconda/anaconda3/lib/python3.12/site-packages/pandas/core/internals/managers.py:363\u001b[0m, in \u001b[0;36mBaseBlockManager.apply\u001b[0;34m(self, f, align_keys, **kwargs)\u001b[0m\n\u001b[1;32m    361\u001b[0m         applied \u001b[38;5;241m=\u001b[39m b\u001b[38;5;241m.\u001b[39mapply(f, \u001b[38;5;241m*\u001b[39m\u001b[38;5;241m*\u001b[39mkwargs)\n\u001b[1;32m    362\u001b[0m     \u001b[38;5;28;01melse\u001b[39;00m:\n\u001b[0;32m--> 363\u001b[0m         applied \u001b[38;5;241m=\u001b[39m \u001b[38;5;28mgetattr\u001b[39m(b, f)(\u001b[38;5;241m*\u001b[39m\u001b[38;5;241m*\u001b[39mkwargs)\n\u001b[1;32m    364\u001b[0m     result_blocks \u001b[38;5;241m=\u001b[39m extend_blocks(applied, result_blocks)\n\u001b[1;32m    366\u001b[0m out \u001b[38;5;241m=\u001b[39m \u001b[38;5;28mtype\u001b[39m(\u001b[38;5;28mself\u001b[39m)\u001b[38;5;241m.\u001b[39mfrom_blocks(result_blocks, \u001b[38;5;28mself\u001b[39m\u001b[38;5;241m.\u001b[39maxes)\n",
      "File \u001b[0;32m~/Desktop/SAP_Signavio/_Training_Learning/_DATA_ANALYST/_Anaconda/anaconda3/lib/python3.12/site-packages/pandas/core/internals/blocks.py:758\u001b[0m, in \u001b[0;36mBlock.astype\u001b[0;34m(self, dtype, copy, errors, using_cow, squeeze)\u001b[0m\n\u001b[1;32m    755\u001b[0m         \u001b[38;5;28;01mraise\u001b[39;00m \u001b[38;5;167;01mValueError\u001b[39;00m(\u001b[38;5;124m\"\u001b[39m\u001b[38;5;124mCan not squeeze with more than one column.\u001b[39m\u001b[38;5;124m\"\u001b[39m)\n\u001b[1;32m    756\u001b[0m     values \u001b[38;5;241m=\u001b[39m values[\u001b[38;5;241m0\u001b[39m, :]  \u001b[38;5;66;03m# type: ignore[call-overload]\u001b[39;00m\n\u001b[0;32m--> 758\u001b[0m new_values \u001b[38;5;241m=\u001b[39m astype_array_safe(values, dtype, copy\u001b[38;5;241m=\u001b[39mcopy, errors\u001b[38;5;241m=\u001b[39merrors)\n\u001b[1;32m    760\u001b[0m new_values \u001b[38;5;241m=\u001b[39m maybe_coerce_values(new_values)\n\u001b[1;32m    762\u001b[0m refs \u001b[38;5;241m=\u001b[39m \u001b[38;5;28;01mNone\u001b[39;00m\n",
      "File \u001b[0;32m~/Desktop/SAP_Signavio/_Training_Learning/_DATA_ANALYST/_Anaconda/anaconda3/lib/python3.12/site-packages/pandas/core/dtypes/astype.py:237\u001b[0m, in \u001b[0;36mastype_array_safe\u001b[0;34m(values, dtype, copy, errors)\u001b[0m\n\u001b[1;32m    234\u001b[0m     dtype \u001b[38;5;241m=\u001b[39m dtype\u001b[38;5;241m.\u001b[39mnumpy_dtype\n\u001b[1;32m    236\u001b[0m \u001b[38;5;28;01mtry\u001b[39;00m:\n\u001b[0;32m--> 237\u001b[0m     new_values \u001b[38;5;241m=\u001b[39m astype_array(values, dtype, copy\u001b[38;5;241m=\u001b[39mcopy)\n\u001b[1;32m    238\u001b[0m \u001b[38;5;28;01mexcept\u001b[39;00m (\u001b[38;5;167;01mValueError\u001b[39;00m, \u001b[38;5;167;01mTypeError\u001b[39;00m):\n\u001b[1;32m    239\u001b[0m     \u001b[38;5;66;03m# e.g. _astype_nansafe can fail on object-dtype of strings\u001b[39;00m\n\u001b[1;32m    240\u001b[0m     \u001b[38;5;66;03m#  trying to convert to float\u001b[39;00m\n\u001b[1;32m    241\u001b[0m     \u001b[38;5;28;01mif\u001b[39;00m errors \u001b[38;5;241m==\u001b[39m \u001b[38;5;124m\"\u001b[39m\u001b[38;5;124mignore\u001b[39m\u001b[38;5;124m\"\u001b[39m:\n",
      "File \u001b[0;32m~/Desktop/SAP_Signavio/_Training_Learning/_DATA_ANALYST/_Anaconda/anaconda3/lib/python3.12/site-packages/pandas/core/dtypes/astype.py:182\u001b[0m, in \u001b[0;36mastype_array\u001b[0;34m(values, dtype, copy)\u001b[0m\n\u001b[1;32m    179\u001b[0m     values \u001b[38;5;241m=\u001b[39m values\u001b[38;5;241m.\u001b[39mastype(dtype, copy\u001b[38;5;241m=\u001b[39mcopy)\n\u001b[1;32m    181\u001b[0m \u001b[38;5;28;01melse\u001b[39;00m:\n\u001b[0;32m--> 182\u001b[0m     values \u001b[38;5;241m=\u001b[39m _astype_nansafe(values, dtype, copy\u001b[38;5;241m=\u001b[39mcopy)\n\u001b[1;32m    184\u001b[0m \u001b[38;5;66;03m# in pandas we don't store numpy str dtypes, so convert to object\u001b[39;00m\n\u001b[1;32m    185\u001b[0m \u001b[38;5;28;01mif\u001b[39;00m \u001b[38;5;28misinstance\u001b[39m(dtype, np\u001b[38;5;241m.\u001b[39mdtype) \u001b[38;5;129;01mand\u001b[39;00m \u001b[38;5;28missubclass\u001b[39m(values\u001b[38;5;241m.\u001b[39mdtype\u001b[38;5;241m.\u001b[39mtype, \u001b[38;5;28mstr\u001b[39m):\n",
      "File \u001b[0;32m~/Desktop/SAP_Signavio/_Training_Learning/_DATA_ANALYST/_Anaconda/anaconda3/lib/python3.12/site-packages/pandas/core/dtypes/astype.py:133\u001b[0m, in \u001b[0;36m_astype_nansafe\u001b[0;34m(arr, dtype, copy, skipna)\u001b[0m\n\u001b[1;32m    129\u001b[0m     \u001b[38;5;28;01mraise\u001b[39;00m \u001b[38;5;167;01mValueError\u001b[39;00m(msg)\n\u001b[1;32m    131\u001b[0m \u001b[38;5;28;01mif\u001b[39;00m copy \u001b[38;5;129;01mor\u001b[39;00m arr\u001b[38;5;241m.\u001b[39mdtype \u001b[38;5;241m==\u001b[39m \u001b[38;5;28mobject\u001b[39m \u001b[38;5;129;01mor\u001b[39;00m dtype \u001b[38;5;241m==\u001b[39m \u001b[38;5;28mobject\u001b[39m:\n\u001b[1;32m    132\u001b[0m     \u001b[38;5;66;03m# Explicit copy, or required since NumPy can't view from / to object.\u001b[39;00m\n\u001b[0;32m--> 133\u001b[0m     \u001b[38;5;28;01mreturn\u001b[39;00m arr\u001b[38;5;241m.\u001b[39mastype(dtype, copy\u001b[38;5;241m=\u001b[39m\u001b[38;5;28;01mTrue\u001b[39;00m)\n\u001b[1;32m    135\u001b[0m \u001b[38;5;28;01mreturn\u001b[39;00m arr\u001b[38;5;241m.\u001b[39mastype(dtype, copy\u001b[38;5;241m=\u001b[39mcopy)\n",
      "\u001b[0;31mValueError\u001b[0m: invalid literal for int() with base 10: '1,200'"
     ]
    }
   ],
   "source": [
    "# assign the integer data type to all values in the column \"approx_cost_2ppl\"\n",
    "df_zomato['approx_cost_2ppl'] = df_zomato['approx_cost_2ppl'].astype(int)\n",
    "df_zomato['approx_cost_2ppl'].dtype"
   ]
  },
  {
   "cell_type": "code",
   "execution_count": 119,
   "id": "60b28c9d-2922-46b1-bf43-83f0dd4cecbc",
   "metadata": {},
   "outputs": [
    {
     "data": {
      "text/plain": [
       "dtype('int64')"
      ]
     },
     "execution_count": 119,
     "metadata": {},
     "output_type": "execute_result"
    }
   ],
   "source": [
    "# remove the commas from the values and then convert them to integers\n",
    "df_zomato['approx_cost_2ppl'] = df_zomato['approx_cost_2ppl'].replace({',': ''}, regex=True).astype(float).astype(int)\n",
    "df_zomato['approx_cost_2ppl'].dtype"
   ]
  },
  {
   "cell_type": "code",
   "execution_count": 121,
   "id": "fd79c6f6-97b1-4bfc-9508-76190813242a",
   "metadata": {},
   "outputs": [
    {
     "data": {
      "text/plain": [
       "(51148, 17)"
      ]
     },
     "execution_count": 121,
     "metadata": {},
     "output_type": "execute_result"
    }
   ],
   "source": [
    "df_zomato.shape"
   ]
  },
  {
   "cell_type": "code",
   "execution_count": 125,
   "id": "f0b29393-1910-41d0-aefe-08c043ff20e4",
   "metadata": {},
   "outputs": [
    {
     "name": "stdout",
     "output_type": "stream",
     "text": [
      "<class 'pandas.core.frame.DataFrame'>\n",
      "Index: 51148 entries, 0 to 51716\n",
      "Data columns (total 17 columns):\n",
      " #   Column            Non-Null Count  Dtype  \n",
      "---  ------            --------------  -----  \n",
      " 0   url               51148 non-null  object \n",
      " 1   address           51148 non-null  object \n",
      " 2   name              51148 non-null  object \n",
      " 3   online_order      51148 non-null  object \n",
      " 4   book_table        51148 non-null  object \n",
      " 5   rate              43533 non-null  object \n",
      " 6   votes             51148 non-null  int64  \n",
      " 7   location          51148 non-null  object \n",
      " 8   rest_type         51148 non-null  object \n",
      " 9   dish_liked        51148 non-null  object \n",
      " 10  cuisines          51148 non-null  object \n",
      " 11  approx_cost_2ppl  51148 non-null  int64  \n",
      " 12  reviews_list      51148 non-null  object \n",
      " 13  menu_item         51148 non-null  object \n",
      " 14  listed_as_type    51148 non-null  object \n",
      " 15  listed_in_city    51148 non-null  object \n",
      " 16  rate_float        51148 non-null  float64\n",
      "dtypes: float64(1), int64(2), object(14)\n",
      "memory usage: 7.0+ MB\n"
     ]
    }
   ],
   "source": [
    "# Show column data types\n",
    "df_zomato.info()"
   ]
  },
  {
   "cell_type": "code",
   "execution_count": 127,
   "id": "1a81e08c-22c0-4b28-a52c-3f6ff28c8bef",
   "metadata": {},
   "outputs": [
    {
     "name": "stdout",
     "output_type": "stream",
     "text": [
      "               votes  approx_cost_2ppl    rate_float\n",
      "count   51148.000000      51148.000000  51148.000000\n",
      "mean      284.917885        556.043736      3.701709\n",
      "median     41.000000        400.000000      3.700449\n",
      "std       806.495210        439.555299      0.395188\n",
      "min         0.000000         40.000000      1.800000\n",
      "max     16832.000000       6000.000000      4.900000\n"
     ]
    }
   ],
   "source": [
    "# calculate count, mean, median, standard deviation, min, and max for numerical columns\n",
    "# Selecting only numeric columns for statistical analysis\n",
    "numeric_columns = df_zomato.select_dtypes(include=['number'])\n",
    "\n",
    "# Calculating descriptive statistics\n",
    "summary_stats = numeric_columns.agg(['count', 'mean', 'median', 'std', 'min', 'max'])\n",
    "\n",
    "# Display the result\n",
    "print(summary_stats)"
   ]
  },
  {
   "cell_type": "code",
   "execution_count": 129,
   "id": "68bc9808-a519-4722-8aa2-868dd4d113ec",
   "metadata": {},
   "outputs": [
    {
     "data": {
      "text/plain": [
       "array(['Banashankari', 'Bannerghatta Road', 'Basavanagudi', 'Bellandur',\n",
       "       'Brigade Road', 'Brookefield', 'BTM', 'Church Street',\n",
       "       'Electronic City', 'Frazer Town', 'HSR', 'Indiranagar',\n",
       "       'Jayanagar', 'JP Nagar', 'Kalyan Nagar', 'Kammanahalli',\n",
       "       'Koramangala 4th Block', 'Koramangala 5th Block',\n",
       "       'Koramangala 6th Block', 'Koramangala 7th Block', 'Lavelle Road',\n",
       "       'Malleshwaram', 'Marathahalli', 'MG Road', 'New BEL Road',\n",
       "       'Old Airport Road', 'Rajajinagar', 'Residency Road',\n",
       "       'Sarjapur Road', 'Whitefield'], dtype=object)"
      ]
     },
     "execution_count": 129,
     "metadata": {},
     "output_type": "execute_result"
    }
   ],
   "source": [
    "df_zomato[\"listed_in_city\"].unique()"
   ]
  },
  {
   "cell_type": "code",
   "execution_count": 131,
   "id": "9b586c87-2602-4476-a7bc-84ab4f1354a8",
   "metadata": {},
   "outputs": [],
   "source": [
    "# Export cleaned data \n",
    "df_zomato.to_csv(os.path.join(r'/Users/.../Documents/Zomato Analysis/02 - Data/Prepared Data/zomato_cleaned.csv'))"
   ]
  },
  {
   "cell_type": "code",
   "execution_count": null,
   "id": "98626fa5-3c69-45e9-85a2-be1c7056c97f",
   "metadata": {},
   "outputs": [],
   "source": []
  },
  {
   "cell_type": "code",
   "execution_count": null,
   "id": "32d18ce2-ec86-49d4-a48c-a2ea00dfa422",
   "metadata": {},
   "outputs": [],
   "source": []
  },
  {
   "cell_type": "code",
   "execution_count": null,
   "id": "b577469f-7708-401d-97e0-ba03f73a92f4",
   "metadata": {},
   "outputs": [],
   "source": []
  },
  {
   "cell_type": "code",
   "execution_count": null,
   "id": "36a5e50c-0234-4aac-bb94-4464dfcfdb14",
   "metadata": {},
   "outputs": [],
   "source": []
  },
  {
   "cell_type": "code",
   "execution_count": null,
   "id": "db3b3957-16a3-4cd5-94bd-09160a3336c1",
   "metadata": {},
   "outputs": [],
   "source": []
  }
 ],
 "metadata": {
  "kernelspec": {
   "display_name": "Python [conda env:base] *",
   "language": "python",
   "name": "conda-base-py"
  },
  "language_info": {
   "codemirror_mode": {
    "name": "ipython",
    "version": 3
   },
   "file_extension": ".py",
   "mimetype": "text/x-python",
   "name": "python",
   "nbconvert_exporter": "python",
   "pygments_lexer": "ipython3",
   "version": "3.12.7"
  }
 },
 "nbformat": 4,
 "nbformat_minor": 5
}
